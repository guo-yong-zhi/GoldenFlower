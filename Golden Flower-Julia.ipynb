{
 "cells": [
  {
   "cell_type": "markdown",
   "metadata": {
    "toc": "true"
   },
   "source": [
    "# Table of Contents\n",
    " <p><div class=\"lev1 toc-item\"><a href=\"#炸金花概率分析\" data-toc-modified-id=\"炸金花概率分析-1\"><span class=\"toc-item-num\">1&nbsp;&nbsp;</span>炸金花概率分析</a></div><div class=\"lev2 toc-item\"><a href=\"#牌的构造和编码\" data-toc-modified-id=\"牌的构造和编码-11\"><span class=\"toc-item-num\">1.1&nbsp;&nbsp;</span>牌的构造和编码</a></div><div class=\"lev2 toc-item\"><a href=\"#游戏逻辑\" data-toc-modified-id=\"游戏逻辑-12\"><span class=\"toc-item-num\">1.2&nbsp;&nbsp;</span>游戏逻辑</a></div><div class=\"lev2 toc-item\"><a href=\"#牌面编码\" data-toc-modified-id=\"牌面编码-13\"><span class=\"toc-item-num\">1.3&nbsp;&nbsp;</span>牌面编码</a></div><div class=\"lev2 toc-item\"><a href=\"#穷举法\" data-toc-modified-id=\"穷举法-14\"><span class=\"toc-item-num\">1.4&nbsp;&nbsp;</span>穷举法</a></div><div class=\"lev3 toc-item\"><a href=\"#单人局\" data-toc-modified-id=\"单人局-141\"><span class=\"toc-item-num\">1.4.1&nbsp;&nbsp;</span>单人局</a></div><div class=\"lev3 toc-item\"><a href=\"#双人局\" data-toc-modified-id=\"双人局-142\"><span class=\"toc-item-num\">1.4.2&nbsp;&nbsp;</span>双人局</a></div><div class=\"lev3 toc-item\"><a href=\"#穷举法的复杂度\" data-toc-modified-id=\"穷举法的复杂度-143\"><span class=\"toc-item-num\">1.4.3&nbsp;&nbsp;</span>穷举法的复杂度</a></div><div class=\"lev2 toc-item\"><a href=\"#蒙特卡罗方法\" data-toc-modified-id=\"蒙特卡罗方法-15\"><span class=\"toc-item-num\">1.5&nbsp;&nbsp;</span>蒙特卡罗方法</a></div><div class=\"lev3 toc-item\"><a href=\"#双人\" data-toc-modified-id=\"双人-151\"><span class=\"toc-item-num\">1.5.1&nbsp;&nbsp;</span>双人</a></div><div class=\"lev3 toc-item\"><a href=\"#多人\" data-toc-modified-id=\"多人-152\"><span class=\"toc-item-num\">1.5.2&nbsp;&nbsp;</span>多人</a></div><div class=\"lev2 toc-item\"><a href=\"#近似计算方法\" data-toc-modified-id=\"近似计算方法-16\"><span class=\"toc-item-num\">1.6&nbsp;&nbsp;</span>近似计算方法</a></div><div class=\"lev2 toc-item\"><a href=\"#总结\" data-toc-modified-id=\"总结-17\"><span class=\"toc-item-num\">1.7&nbsp;&nbsp;</span>总结</a></div><div class=\"lev3 toc-item\"><a href=\"#概率\" data-toc-modified-id=\"概率-171\"><span class=\"toc-item-num\">1.7.1&nbsp;&nbsp;</span>概率</a></div><div class=\"lev3 toc-item\"><a href=\"#方法\" data-toc-modified-id=\"方法-172\"><span class=\"toc-item-num\">1.7.2&nbsp;&nbsp;</span>方法</a></div>"
   ]
  },
  {
   "cell_type": "markdown",
   "metadata": {},
   "source": [
    "# 炸金花概率分析"
   ]
  },
  {
   "cell_type": "markdown",
   "metadata": {},
   "source": [
    "*by 郭勇智*"
   ]
  },
  {
   "cell_type": "markdown",
   "metadata": {},
   "source": [
    "![Alt text](http://i-3-499.715083.com/2017/2/17/6e51a3c1-36d9-4cfa-be59-7818eec9d5d0.png?imageView2/2/q/65/w/600)"
   ]
  },
  {
   "cell_type": "markdown",
   "metadata": {},
   "source": [
    "---\n",
    "使用一副去掉到大小王的扑克牌，共 52 张牌，游戏时每人三张牌，牌面从大到小依次为：\n",
    ">+ 豹子（炸弹）：三张点相同的牌。例：AAA、222。\n",
    "+ 同花顺（顺金、色托）：花色相同的顺子。例：黑桃456、红桃789。\n",
    "+ 同花（金花、色皮）：花色相同，非顺子。例：黑桃368，方块145。\n",
    "+ 顺子（拖拉机）：花色不同的顺子。例：黑桃5红桃6方块7。最大的顺子为花色不同的QKA，最小的顺子为花色不同的123。\n",
    "+ 对子：两张点数相同的牌。例：223，334。\n",
    "+ 单张：三张牌不组成任何类型的牌。"
   ]
  },
  {
   "cell_type": "code",
   "execution_count": 15,
   "metadata": {},
   "outputs": [],
   "source": [
    "using Plots"
   ]
  },
  {
   "cell_type": "markdown",
   "metadata": {},
   "source": [
    "## 牌的构造和编码"
   ]
  },
  {
   "cell_type": "code",
   "execution_count": 16,
   "metadata": {},
   "outputs": [
    {
     "data": {
      "text/plain": [
       "52-element Array{Complex{Int64},1}:\n",
       "  2 + 1im\n",
       "  2 + 2im\n",
       "  2 + 3im\n",
       "  2 + 4im\n",
       "  3 + 1im\n",
       "  3 + 2im\n",
       "  3 + 3im\n",
       "  3 + 4im\n",
       "  4 + 1im\n",
       "  4 + 2im\n",
       "  4 + 3im\n",
       "  4 + 4im\n",
       "  5 + 1im\n",
       "    ⋮    \n",
       " 12 + 1im\n",
       " 12 + 2im\n",
       " 12 + 3im\n",
       " 12 + 4im\n",
       " 13 + 1im\n",
       " 13 + 2im\n",
       " 13 + 3im\n",
       " 13 + 4im\n",
       " 14 + 1im\n",
       " 14 + 2im\n",
       " 14 + 3im\n",
       " 14 + 4im"
      ]
     },
     "execution_count": 16,
     "metadata": {},
     "output_type": "execute_result"
    }
   ],
   "source": [
    "AllCards = [a+b*im for a in 2:14 for b in 1:4]"
   ]
  },
  {
   "cell_type": "markdown",
   "metadata": {},
   "source": [
    "实部表牌面大小，A尖映射到14，序数属性；虚部表花色，标称属性。  \n",
    "52张，不含大小王。"
   ]
  },
  {
   "cell_type": "markdown",
   "metadata": {},
   "source": [
    "## 游戏逻辑"
   ]
  },
  {
   "cell_type": "markdown",
   "metadata": {},
   "source": [
    ">+ 豹子（炸弹）：三张点相同的牌。例：AAA、222。\n",
    "+ 同花顺（顺金、色托）：花色相同的顺子。例：黑桃456、红桃789。\n",
    "+ 同花（金花、色皮）：花色相同，非顺子。例：黑桃368，方块145。\n",
    "+ 顺子（拖拉机）：花色不同的顺子。例：黑桃5红桃6方块7。最大的顺子为花色不同的QKA，最小的顺子为花色不同的123。\n",
    "+ 对子：两张点数相同的牌。例：223，334。\n",
    "+ 单张：三张牌不组成任何类型的牌。"
   ]
  },
  {
   "cell_type": "markdown",
   "metadata": {},
   "source": [
    "判断是否是该牌型"
   ]
  },
  {
   "cell_type": "code",
   "execution_count": 17,
   "metadata": {},
   "outputs": [
    {
     "data": {
      "text/plain": [
       "isStraightFlush (generic function with 1 method)"
      ]
     },
     "execution_count": 17,
     "metadata": {},
     "output_type": "execute_result"
    }
   ],
   "source": [
    "isBomb(a, b, c) = a.re == b.re == c.re #炸弹\n",
    "\n",
    "function isPair(a, b, c)  #对子\n",
    "    a = a.re\n",
    "    b = b.re\n",
    "    c = c.re\n",
    "    a == b || b == c || c == a\n",
    "end\n",
    "\n",
    "function isStraight(a, b, c)  #顺子\n",
    "    a, b, c = sort([a.re, b.re, c.re], rev=true)\n",
    "    (a == b + 1 && b == c + 1) || (a, b, c) == (14, 3, 2)\n",
    "end\n",
    "\n",
    "isFlush(a, b, c) = a.im == b.im == c.im #同花\n",
    "\n",
    "isStraightFlush(a, b, c) = isFlush(a, b, c) && isStraight(a, b, c) #同花顺"
   ]
  },
  {
   "cell_type": "markdown",
   "metadata": {},
   "source": [
    "---\n",
    "在某牌型中按重要性降序排序三张牌。"
   ]
  },
  {
   "cell_type": "code",
   "execution_count": 18,
   "metadata": {},
   "outputs": [
    {
     "data": {
      "text/plain": [
       "sortStraightFlush (generic function with 1 method)"
      ]
     },
     "execution_count": 18,
     "metadata": {},
     "output_type": "execute_result"
    }
   ],
   "source": [
    "sortBomb(cds...) =  real([cds...])\n",
    "\n",
    "function sortPair(a, b, c)\n",
    "    a = a.re\n",
    "    b = b.re\n",
    "    c = c.re\n",
    "    if a == b\n",
    "        a, b, c\n",
    "    elseif b == c\n",
    "        b, c, a\n",
    "    elseif c == a\n",
    "        a, c, b\n",
    "    else\n",
    "        nothing\n",
    "    end\n",
    "end\n",
    "\n",
    "function sortStraight(a, b, c)\n",
    "    a, b, c = sort([a.re, b.re, c.re], rev=true)\n",
    "    if (a, b, c) == (14, 3, 2)\n",
    "        3, 2, 14\n",
    "    else\n",
    "        a, b, c\n",
    "    end\n",
    "end        \n",
    "\n",
    "sortSingle(a, b, c) = sort([a.re, b.re, c.re], rev=true)\n",
    "\n",
    "sortFlush(a, b, c) = sortSingle(a, b, c)\n",
    "\n",
    "sortStraightFlush(a, b, c) = sortStraight(a, b, c)"
   ]
  },
  {
   "cell_type": "markdown",
   "metadata": {},
   "source": [
    "## 牌面编码"
   ]
  },
  {
   "cell_type": "code",
   "execution_count": 19,
   "metadata": {},
   "outputs": [
    {
     "data": {
      "text/plain": [
       "getType (generic function with 1 method)"
      ]
     },
     "execution_count": 19,
     "metadata": {},
     "output_type": "execute_result"
    }
   ],
   "source": [
    "function getType(cds...)\n",
    "    if isBomb(cds...)\n",
    "        return 5\n",
    "    elseif isFlush(cds...)\n",
    "        if isStraight(cds...)\n",
    "            return 4\n",
    "        else\n",
    "            return 3\n",
    "        end\n",
    "    elseif isStraight(cds...)\n",
    "        return 2\n",
    "    elseif isPair(cds...)\n",
    "        return 1\n",
    "    else\n",
    "        return 0\n",
    "    end\n",
    "end"
   ]
  },
  {
   "cell_type": "code",
   "execution_count": 20,
   "metadata": {},
   "outputs": [],
   "source": [
    "TypeNames = [\"Single\", \"Pair\", \"Straight\", \"Flush\", \"StraightFlush\", \"Bomb\"];"
   ]
  },
  {
   "cell_type": "markdown",
   "metadata": {},
   "source": [
    "为三张牌组成的牌面生成编码，有序编码，即小牌码小、大牌码大。"
   ]
  },
  {
   "cell_type": "code",
   "execution_count": 21,
   "metadata": {},
   "outputs": [
    {
     "data": {
      "text/plain": [
       "(0, -2, -2, -2)"
      ]
     },
     "execution_count": 21,
     "metadata": {},
     "output_type": "execute_result"
    }
   ],
   "source": [
    "wei = (16, 13, 13, 1)\n",
    "bias = (0, -2, -2, -2)"
   ]
  },
  {
   "cell_type": "code",
   "execution_count": 22,
   "metadata": {},
   "outputs": [
    {
     "data": {
      "text/plain": [
       "encode (generic function with 1 method)"
      ]
     },
     "execution_count": 22,
     "metadata": {},
     "output_type": "execute_result"
    }
   ],
   "source": [
    "function encode(cds...)\n",
    "    if isBomb(cds...)\n",
    "        c = 5, sortBomb(cds...)\n",
    "\n",
    "    elseif isFlush(cds...)\n",
    "        if isStraight(cds...)\n",
    "            c = 4, sortStraight(cds...)\n",
    "\n",
    "        else\n",
    "            c = 3, sortFlush(cds...)\n",
    "        end\n",
    "\n",
    "    elseif isStraight(cds...)\n",
    "        c = 2, sortStraight(cds...)\n",
    "\n",
    "    elseif isPair(cds...)\n",
    "        c = 1, sortPair(cds...)\n",
    "\n",
    "    else\n",
    "        c = 0, sortSingle(cds...)\n",
    "    end\n",
    "    c0, (c1, c2, c3) = c\n",
    "    w0, w1, w2, w3 = wei\n",
    "    b0, b1, b2, b3 = bias\n",
    "    return Int(\n",
    "        ((((c0 + b0) * w0 + c1 + b1) * w1 + c2 + b2) * w2 + c3 + b3) * w3)\n",
    "end"
   ]
  },
  {
   "cell_type": "code",
   "execution_count": 23,
   "metadata": {},
   "outputs": [
    {
     "data": {
      "text/plain": [
       "decode (generic function with 1 method)"
      ]
     },
     "execution_count": 23,
     "metadata": {},
     "output_type": "execute_result"
    }
   ],
   "source": [
    "function decode(c)\n",
    "    ci = Int[]\n",
    "    for i in length(wei):-1:2\n",
    "        c = c ÷ wei[i]\n",
    "        push!(ci, (c % wei[i - 1] - bias[i]))\n",
    "    end\n",
    "    push!(ci, (c ÷ wei[1]))\n",
    "    s = TypeNames[ci[end]+1] * \": \" * \"$(ci[end-1:-1:1])\"\n",
    "    return s\n",
    "end"
   ]
  },
  {
   "cell_type": "code",
   "execution_count": 24,
   "metadata": {
    "scrolled": true
   },
   "outputs": [
    {
     "name": "stdout",
     "output_type": "stream",
     "text": [
      "  0.301522 seconds (846.53 k allocations: 42.544 MiB, 4.03% gc time)\n"
     ]
    },
    {
     "data": {
      "text/plain": [
       "\"StraightFlush: [3, 2, 14]\""
      ]
     },
     "execution_count": 24,
     "metadata": {},
     "output_type": "execute_result"
    }
   ],
   "source": [
    "@time decode(encode(2+2im, 14+2im, 3+2im))"
   ]
  },
  {
   "cell_type": "markdown",
   "metadata": {},
   "source": [
    "## 穷举法"
   ]
  },
  {
   "cell_type": "markdown",
   "metadata": {},
   "source": [
    "### 单人局"
   ]
  },
  {
   "cell_type": "markdown",
   "metadata": {},
   "source": [
    "单人不成局，实际上是从52张中任取3张，这也代表了任意玩家数时桌面上所有牌面的分布情况。"
   ]
  },
  {
   "cell_type": "code",
   "execution_count": 11,
   "metadata": {},
   "outputs": [],
   "source": [
    "struct CombIter\n",
    "    arr::AbstractArray\n",
    "    n::Int\n",
    "end\n",
    "\n",
    "function Base.iterate(iter::CombIter)\n",
    "    ind=[1:iter.n...]\n",
    "    (@view iter.arr[ind]), ind\n",
    "end\n",
    "\n",
    "function Base.iterate(iter::CombIter, ind)\n",
    "    l = length(iter.arr)\n",
    "    n = length(ind)\n",
    "    for i in n:-1:1\n",
    "        if ind[i] < l - (n - i)\n",
    "            ind[i] += 1\n",
    "            for j in i+1 : n\n",
    "                ind[j] = ind[j-1] + 1\n",
    "            end\n",
    "            return (@view iter.arr[ind]), ind\n",
    "        end\n",
    "    end\n",
    "    return nothing\n",
    "end"
   ]
  },
  {
   "cell_type": "code",
   "execution_count": 7,
   "metadata": {},
   "outputs": [
    {
     "data": {
      "text/plain": [
       "combinations (generic function with 1 method)"
      ]
     },
     "execution_count": 7,
     "metadata": {},
     "output_type": "execute_result"
    }
   ],
   "source": [
    "function combinations(fun, arr, n)\n",
    "    l = length(arr)\n",
    "    ind = [1:n...]\n",
    "    i = n\n",
    "    fun(@view arr[ind])\n",
    "    while i>0\n",
    "        if ind[i] < l - (n - i)\n",
    "            ind[i] += 1\n",
    "            for j in i+1 : n\n",
    "                ind[j] = ind[j-1] + 1\n",
    "            end\n",
    "            i = n\n",
    "            fun(@view arr[ind])\n",
    "        else\n",
    "            i -= 1\n",
    "        end\n",
    "    end\n",
    "end"
   ]
  },
  {
   "cell_type": "code",
   "execution_count": 61,
   "metadata": {},
   "outputs": [
    {
     "name": "stdout",
     "output_type": "stream",
     "text": [
      "  0.046777 seconds (616.50 k allocations: 26.085 MiB, 7.36% gc time)\n"
     ]
    }
   ],
   "source": [
    "@time begin \n",
    "weightList = Int[]\n",
    "for cards in CombIter(AllCards, 3)\n",
    "    push!(weightList, encode(cards...))\n",
    "end\n",
    "end"
   ]
  },
  {
   "cell_type": "code",
   "execution_count": 65,
   "metadata": {},
   "outputs": [
    {
     "name": "stdout",
     "output_type": "stream",
     "text": [
      "  0.096393 seconds (642.41 k allocations: 28.157 MiB, 3.72% gc time)\n"
     ]
    }
   ],
   "source": [
    "@time begin \n",
    "weightList = Int[]\n",
    "combinations(AllCards, 3) do cards\n",
    "    push!(weightList2, encode(cards...))\n",
    "end\n",
    "end"
   ]
  },
  {
   "cell_type": "code",
   "execution_count": 43,
   "metadata": {},
   "outputs": [],
   "source": [
    "using Profile"
   ]
  },
  {
   "cell_type": "code",
   "execution_count": 13,
   "metadata": {},
   "outputs": [
    {
     "name": "stdout",
     "output_type": "stream",
     "text": [
      " 20.825026 seconds (301.15 M allocations: 7.853 GiB, 3.30% gc time)\n",
      "elapsed time (ns): 20825026403\n",
      "gc time (ns):      686467618\n",
      "bytes allocated:   8432206368\n",
      "pool allocs:       301150092\n",
      "GC pauses:         368\n"
     ]
    }
   ],
   "source": [
    "@timev begin\n",
    "for cs in CombIter([1:100...], 5)\n",
    "    #println(cs)\n",
    "end\n",
    "end"
   ]
  },
  {
   "cell_type": "code",
   "execution_count": 66,
   "metadata": {},
   "outputs": [
    {
     "name": "stdout",
     "output_type": "stream",
     "text": [
      "  6.600320 seconds (225.91 M allocations: 5.612 GiB, 6.03% gc time)\n",
      "elapsed time (ns): 6600319699\n",
      "gc time (ns):      397776521\n",
      "bytes allocated:   6025307421\n",
      "pool allocs:       225909458\n",
      "non-pool GC allocs:33\n",
      "GC pauses:         262\n"
     ]
    }
   ],
   "source": [
    "@timev combinations([1:100...], 5) do arr\n",
    "    #print(arr)\n",
    "end"
   ]
  },
  {
   "cell_type": "code",
   "execution_count": 158,
   "metadata": {
    "collapsed": true,
    "jupyter": {
     "outputs_hidden": true
    }
   },
   "outputs": [],
   "source": [
    "sort!(weightList);"
   ]
  },
  {
   "cell_type": "code",
   "execution_count": 159,
   "metadata": {},
   "outputs": [
    {
     "data": {
      "text/plain": [
       "22100"
      ]
     },
     "execution_count": 159,
     "metadata": {},
     "output_type": "execute_result"
    }
   ],
   "source": [
    "length(weightList)"
   ]
  },
  {
   "cell_type": "code",
   "execution_count": 67,
   "metadata": {},
   "outputs": [
    {
     "data": {
      "text/plain": [
       "22100-element Array{Int64,1}:\n",
       "   520\n",
       "   520\n",
       "   520\n",
       "   520\n",
       "   520\n",
       "   520\n",
       "   520\n",
       "   520\n",
       "   520\n",
       "   520\n",
       "   520\n",
       "   520\n",
       "   520\n",
       "     ⋮\n",
       " 15350\n",
       " 15350\n",
       " 15350\n",
       " 15350\n",
       " 15533\n",
       " 15533\n",
       " 15533\n",
       " 15533\n",
       " 15716\n",
       " 15716\n",
       " 15716\n",
       " 15716"
      ]
     },
     "execution_count": 67,
     "metadata": {},
     "output_type": "execute_result"
    }
   ],
   "source": [
    "weightList"
   ]
  },
  {
   "cell_type": "code",
   "execution_count": 206,
   "metadata": {},
   "outputs": [
    {
     "data": {
      "image/svg+xml": [
       "<?xml version=\"1.0\" encoding=\"utf-8\"?>\n",
       "<svg xmlns=\"http://www.w3.org/2000/svg\" xmlns:xlink=\"http://www.w3.org/1999/xlink\" width=\"600\" height=\"400\" viewBox=\"0 0 2400 1600\">\n",
       "<defs>\n",
       "  <clipPath id=\"clip2300\">\n",
       "    <rect x=\"0\" y=\"0\" width=\"2000\" height=\"2000\"/>\n",
       "  </clipPath>\n",
       "</defs>\n",
       "<defs>\n",
       "  <clipPath id=\"clip2301\">\n",
       "    <rect x=\"0\" y=\"0\" width=\"2400\" height=\"1600\"/>\n",
       "  </clipPath>\n",
       "</defs>\n",
       "<polygon clip-path=\"url(#clip2301)\" points=\"\n",
       "0,1600 2400,1600 2400,0 0,0 \n",
       "  \" fill=\"#ffffff\" fill-rule=\"evenodd\" fill-opacity=\"1\"/>\n",
       "<defs>\n",
       "  <clipPath id=\"clip2302\">\n",
       "    <rect x=\"480\" y=\"0\" width=\"1681\" height=\"1600\"/>\n",
       "  </clipPath>\n",
       "</defs>\n",
       "<polygon clip-path=\"url(#clip2301)\" points=\"\n",
       "201.538,1503.47 2321.26,1503.47 2321.26,47.2441 201.538,47.2441 \n",
       "  \" fill=\"#ffffff\" fill-rule=\"evenodd\" fill-opacity=\"1\"/>\n",
       "<defs>\n",
       "  <clipPath id=\"clip2303\">\n",
       "    <rect x=\"201\" y=\"47\" width=\"2121\" height=\"1457\"/>\n",
       "  </clipPath>\n",
       "</defs>\n",
       "<polyline clip-path=\"url(#clip2303)\" style=\"stroke:#000000; stroke-width:2; stroke-opacity:0.1; fill:none\" points=\"\n",
       "  256.474,1503.47 256.474,47.2441 \n",
       "  \"/>\n",
       "<polyline clip-path=\"url(#clip2303)\" style=\"stroke:#000000; stroke-width:2; stroke-opacity:0.1; fill:none\" points=\"\n",
       "  872.992,1503.47 872.992,47.2441 \n",
       "  \"/>\n",
       "<polyline clip-path=\"url(#clip2303)\" style=\"stroke:#000000; stroke-width:2; stroke-opacity:0.1; fill:none\" points=\"\n",
       "  1489.51,1503.47 1489.51,47.2441 \n",
       "  \"/>\n",
       "<polyline clip-path=\"url(#clip2303)\" style=\"stroke:#000000; stroke-width:2; stroke-opacity:0.1; fill:none\" points=\"\n",
       "  2106.03,1503.47 2106.03,47.2441 \n",
       "  \"/>\n",
       "<polyline clip-path=\"url(#clip2303)\" style=\"stroke:#000000; stroke-width:2; stroke-opacity:0.1; fill:none\" points=\"\n",
       "  201.538,1462.26 2321.26,1462.26 \n",
       "  \"/>\n",
       "<polyline clip-path=\"url(#clip2303)\" style=\"stroke:#000000; stroke-width:2; stroke-opacity:0.1; fill:none\" points=\"\n",
       "  201.538,1004.33 2321.26,1004.33 \n",
       "  \"/>\n",
       "<polyline clip-path=\"url(#clip2303)\" style=\"stroke:#000000; stroke-width:2; stroke-opacity:0.1; fill:none\" points=\"\n",
       "  201.538,546.392 2321.26,546.392 \n",
       "  \"/>\n",
       "<polyline clip-path=\"url(#clip2303)\" style=\"stroke:#000000; stroke-width:2; stroke-opacity:0.1; fill:none\" points=\"\n",
       "  201.538,88.4582 2321.26,88.4582 \n",
       "  \"/>\n",
       "<polyline clip-path=\"url(#clip2301)\" style=\"stroke:#000000; stroke-width:4; stroke-opacity:1; fill:none\" points=\"\n",
       "  201.538,1503.47 2321.26,1503.47 \n",
       "  \"/>\n",
       "<polyline clip-path=\"url(#clip2301)\" style=\"stroke:#000000; stroke-width:4; stroke-opacity:1; fill:none\" points=\"\n",
       "  201.538,1503.47 201.538,47.2441 \n",
       "  \"/>\n",
       "<polyline clip-path=\"url(#clip2301)\" style=\"stroke:#000000; stroke-width:4; stroke-opacity:1; fill:none\" points=\"\n",
       "  256.474,1503.47 256.474,1481.63 \n",
       "  \"/>\n",
       "<polyline clip-path=\"url(#clip2301)\" style=\"stroke:#000000; stroke-width:4; stroke-opacity:1; fill:none\" points=\"\n",
       "  872.992,1503.47 872.992,1481.63 \n",
       "  \"/>\n",
       "<polyline clip-path=\"url(#clip2301)\" style=\"stroke:#000000; stroke-width:4; stroke-opacity:1; fill:none\" points=\"\n",
       "  1489.51,1503.47 1489.51,1481.63 \n",
       "  \"/>\n",
       "<polyline clip-path=\"url(#clip2301)\" style=\"stroke:#000000; stroke-width:4; stroke-opacity:1; fill:none\" points=\"\n",
       "  2106.03,1503.47 2106.03,1481.63 \n",
       "  \"/>\n",
       "<polyline clip-path=\"url(#clip2301)\" style=\"stroke:#000000; stroke-width:4; stroke-opacity:1; fill:none\" points=\"\n",
       "  201.538,1462.26 233.333,1462.26 \n",
       "  \"/>\n",
       "<polyline clip-path=\"url(#clip2301)\" style=\"stroke:#000000; stroke-width:4; stroke-opacity:1; fill:none\" points=\"\n",
       "  201.538,1004.33 233.333,1004.33 \n",
       "  \"/>\n",
       "<polyline clip-path=\"url(#clip2301)\" style=\"stroke:#000000; stroke-width:4; stroke-opacity:1; fill:none\" points=\"\n",
       "  201.538,546.392 233.333,546.392 \n",
       "  \"/>\n",
       "<polyline clip-path=\"url(#clip2301)\" style=\"stroke:#000000; stroke-width:4; stroke-opacity:1; fill:none\" points=\"\n",
       "  201.538,88.4582 233.333,88.4582 \n",
       "  \"/>\n",
       "<g clip-path=\"url(#clip2301)\">\n",
       "<text style=\"fill:#000000; fill-opacity:1; font-family:Arial,Helvetica Neue,Helvetica,sans-serif; font-size:48px; text-anchor:middle;\" transform=\"rotate(0, 256.474, 1557.47)\" x=\"256.474\" y=\"1557.47\">0</text>\n",
       "</g>\n",
       "<g clip-path=\"url(#clip2301)\">\n",
       "<text style=\"fill:#000000; fill-opacity:1; font-family:Arial,Helvetica Neue,Helvetica,sans-serif; font-size:48px; text-anchor:start;\" transform=\"rotate(0, 787.85, 1578.48)\" x=\"787.85\" y=\"1578.48\">5.0×10</text>\n",
       "</g>\n",
       "<g clip-path=\"url(#clip2301)\">\n",
       "<text style=\"fill:#000000; fill-opacity:1; font-family:Arial,Helvetica Neue,Helvetica,sans-serif; font-size:38px; text-anchor:start;\" transform=\"rotate(0, 936.39, 1551.07)\" x=\"936.39\" y=\"1551.07\">3</text>\n",
       "</g>\n",
       "<g clip-path=\"url(#clip2301)\">\n",
       "<text style=\"fill:#000000; fill-opacity:1; font-family:Arial,Helvetica Neue,Helvetica,sans-serif; font-size:48px; text-anchor:start;\" transform=\"rotate(0, 1404.37, 1578.48)\" x=\"1404.37\" y=\"1578.48\">1.0×10</text>\n",
       "</g>\n",
       "<g clip-path=\"url(#clip2301)\">\n",
       "<text style=\"fill:#000000; fill-opacity:1; font-family:Arial,Helvetica Neue,Helvetica,sans-serif; font-size:38px; text-anchor:start;\" transform=\"rotate(0, 1552.91, 1551.07)\" x=\"1552.91\" y=\"1551.07\">4</text>\n",
       "</g>\n",
       "<g clip-path=\"url(#clip2301)\">\n",
       "<text style=\"fill:#000000; fill-opacity:1; font-family:Arial,Helvetica Neue,Helvetica,sans-serif; font-size:48px; text-anchor:start;\" transform=\"rotate(0, 2020.89, 1578.48)\" x=\"2020.89\" y=\"1578.48\">1.5×10</text>\n",
       "</g>\n",
       "<g clip-path=\"url(#clip2301)\">\n",
       "<text style=\"fill:#000000; fill-opacity:1; font-family:Arial,Helvetica Neue,Helvetica,sans-serif; font-size:38px; text-anchor:start;\" transform=\"rotate(0, 2169.43, 1551.07)\" x=\"2169.43\" y=\"1551.07\">4</text>\n",
       "</g>\n",
       "<g clip-path=\"url(#clip2301)\">\n",
       "<text style=\"fill:#000000; fill-opacity:1; font-family:Arial,Helvetica Neue,Helvetica,sans-serif; font-size:48px; text-anchor:end;\" transform=\"rotate(0, 177.538, 1479.76)\" x=\"177.538\" y=\"1479.76\">0</text>\n",
       "</g>\n",
       "<g clip-path=\"url(#clip2301)\">\n",
       "<text style=\"fill:#000000; fill-opacity:1; font-family:Arial,Helvetica Neue,Helvetica,sans-serif; font-size:48px; text-anchor:end;\" transform=\"rotate(0, 177.538, 1021.83)\" x=\"177.538\" y=\"1021.83\">1000</text>\n",
       "</g>\n",
       "<g clip-path=\"url(#clip2301)\">\n",
       "<text style=\"fill:#000000; fill-opacity:1; font-family:Arial,Helvetica Neue,Helvetica,sans-serif; font-size:48px; text-anchor:end;\" transform=\"rotate(0, 177.538, 563.892)\" x=\"177.538\" y=\"563.892\">2000</text>\n",
       "</g>\n",
       "<g clip-path=\"url(#clip2301)\">\n",
       "<text style=\"fill:#000000; fill-opacity:1; font-family:Arial,Helvetica Neue,Helvetica,sans-serif; font-size:48px; text-anchor:end;\" transform=\"rotate(0, 177.538, 105.958)\" x=\"177.538\" y=\"105.958\">3000</text>\n",
       "</g>\n",
       "<polygon clip-path=\"url(#clip2303)\" points=\"\n",
       "318.126,1407.31 318.126,1462.26 330.456,1462.26 330.456,1407.31 318.126,1407.31 318.126,1407.31 \n",
       "  \" fill=\"#009af9\" fill-rule=\"evenodd\" fill-opacity=\"1\"/>\n",
       "<polyline clip-path=\"url(#clip2303)\" style=\"stroke:#000000; stroke-width:4; stroke-opacity:1; fill:none\" points=\"\n",
       "  318.126,1407.31 318.126,1462.26 330.456,1462.26 330.456,1407.31 318.126,1407.31 \n",
       "  \"/>\n",
       "<polygon clip-path=\"url(#clip2303)\" points=\"\n",
       "330.456,1434.78 330.456,1462.26 342.787,1462.26 342.787,1434.78 330.456,1434.78 330.456,1434.78 \n",
       "  \" fill=\"#009af9\" fill-rule=\"evenodd\" fill-opacity=\"1\"/>\n",
       "<polyline clip-path=\"url(#clip2303)\" style=\"stroke:#000000; stroke-width:4; stroke-opacity:1; fill:none\" points=\"\n",
       "  330.456,1434.78 330.456,1462.26 342.787,1462.26 342.787,1434.78 330.456,1434.78 \n",
       "  \"/>\n",
       "<polygon clip-path=\"url(#clip2303)\" points=\"\n",
       "342.787,1352.36 342.787,1462.26 355.117,1462.26 355.117,1352.36 342.787,1352.36 342.787,1352.36 \n",
       "  \" fill=\"#009af9\" fill-rule=\"evenodd\" fill-opacity=\"1\"/>\n",
       "<polyline clip-path=\"url(#clip2303)\" style=\"stroke:#000000; stroke-width:4; stroke-opacity:1; fill:none\" points=\"\n",
       "  342.787,1352.36 342.787,1462.26 355.117,1462.26 355.117,1352.36 342.787,1352.36 \n",
       "  \"/>\n",
       "<polygon clip-path=\"url(#clip2303)\" points=\"\n",
       "355.117,1214.98 355.117,1462.26 367.447,1462.26 367.447,1214.98 355.117,1214.98 355.117,1214.98 \n",
       "  \" fill=\"#009af9\" fill-rule=\"evenodd\" fill-opacity=\"1\"/>\n",
       "<polyline clip-path=\"url(#clip2303)\" style=\"stroke:#000000; stroke-width:4; stroke-opacity:1; fill:none\" points=\"\n",
       "  355.117,1214.98 355.117,1462.26 367.447,1462.26 367.447,1214.98 355.117,1214.98 \n",
       "  \"/>\n",
       "<polygon clip-path=\"url(#clip2303)\" points=\"\n",
       "367.447,1462.26 367.447,1462.26 379.778,1462.26 379.778,1462.26 367.447,1462.26 367.447,1462.26 \n",
       "  \" fill=\"#009af9\" fill-rule=\"evenodd\" fill-opacity=\"1\"/>\n",
       "<polyline clip-path=\"url(#clip2303)\" style=\"stroke:#000000; stroke-width:4; stroke-opacity:1; fill:none\" points=\"\n",
       "  367.447,1462.26 367.447,1462.26 379.778,1462.26 367.447,1462.26 \n",
       "  \"/>\n",
       "<polygon clip-path=\"url(#clip2303)\" points=\"\n",
       "379.778,1077.6 379.778,1462.26 392.108,1462.26 392.108,1077.6 379.778,1077.6 379.778,1077.6 \n",
       "  \" fill=\"#009af9\" fill-rule=\"evenodd\" fill-opacity=\"1\"/>\n",
       "<polyline clip-path=\"url(#clip2303)\" style=\"stroke:#000000; stroke-width:4; stroke-opacity:1; fill:none\" points=\"\n",
       "  379.778,1077.6 379.778,1462.26 392.108,1462.26 392.108,1077.6 379.778,1077.6 \n",
       "  \"/>\n",
       "<polygon clip-path=\"url(#clip2303)\" points=\"\n",
       "392.108,1434.78 392.108,1462.26 404.439,1462.26 404.439,1434.78 392.108,1434.78 392.108,1434.78 \n",
       "  \" fill=\"#009af9\" fill-rule=\"evenodd\" fill-opacity=\"1\"/>\n",
       "<polyline clip-path=\"url(#clip2303)\" style=\"stroke:#000000; stroke-width:4; stroke-opacity:1; fill:none\" points=\"\n",
       "  392.108,1434.78 392.108,1462.26 404.439,1462.26 404.439,1434.78 392.108,1434.78 \n",
       "  \"/>\n",
       "<polygon clip-path=\"url(#clip2303)\" points=\"\n",
       "404.439,940.216 404.439,1462.26 416.769,1462.26 416.769,940.216 404.439,940.216 404.439,940.216 \n",
       "  \" fill=\"#009af9\" fill-rule=\"evenodd\" fill-opacity=\"1\"/>\n",
       "<polyline clip-path=\"url(#clip2303)\" style=\"stroke:#000000; stroke-width:4; stroke-opacity:1; fill:none\" points=\"\n",
       "  404.439,940.216 404.439,1462.26 416.769,1462.26 416.769,940.216 404.439,940.216 \n",
       "  \"/>\n",
       "<polygon clip-path=\"url(#clip2303)\" points=\"\n",
       "416.769,1297.4 416.769,1462.26 429.099,1462.26 429.099,1297.4 416.769,1297.4 416.769,1297.4 \n",
       "  \" fill=\"#009af9\" fill-rule=\"evenodd\" fill-opacity=\"1\"/>\n",
       "<polyline clip-path=\"url(#clip2303)\" style=\"stroke:#000000; stroke-width:4; stroke-opacity:1; fill:none\" points=\"\n",
       "  416.769,1297.4 416.769,1462.26 429.099,1462.26 429.099,1297.4 416.769,1297.4 \n",
       "  \"/>\n",
       "<polygon clip-path=\"url(#clip2303)\" points=\"\n",
       "429.099,885.264 429.099,1462.26 441.43,1462.26 441.43,885.264 429.099,885.264 429.099,885.264 \n",
       "  \" fill=\"#009af9\" fill-rule=\"evenodd\" fill-opacity=\"1\"/>\n",
       "<polyline clip-path=\"url(#clip2303)\" style=\"stroke:#000000; stroke-width:4; stroke-opacity:1; fill:none\" points=\"\n",
       "  429.099,885.264 429.099,1462.26 441.43,1462.26 441.43,885.264 429.099,885.264 \n",
       "  \"/>\n",
       "<polygon clip-path=\"url(#clip2303)\" points=\"\n",
       "441.43,1022.64 441.43,1462.26 453.76,1462.26 453.76,1022.64 441.43,1022.64 441.43,1022.64 \n",
       "  \" fill=\"#009af9\" fill-rule=\"evenodd\" fill-opacity=\"1\"/>\n",
       "<polyline clip-path=\"url(#clip2303)\" style=\"stroke:#000000; stroke-width:4; stroke-opacity:1; fill:none\" points=\"\n",
       "  441.43,1022.64 441.43,1462.26 453.76,1462.26 453.76,1022.64 441.43,1022.64 \n",
       "  \"/>\n",
       "<polygon clip-path=\"url(#clip2303)\" points=\"\n",
       "453.76,940.216 453.76,1462.26 466.09,1462.26 466.09,940.216 453.76,940.216 453.76,940.216 \n",
       "  \" fill=\"#009af9\" fill-rule=\"evenodd\" fill-opacity=\"1\"/>\n",
       "<polyline clip-path=\"url(#clip2303)\" style=\"stroke:#000000; stroke-width:4; stroke-opacity:1; fill:none\" points=\"\n",
       "  453.76,940.216 453.76,1462.26 466.09,1462.26 466.09,940.216 453.76,940.216 \n",
       "  \"/>\n",
       "<polygon clip-path=\"url(#clip2303)\" points=\"\n",
       "466.09,528.075 466.09,1462.26 478.421,1462.26 478.421,528.075 466.09,528.075 466.09,528.075 \n",
       "  \" fill=\"#009af9\" fill-rule=\"evenodd\" fill-opacity=\"1\"/>\n",
       "<polyline clip-path=\"url(#clip2303)\" style=\"stroke:#000000; stroke-width:4; stroke-opacity:1; fill:none\" points=\"\n",
       "  466.09,528.075 466.09,1462.26 478.421,1462.26 478.421,528.075 466.09,528.075 \n",
       "  \"/>\n",
       "<polygon clip-path=\"url(#clip2303)\" points=\"\n",
       "478.421,1050.12 478.421,1462.26 490.751,1462.26 490.751,1050.12 478.421,1050.12 478.421,1050.12 \n",
       "  \" fill=\"#009af9\" fill-rule=\"evenodd\" fill-opacity=\"1\"/>\n",
       "<polyline clip-path=\"url(#clip2303)\" style=\"stroke:#000000; stroke-width:4; stroke-opacity:1; fill:none\" points=\"\n",
       "  478.421,1050.12 478.421,1462.26 490.751,1462.26 490.751,1050.12 478.421,1050.12 \n",
       "  \"/>\n",
       "<polygon clip-path=\"url(#clip2303)\" points=\"\n",
       "490.751,115.934 490.751,1462.26 503.081,1462.26 503.081,115.934 490.751,115.934 490.751,115.934 \n",
       "  \" fill=\"#009af9\" fill-rule=\"evenodd\" fill-opacity=\"1\"/>\n",
       "<polyline clip-path=\"url(#clip2303)\" style=\"stroke:#000000; stroke-width:4; stroke-opacity:1; fill:none\" points=\"\n",
       "  490.751,115.934 490.751,1462.26 503.081,1462.26 503.081,115.934 490.751,115.934 \n",
       "  \"/>\n",
       "<polygon clip-path=\"url(#clip2303)\" points=\"\n",
       "503.081,1077.6 503.081,1462.26 515.412,1462.26 515.412,1077.6 503.081,1077.6 503.081,1077.6 \n",
       "  \" fill=\"#009af9\" fill-rule=\"evenodd\" fill-opacity=\"1\"/>\n",
       "<polyline clip-path=\"url(#clip2303)\" style=\"stroke:#000000; stroke-width:4; stroke-opacity:1; fill:none\" points=\"\n",
       "  503.081,1077.6 503.081,1462.26 515.412,1462.26 515.412,1077.6 503.081,1077.6 \n",
       "  \"/>\n",
       "<polygon clip-path=\"url(#clip2303)\" points=\"\n",
       "515.412,88.4582 515.412,1462.26 527.742,1462.26 527.742,88.4582 515.412,88.4582 515.412,88.4582 \n",
       "  \" fill=\"#009af9\" fill-rule=\"evenodd\" fill-opacity=\"1\"/>\n",
       "<polyline clip-path=\"url(#clip2303)\" style=\"stroke:#000000; stroke-width:4; stroke-opacity:1; fill:none\" points=\"\n",
       "  515.412,88.4582 515.412,1462.26 527.742,1462.26 527.742,88.4582 515.412,88.4582 \n",
       "  \"/>\n",
       "<polygon clip-path=\"url(#clip2303)\" points=\"\n",
       "527.742,1462.26 527.742,1462.26 540.073,1462.26 540.073,1462.26 527.742,1462.26 527.742,1462.26 \n",
       "  \" fill=\"#009af9\" fill-rule=\"evenodd\" fill-opacity=\"1\"/>\n",
       "<polyline clip-path=\"url(#clip2303)\" style=\"stroke:#000000; stroke-width:4; stroke-opacity:1; fill:none\" points=\"\n",
       "  527.742,1462.26 527.742,1462.26 540.073,1462.26 527.742,1462.26 \n",
       "  \"/>\n",
       "<polygon clip-path=\"url(#clip2303)\" points=\"\n",
       "540.073,1462.26 540.073,1462.26 552.403,1462.26 552.403,1462.26 540.073,1462.26 540.073,1462.26 \n",
       "  \" fill=\"#009af9\" fill-rule=\"evenodd\" fill-opacity=\"1\"/>\n",
       "<polyline clip-path=\"url(#clip2303)\" style=\"stroke:#000000; stroke-width:4; stroke-opacity:1; fill:none\" points=\"\n",
       "  540.073,1462.26 540.073,1462.26 552.403,1462.26 540.073,1462.26 \n",
       "  \"/>\n",
       "<polygon clip-path=\"url(#clip2303)\" points=\"\n",
       "552.403,1462.26 552.403,1462.26 564.733,1462.26 564.733,1462.26 552.403,1462.26 552.403,1462.26 \n",
       "  \" fill=\"#009af9\" fill-rule=\"evenodd\" fill-opacity=\"1\"/>\n",
       "<polyline clip-path=\"url(#clip2303)\" style=\"stroke:#000000; stroke-width:4; stroke-opacity:1; fill:none\" points=\"\n",
       "  552.403,1462.26 552.403,1462.26 564.733,1462.26 552.403,1462.26 \n",
       "  \"/>\n",
       "<polygon clip-path=\"url(#clip2303)\" points=\"\n",
       "564.733,1462.26 564.733,1462.26 577.064,1462.26 577.064,1462.26 564.733,1462.26 564.733,1462.26 \n",
       "  \" fill=\"#009af9\" fill-rule=\"evenodd\" fill-opacity=\"1\"/>\n",
       "<polyline clip-path=\"url(#clip2303)\" style=\"stroke:#000000; stroke-width:4; stroke-opacity:1; fill:none\" points=\"\n",
       "  564.733,1462.26 564.733,1462.26 577.064,1462.26 564.733,1462.26 \n",
       "  \"/>\n",
       "<polygon clip-path=\"url(#clip2303)\" points=\"\n",
       "577.064,1462.26 577.064,1462.26 589.394,1462.26 589.394,1462.26 577.064,1462.26 577.064,1462.26 \n",
       "  \" fill=\"#009af9\" fill-rule=\"evenodd\" fill-opacity=\"1\"/>\n",
       "<polyline clip-path=\"url(#clip2303)\" style=\"stroke:#000000; stroke-width:4; stroke-opacity:1; fill:none\" points=\"\n",
       "  577.064,1462.26 577.064,1462.26 589.394,1462.26 577.064,1462.26 \n",
       "  \"/>\n",
       "<polygon clip-path=\"url(#clip2303)\" points=\"\n",
       "589.394,1330.38 589.394,1462.26 601.724,1462.26 601.724,1330.38 589.394,1330.38 589.394,1330.38 \n",
       "  \" fill=\"#009af9\" fill-rule=\"evenodd\" fill-opacity=\"1\"/>\n",
       "<polyline clip-path=\"url(#clip2303)\" style=\"stroke:#000000; stroke-width:4; stroke-opacity:1; fill:none\" points=\"\n",
       "  589.394,1330.38 589.394,1462.26 601.724,1462.26 601.724,1330.38 589.394,1330.38 \n",
       "  \"/>\n",
       "<polygon clip-path=\"url(#clip2303)\" points=\"\n",
       "601.724,1330.38 601.724,1462.26 614.055,1462.26 614.055,1330.38 601.724,1330.38 601.724,1330.38 \n",
       "  \" fill=\"#009af9\" fill-rule=\"evenodd\" fill-opacity=\"1\"/>\n",
       "<polyline clip-path=\"url(#clip2303)\" style=\"stroke:#000000; stroke-width:4; stroke-opacity:1; fill:none\" points=\"\n",
       "  601.724,1330.38 601.724,1462.26 614.055,1462.26 614.055,1330.38 601.724,1330.38 \n",
       "  \"/>\n",
       "<polygon clip-path=\"url(#clip2303)\" points=\"\n",
       "614.055,1462.26 614.055,1462.26 626.385,1462.26 626.385,1462.26 614.055,1462.26 614.055,1462.26 \n",
       "  \" fill=\"#009af9\" fill-rule=\"evenodd\" fill-opacity=\"1\"/>\n",
       "<polyline clip-path=\"url(#clip2303)\" style=\"stroke:#000000; stroke-width:4; stroke-opacity:1; fill:none\" points=\"\n",
       "  614.055,1462.26 614.055,1462.26 626.385,1462.26 614.055,1462.26 \n",
       "  \"/>\n",
       "<polygon clip-path=\"url(#clip2303)\" points=\"\n",
       "626.385,1330.38 626.385,1462.26 638.715,1462.26 638.715,1330.38 626.385,1330.38 626.385,1330.38 \n",
       "  \" fill=\"#009af9\" fill-rule=\"evenodd\" fill-opacity=\"1\"/>\n",
       "<polyline clip-path=\"url(#clip2303)\" style=\"stroke:#000000; stroke-width:4; stroke-opacity:1; fill:none\" points=\"\n",
       "  626.385,1330.38 626.385,1462.26 638.715,1462.26 638.715,1330.38 626.385,1330.38 \n",
       "  \"/>\n",
       "<polygon clip-path=\"url(#clip2303)\" points=\"\n",
       "638.715,1462.26 638.715,1462.26 651.046,1462.26 651.046,1462.26 638.715,1462.26 638.715,1462.26 \n",
       "  \" fill=\"#009af9\" fill-rule=\"evenodd\" fill-opacity=\"1\"/>\n",
       "<polyline clip-path=\"url(#clip2303)\" style=\"stroke:#000000; stroke-width:4; stroke-opacity:1; fill:none\" points=\"\n",
       "  638.715,1462.26 638.715,1462.26 651.046,1462.26 638.715,1462.26 \n",
       "  \"/>\n",
       "<polygon clip-path=\"url(#clip2303)\" points=\"\n",
       "651.046,1330.38 651.046,1462.26 663.376,1462.26 663.376,1330.38 651.046,1330.38 651.046,1330.38 \n",
       "  \" fill=\"#009af9\" fill-rule=\"evenodd\" fill-opacity=\"1\"/>\n",
       "<polyline clip-path=\"url(#clip2303)\" style=\"stroke:#000000; stroke-width:4; stroke-opacity:1; fill:none\" points=\"\n",
       "  651.046,1330.38 651.046,1462.26 663.376,1462.26 663.376,1330.38 651.046,1330.38 \n",
       "  \"/>\n",
       "<polygon clip-path=\"url(#clip2303)\" points=\"\n",
       "663.376,1462.26 663.376,1462.26 675.707,1462.26 675.707,1462.26 663.376,1462.26 663.376,1462.26 \n",
       "  \" fill=\"#009af9\" fill-rule=\"evenodd\" fill-opacity=\"1\"/>\n",
       "<polyline clip-path=\"url(#clip2303)\" style=\"stroke:#000000; stroke-width:4; stroke-opacity:1; fill:none\" points=\"\n",
       "  663.376,1462.26 663.376,1462.26 675.707,1462.26 663.376,1462.26 \n",
       "  \"/>\n",
       "<polygon clip-path=\"url(#clip2303)\" points=\"\n",
       "675.707,1330.38 675.707,1462.26 688.037,1462.26 688.037,1330.38 675.707,1330.38 675.707,1330.38 \n",
       "  \" fill=\"#009af9\" fill-rule=\"evenodd\" fill-opacity=\"1\"/>\n",
       "<polyline clip-path=\"url(#clip2303)\" style=\"stroke:#000000; stroke-width:4; stroke-opacity:1; fill:none\" points=\"\n",
       "  675.707,1330.38 675.707,1462.26 688.037,1462.26 688.037,1330.38 675.707,1330.38 \n",
       "  \"/>\n",
       "<polygon clip-path=\"url(#clip2303)\" points=\"\n",
       "688.037,1462.26 688.037,1462.26 700.367,1462.26 700.367,1462.26 688.037,1462.26 688.037,1462.26 \n",
       "  \" fill=\"#009af9\" fill-rule=\"evenodd\" fill-opacity=\"1\"/>\n",
       "<polyline clip-path=\"url(#clip2303)\" style=\"stroke:#000000; stroke-width:4; stroke-opacity:1; fill:none\" points=\"\n",
       "  688.037,1462.26 688.037,1462.26 700.367,1462.26 688.037,1462.26 \n",
       "  \"/>\n",
       "<polygon clip-path=\"url(#clip2303)\" points=\"\n",
       "700.367,1330.38 700.367,1462.26 712.698,1462.26 712.698,1330.38 700.367,1330.38 700.367,1330.38 \n",
       "  \" fill=\"#009af9\" fill-rule=\"evenodd\" fill-opacity=\"1\"/>\n",
       "<polyline clip-path=\"url(#clip2303)\" style=\"stroke:#000000; stroke-width:4; stroke-opacity:1; fill:none\" points=\"\n",
       "  700.367,1330.38 700.367,1462.26 712.698,1462.26 712.698,1330.38 700.367,1330.38 \n",
       "  \"/>\n",
       "<polygon clip-path=\"url(#clip2303)\" points=\"\n",
       "712.698,1418.3 712.698,1462.26 725.028,1462.26 725.028,1418.3 712.698,1418.3 712.698,1418.3 \n",
       "  \" fill=\"#009af9\" fill-rule=\"evenodd\" fill-opacity=\"1\"/>\n",
       "<polyline clip-path=\"url(#clip2303)\" style=\"stroke:#000000; stroke-width:4; stroke-opacity:1; fill:none\" points=\"\n",
       "  712.698,1418.3 712.698,1462.26 725.028,1462.26 725.028,1418.3 712.698,1418.3 \n",
       "  \"/>\n",
       "<polygon clip-path=\"url(#clip2303)\" points=\"\n",
       "725.028,1374.34 725.028,1462.26 737.358,1462.26 737.358,1374.34 725.028,1374.34 725.028,1374.34 \n",
       "  \" fill=\"#009af9\" fill-rule=\"evenodd\" fill-opacity=\"1\"/>\n",
       "<polyline clip-path=\"url(#clip2303)\" style=\"stroke:#000000; stroke-width:4; stroke-opacity:1; fill:none\" points=\"\n",
       "  725.028,1374.34 725.028,1462.26 737.358,1462.26 737.358,1374.34 725.028,1374.34 \n",
       "  \"/>\n",
       "<polygon clip-path=\"url(#clip2303)\" points=\"\n",
       "737.358,1330.38 737.358,1462.26 749.689,1462.26 749.689,1330.38 737.358,1330.38 737.358,1330.38 \n",
       "  \" fill=\"#009af9\" fill-rule=\"evenodd\" fill-opacity=\"1\"/>\n",
       "<polyline clip-path=\"url(#clip2303)\" style=\"stroke:#000000; stroke-width:4; stroke-opacity:1; fill:none\" points=\"\n",
       "  737.358,1330.38 737.358,1462.26 749.689,1462.26 749.689,1330.38 737.358,1330.38 \n",
       "  \"/>\n",
       "<polygon clip-path=\"url(#clip2303)\" points=\"\n",
       "749.689,1462.26 749.689,1462.26 762.019,1462.26 762.019,1462.26 749.689,1462.26 749.689,1462.26 \n",
       "  \" fill=\"#009af9\" fill-rule=\"evenodd\" fill-opacity=\"1\"/>\n",
       "<polyline clip-path=\"url(#clip2303)\" style=\"stroke:#000000; stroke-width:4; stroke-opacity:1; fill:none\" points=\"\n",
       "  749.689,1462.26 749.689,1462.26 762.019,1462.26 749.689,1462.26 \n",
       "  \"/>\n",
       "<polygon clip-path=\"url(#clip2303)\" points=\"\n",
       "762.019,1330.38 762.019,1462.26 774.349,1462.26 774.349,1330.38 762.019,1330.38 762.019,1330.38 \n",
       "  \" fill=\"#009af9\" fill-rule=\"evenodd\" fill-opacity=\"1\"/>\n",
       "<polyline clip-path=\"url(#clip2303)\" style=\"stroke:#000000; stroke-width:4; stroke-opacity:1; fill:none\" points=\"\n",
       "  762.019,1330.38 762.019,1462.26 774.349,1462.26 774.349,1330.38 762.019,1330.38 \n",
       "  \"/>\n",
       "<polygon clip-path=\"url(#clip2303)\" points=\"\n",
       "774.349,1462.26 774.349,1462.26 786.68,1462.26 786.68,1462.26 774.349,1462.26 774.349,1462.26 \n",
       "  \" fill=\"#009af9\" fill-rule=\"evenodd\" fill-opacity=\"1\"/>\n",
       "<polyline clip-path=\"url(#clip2303)\" style=\"stroke:#000000; stroke-width:4; stroke-opacity:1; fill:none\" points=\"\n",
       "  774.349,1462.26 774.349,1462.26 786.68,1462.26 774.349,1462.26 \n",
       "  \"/>\n",
       "<polygon clip-path=\"url(#clip2303)\" points=\"\n",
       "786.68,1330.38 786.68,1462.26 799.01,1462.26 799.01,1330.38 786.68,1330.38 786.68,1330.38 \n",
       "  \" fill=\"#009af9\" fill-rule=\"evenodd\" fill-opacity=\"1\"/>\n",
       "<polyline clip-path=\"url(#clip2303)\" style=\"stroke:#000000; stroke-width:4; stroke-opacity:1; fill:none\" points=\"\n",
       "  786.68,1330.38 786.68,1462.26 799.01,1462.26 799.01,1330.38 786.68,1330.38 \n",
       "  \"/>\n",
       "<polygon clip-path=\"url(#clip2303)\" points=\"\n",
       "799.01,1462.26 799.01,1462.26 811.341,1462.26 811.341,1462.26 799.01,1462.26 799.01,1462.26 \n",
       "  \" fill=\"#009af9\" fill-rule=\"evenodd\" fill-opacity=\"1\"/>\n",
       "<polyline clip-path=\"url(#clip2303)\" style=\"stroke:#000000; stroke-width:4; stroke-opacity:1; fill:none\" points=\"\n",
       "  799.01,1462.26 799.01,1462.26 811.341,1462.26 799.01,1462.26 \n",
       "  \"/>\n",
       "<polygon clip-path=\"url(#clip2303)\" points=\"\n",
       "811.341,1330.38 811.341,1462.26 823.671,1462.26 823.671,1330.38 811.341,1330.38 811.341,1330.38 \n",
       "  \" fill=\"#009af9\" fill-rule=\"evenodd\" fill-opacity=\"1\"/>\n",
       "<polyline clip-path=\"url(#clip2303)\" style=\"stroke:#000000; stroke-width:4; stroke-opacity:1; fill:none\" points=\"\n",
       "  811.341,1330.38 811.341,1462.26 823.671,1462.26 823.671,1330.38 811.341,1330.38 \n",
       "  \"/>\n",
       "<polygon clip-path=\"url(#clip2303)\" points=\"\n",
       "823.671,1462.26 823.671,1462.26 836.001,1462.26 836.001,1462.26 823.671,1462.26 823.671,1462.26 \n",
       "  \" fill=\"#009af9\" fill-rule=\"evenodd\" fill-opacity=\"1\"/>\n",
       "<polyline clip-path=\"url(#clip2303)\" style=\"stroke:#000000; stroke-width:4; stroke-opacity:1; fill:none\" points=\"\n",
       "  823.671,1462.26 823.671,1462.26 836.001,1462.26 823.671,1462.26 \n",
       "  \"/>\n",
       "<polygon clip-path=\"url(#clip2303)\" points=\"\n",
       "836.001,1330.38 836.001,1462.26 848.332,1462.26 848.332,1330.38 836.001,1330.38 836.001,1330.38 \n",
       "  \" fill=\"#009af9\" fill-rule=\"evenodd\" fill-opacity=\"1\"/>\n",
       "<polyline clip-path=\"url(#clip2303)\" style=\"stroke:#000000; stroke-width:4; stroke-opacity:1; fill:none\" points=\"\n",
       "  836.001,1330.38 836.001,1462.26 848.332,1462.26 848.332,1330.38 836.001,1330.38 \n",
       "  \"/>\n",
       "<polygon clip-path=\"url(#clip2303)\" points=\"\n",
       "848.332,1330.38 848.332,1462.26 860.662,1462.26 860.662,1330.38 848.332,1330.38 848.332,1330.38 \n",
       "  \" fill=\"#009af9\" fill-rule=\"evenodd\" fill-opacity=\"1\"/>\n",
       "<polyline clip-path=\"url(#clip2303)\" style=\"stroke:#000000; stroke-width:4; stroke-opacity:1; fill:none\" points=\"\n",
       "  848.332,1330.38 848.332,1462.26 860.662,1462.26 860.662,1330.38 848.332,1330.38 \n",
       "  \"/>\n",
       "<polygon clip-path=\"url(#clip2303)\" points=\"\n",
       "860.662,1462.26 860.662,1462.26 872.992,1462.26 872.992,1462.26 860.662,1462.26 860.662,1462.26 \n",
       "  \" fill=\"#009af9\" fill-rule=\"evenodd\" fill-opacity=\"1\"/>\n",
       "<polyline clip-path=\"url(#clip2303)\" style=\"stroke:#000000; stroke-width:4; stroke-opacity:1; fill:none\" points=\"\n",
       "  860.662,1462.26 860.662,1462.26 872.992,1462.26 860.662,1462.26 \n",
       "  \"/>\n",
       "<polygon clip-path=\"url(#clip2303)\" points=\"\n",
       "872.992,1462.26 872.992,1462.26 885.323,1462.26 885.323,1462.26 872.992,1462.26 872.992,1462.26 \n",
       "  \" fill=\"#009af9\" fill-rule=\"evenodd\" fill-opacity=\"1\"/>\n",
       "<polyline clip-path=\"url(#clip2303)\" style=\"stroke:#000000; stroke-width:4; stroke-opacity:1; fill:none\" points=\"\n",
       "  872.992,1462.26 872.992,1462.26 885.323,1462.26 872.992,1462.26 \n",
       "  \"/>\n",
       "<polygon clip-path=\"url(#clip2303)\" points=\"\n",
       "885.323,1462.26 885.323,1462.26 897.653,1462.26 897.653,1462.26 885.323,1462.26 885.323,1462.26 \n",
       "  \" fill=\"#009af9\" fill-rule=\"evenodd\" fill-opacity=\"1\"/>\n",
       "<polyline clip-path=\"url(#clip2303)\" style=\"stroke:#000000; stroke-width:4; stroke-opacity:1; fill:none\" points=\"\n",
       "  885.323,1462.26 885.323,1462.26 897.653,1462.26 885.323,1462.26 \n",
       "  \"/>\n",
       "<polygon clip-path=\"url(#clip2303)\" points=\"\n",
       "897.653,1462.26 897.653,1462.26 909.983,1462.26 909.983,1462.26 897.653,1462.26 897.653,1462.26 \n",
       "  \" fill=\"#009af9\" fill-rule=\"evenodd\" fill-opacity=\"1\"/>\n",
       "<polyline clip-path=\"url(#clip2303)\" style=\"stroke:#000000; stroke-width:4; stroke-opacity:1; fill:none\" points=\"\n",
       "  897.653,1462.26 897.653,1462.26 909.983,1462.26 897.653,1462.26 \n",
       "  \"/>\n",
       "<polygon clip-path=\"url(#clip2303)\" points=\"\n",
       "909.983,1462.26 909.983,1462.26 922.314,1462.26 922.314,1462.26 909.983,1462.26 909.983,1462.26 \n",
       "  \" fill=\"#009af9\" fill-rule=\"evenodd\" fill-opacity=\"1\"/>\n",
       "<polyline clip-path=\"url(#clip2303)\" style=\"stroke:#000000; stroke-width:4; stroke-opacity:1; fill:none\" points=\"\n",
       "  909.983,1462.26 909.983,1462.26 922.314,1462.26 909.983,1462.26 \n",
       "  \"/>\n",
       "<polygon clip-path=\"url(#clip2303)\" points=\"\n",
       "922.314,1462.26 922.314,1462.26 934.644,1462.26 934.644,1462.26 922.314,1462.26 922.314,1462.26 \n",
       "  \" fill=\"#009af9\" fill-rule=\"evenodd\" fill-opacity=\"1\"/>\n",
       "<polyline clip-path=\"url(#clip2303)\" style=\"stroke:#000000; stroke-width:4; stroke-opacity:1; fill:none\" points=\"\n",
       "  922.314,1462.26 922.314,1462.26 934.644,1462.26 922.314,1462.26 \n",
       "  \"/>\n",
       "<polygon clip-path=\"url(#clip2303)\" points=\"\n",
       "934.644,1434.78 934.644,1462.26 946.974,1462.26 946.974,1434.78 934.644,1434.78 934.644,1434.78 \n",
       "  \" fill=\"#009af9\" fill-rule=\"evenodd\" fill-opacity=\"1\"/>\n",
       "<polyline clip-path=\"url(#clip2303)\" style=\"stroke:#000000; stroke-width:4; stroke-opacity:1; fill:none\" points=\"\n",
       "  934.644,1434.78 934.644,1462.26 946.974,1462.26 946.974,1434.78 934.644,1434.78 \n",
       "  \"/>\n",
       "<polygon clip-path=\"url(#clip2303)\" points=\"\n",
       "946.974,1462.26 946.974,1462.26 959.305,1462.26 959.305,1462.26 946.974,1462.26 946.974,1462.26 \n",
       "  \" fill=\"#009af9\" fill-rule=\"evenodd\" fill-opacity=\"1\"/>\n",
       "<polyline clip-path=\"url(#clip2303)\" style=\"stroke:#000000; stroke-width:4; stroke-opacity:1; fill:none\" points=\"\n",
       "  946.974,1462.26 946.974,1462.26 959.305,1462.26 946.974,1462.26 \n",
       "  \"/>\n",
       "<polygon clip-path=\"url(#clip2303)\" points=\"\n",
       "959.305,1434.78 959.305,1462.26 971.635,1462.26 971.635,1434.78 959.305,1434.78 959.305,1434.78 \n",
       "  \" fill=\"#009af9\" fill-rule=\"evenodd\" fill-opacity=\"1\"/>\n",
       "<polyline clip-path=\"url(#clip2303)\" style=\"stroke:#000000; stroke-width:4; stroke-opacity:1; fill:none\" points=\"\n",
       "  959.305,1434.78 959.305,1462.26 971.635,1462.26 971.635,1434.78 959.305,1434.78 \n",
       "  \"/>\n",
       "<polygon clip-path=\"url(#clip2303)\" points=\"\n",
       "971.635,1462.26 971.635,1462.26 983.966,1462.26 983.966,1462.26 971.635,1462.26 971.635,1462.26 \n",
       "  \" fill=\"#009af9\" fill-rule=\"evenodd\" fill-opacity=\"1\"/>\n",
       "<polyline clip-path=\"url(#clip2303)\" style=\"stroke:#000000; stroke-width:4; stroke-opacity:1; fill:none\" points=\"\n",
       "  971.635,1462.26 971.635,1462.26 983.966,1462.26 971.635,1462.26 \n",
       "  \"/>\n",
       "<polygon clip-path=\"url(#clip2303)\" points=\"\n",
       "983.966,1434.78 983.966,1462.26 996.296,1462.26 996.296,1434.78 983.966,1434.78 983.966,1434.78 \n",
       "  \" fill=\"#009af9\" fill-rule=\"evenodd\" fill-opacity=\"1\"/>\n",
       "<polyline clip-path=\"url(#clip2303)\" style=\"stroke:#000000; stroke-width:4; stroke-opacity:1; fill:none\" points=\"\n",
       "  983.966,1434.78 983.966,1462.26 996.296,1462.26 996.296,1434.78 983.966,1434.78 \n",
       "  \"/>\n",
       "<polygon clip-path=\"url(#clip2303)\" points=\"\n",
       "996.296,1462.26 996.296,1462.26 1008.63,1462.26 1008.63,1462.26 996.296,1462.26 996.296,1462.26 \n",
       "  \" fill=\"#009af9\" fill-rule=\"evenodd\" fill-opacity=\"1\"/>\n",
       "<polyline clip-path=\"url(#clip2303)\" style=\"stroke:#000000; stroke-width:4; stroke-opacity:1; fill:none\" points=\"\n",
       "  996.296,1462.26 996.296,1462.26 1008.63,1462.26 996.296,1462.26 \n",
       "  \"/>\n",
       "<polygon clip-path=\"url(#clip2303)\" points=\"\n",
       "1008.63,1434.78 1008.63,1462.26 1020.96,1462.26 1020.96,1434.78 1008.63,1434.78 1008.63,1434.78 \n",
       "  \" fill=\"#009af9\" fill-rule=\"evenodd\" fill-opacity=\"1\"/>\n",
       "<polyline clip-path=\"url(#clip2303)\" style=\"stroke:#000000; stroke-width:4; stroke-opacity:1; fill:none\" points=\"\n",
       "  1008.63,1434.78 1008.63,1462.26 1020.96,1462.26 1020.96,1434.78 1008.63,1434.78 \n",
       "  \"/>\n",
       "<polygon clip-path=\"url(#clip2303)\" points=\"\n",
       "1020.96,1462.26 1020.96,1462.26 1033.29,1462.26 1033.29,1462.26 1020.96,1462.26 1020.96,1462.26 \n",
       "  \" fill=\"#009af9\" fill-rule=\"evenodd\" fill-opacity=\"1\"/>\n",
       "<polyline clip-path=\"url(#clip2303)\" style=\"stroke:#000000; stroke-width:4; stroke-opacity:1; fill:none\" points=\"\n",
       "  1020.96,1462.26 1020.96,1462.26 1033.29,1462.26 1020.96,1462.26 \n",
       "  \"/>\n",
       "<polygon clip-path=\"url(#clip2303)\" points=\"\n",
       "1033.29,1434.78 1033.29,1462.26 1045.62,1462.26 1045.62,1434.78 1033.29,1434.78 1033.29,1434.78 \n",
       "  \" fill=\"#009af9\" fill-rule=\"evenodd\" fill-opacity=\"1\"/>\n",
       "<polyline clip-path=\"url(#clip2303)\" style=\"stroke:#000000; stroke-width:4; stroke-opacity:1; fill:none\" points=\"\n",
       "  1033.29,1434.78 1033.29,1462.26 1045.62,1462.26 1045.62,1434.78 1033.29,1434.78 \n",
       "  \"/>\n",
       "<polygon clip-path=\"url(#clip2303)\" points=\"\n",
       "1045.62,1434.78 1045.62,1462.26 1057.95,1462.26 1057.95,1434.78 1045.62,1434.78 1045.62,1434.78 \n",
       "  \" fill=\"#009af9\" fill-rule=\"evenodd\" fill-opacity=\"1\"/>\n",
       "<polyline clip-path=\"url(#clip2303)\" style=\"stroke:#000000; stroke-width:4; stroke-opacity:1; fill:none\" points=\"\n",
       "  1045.62,1434.78 1045.62,1462.26 1057.95,1462.26 1057.95,1434.78 1045.62,1434.78 \n",
       "  \"/>\n",
       "<polygon clip-path=\"url(#clip2303)\" points=\"\n",
       "1057.95,1462.26 1057.95,1462.26 1070.28,1462.26 1070.28,1462.26 1057.95,1462.26 1057.95,1462.26 \n",
       "  \" fill=\"#009af9\" fill-rule=\"evenodd\" fill-opacity=\"1\"/>\n",
       "<polyline clip-path=\"url(#clip2303)\" style=\"stroke:#000000; stroke-width:4; stroke-opacity:1; fill:none\" points=\"\n",
       "  1057.95,1462.26 1057.95,1462.26 1070.28,1462.26 1057.95,1462.26 \n",
       "  \"/>\n",
       "<polygon clip-path=\"url(#clip2303)\" points=\"\n",
       "1070.28,1434.78 1070.28,1462.26 1082.61,1462.26 1082.61,1434.78 1070.28,1434.78 1070.28,1434.78 \n",
       "  \" fill=\"#009af9\" fill-rule=\"evenodd\" fill-opacity=\"1\"/>\n",
       "<polyline clip-path=\"url(#clip2303)\" style=\"stroke:#000000; stroke-width:4; stroke-opacity:1; fill:none\" points=\"\n",
       "  1070.28,1434.78 1070.28,1462.26 1082.61,1462.26 1082.61,1434.78 1070.28,1434.78 \n",
       "  \"/>\n",
       "<polygon clip-path=\"url(#clip2303)\" points=\"\n",
       "1082.61,1462.26 1082.61,1462.26 1094.94,1462.26 1094.94,1462.26 1082.61,1462.26 1082.61,1462.26 \n",
       "  \" fill=\"#009af9\" fill-rule=\"evenodd\" fill-opacity=\"1\"/>\n",
       "<polyline clip-path=\"url(#clip2303)\" style=\"stroke:#000000; stroke-width:4; stroke-opacity:1; fill:none\" points=\"\n",
       "  1082.61,1462.26 1082.61,1462.26 1094.94,1462.26 1082.61,1462.26 \n",
       "  \"/>\n",
       "<polygon clip-path=\"url(#clip2303)\" points=\"\n",
       "1094.94,1434.78 1094.94,1462.26 1107.27,1462.26 1107.27,1434.78 1094.94,1434.78 1094.94,1434.78 \n",
       "  \" fill=\"#009af9\" fill-rule=\"evenodd\" fill-opacity=\"1\"/>\n",
       "<polyline clip-path=\"url(#clip2303)\" style=\"stroke:#000000; stroke-width:4; stroke-opacity:1; fill:none\" points=\"\n",
       "  1094.94,1434.78 1094.94,1462.26 1107.27,1462.26 1107.27,1434.78 1094.94,1434.78 \n",
       "  \"/>\n",
       "<polygon clip-path=\"url(#clip2303)\" points=\"\n",
       "1107.27,1462.26 1107.27,1462.26 1119.6,1462.26 1119.6,1462.26 1107.27,1462.26 1107.27,1462.26 \n",
       "  \" fill=\"#009af9\" fill-rule=\"evenodd\" fill-opacity=\"1\"/>\n",
       "<polyline clip-path=\"url(#clip2303)\" style=\"stroke:#000000; stroke-width:4; stroke-opacity:1; fill:none\" points=\"\n",
       "  1107.27,1462.26 1107.27,1462.26 1119.6,1462.26 1107.27,1462.26 \n",
       "  \"/>\n",
       "<polygon clip-path=\"url(#clip2303)\" points=\"\n",
       "1119.6,1434.78 1119.6,1462.26 1131.93,1462.26 1131.93,1434.78 1119.6,1434.78 1119.6,1434.78 \n",
       "  \" fill=\"#009af9\" fill-rule=\"evenodd\" fill-opacity=\"1\"/>\n",
       "<polyline clip-path=\"url(#clip2303)\" style=\"stroke:#000000; stroke-width:4; stroke-opacity:1; fill:none\" points=\"\n",
       "  1119.6,1434.78 1119.6,1462.26 1131.93,1462.26 1131.93,1434.78 1119.6,1434.78 \n",
       "  \"/>\n",
       "<polygon clip-path=\"url(#clip2303)\" points=\"\n",
       "1131.93,1462.26 1131.93,1462.26 1144.26,1462.26 1144.26,1462.26 1131.93,1462.26 1131.93,1462.26 \n",
       "  \" fill=\"#009af9\" fill-rule=\"evenodd\" fill-opacity=\"1\"/>\n",
       "<polyline clip-path=\"url(#clip2303)\" style=\"stroke:#000000; stroke-width:4; stroke-opacity:1; fill:none\" points=\"\n",
       "  1131.93,1462.26 1131.93,1462.26 1144.26,1462.26 1131.93,1462.26 \n",
       "  \"/>\n",
       "<polygon clip-path=\"url(#clip2303)\" points=\"\n",
       "1144.26,1434.78 1144.26,1462.26 1156.59,1462.26 1156.59,1434.78 1144.26,1434.78 1144.26,1434.78 \n",
       "  \" fill=\"#009af9\" fill-rule=\"evenodd\" fill-opacity=\"1\"/>\n",
       "<polyline clip-path=\"url(#clip2303)\" style=\"stroke:#000000; stroke-width:4; stroke-opacity:1; fill:none\" points=\"\n",
       "  1144.26,1434.78 1144.26,1462.26 1156.59,1462.26 1156.59,1434.78 1144.26,1434.78 \n",
       "  \"/>\n",
       "<polygon clip-path=\"url(#clip2303)\" points=\"\n",
       "1156.59,1462.26 1156.59,1462.26 1168.92,1462.26 1168.92,1462.26 1156.59,1462.26 1156.59,1462.26 \n",
       "  \" fill=\"#009af9\" fill-rule=\"evenodd\" fill-opacity=\"1\"/>\n",
       "<polyline clip-path=\"url(#clip2303)\" style=\"stroke:#000000; stroke-width:4; stroke-opacity:1; fill:none\" points=\"\n",
       "  1156.59,1462.26 1156.59,1462.26 1168.92,1462.26 1156.59,1462.26 \n",
       "  \"/>\n",
       "<polygon clip-path=\"url(#clip2303)\" points=\"\n",
       "1168.92,1434.78 1168.92,1462.26 1181.25,1462.26 1181.25,1434.78 1168.92,1434.78 1168.92,1434.78 \n",
       "  \" fill=\"#009af9\" fill-rule=\"evenodd\" fill-opacity=\"1\"/>\n",
       "<polyline clip-path=\"url(#clip2303)\" style=\"stroke:#000000; stroke-width:4; stroke-opacity:1; fill:none\" points=\"\n",
       "  1168.92,1434.78 1168.92,1462.26 1181.25,1462.26 1181.25,1434.78 1168.92,1434.78 \n",
       "  \"/>\n",
       "<polygon clip-path=\"url(#clip2303)\" points=\"\n",
       "1181.25,1434.78 1181.25,1462.26 1193.58,1462.26 1193.58,1434.78 1181.25,1434.78 1181.25,1434.78 \n",
       "  \" fill=\"#009af9\" fill-rule=\"evenodd\" fill-opacity=\"1\"/>\n",
       "<polyline clip-path=\"url(#clip2303)\" style=\"stroke:#000000; stroke-width:4; stroke-opacity:1; fill:none\" points=\"\n",
       "  1181.25,1434.78 1181.25,1462.26 1193.58,1462.26 1193.58,1434.78 1181.25,1434.78 \n",
       "  \"/>\n",
       "<polygon clip-path=\"url(#clip2303)\" points=\"\n",
       "1193.58,1462.26 1193.58,1462.26 1205.91,1462.26 1205.91,1462.26 1193.58,1462.26 1193.58,1462.26 \n",
       "  \" fill=\"#009af9\" fill-rule=\"evenodd\" fill-opacity=\"1\"/>\n",
       "<polyline clip-path=\"url(#clip2303)\" style=\"stroke:#000000; stroke-width:4; stroke-opacity:1; fill:none\" points=\"\n",
       "  1193.58,1462.26 1193.58,1462.26 1205.91,1462.26 1193.58,1462.26 \n",
       "  \"/>\n",
       "<polygon clip-path=\"url(#clip2303)\" points=\"\n",
       "1205.91,1462.26 1205.91,1462.26 1218.24,1462.26 1218.24,1462.26 1205.91,1462.26 1205.91,1462.26 \n",
       "  \" fill=\"#009af9\" fill-rule=\"evenodd\" fill-opacity=\"1\"/>\n",
       "<polyline clip-path=\"url(#clip2303)\" style=\"stroke:#000000; stroke-width:4; stroke-opacity:1; fill:none\" points=\"\n",
       "  1205.91,1462.26 1205.91,1462.26 1218.24,1462.26 1205.91,1462.26 \n",
       "  \"/>\n",
       "<polygon clip-path=\"url(#clip2303)\" points=\"\n",
       "1218.24,1462.26 1218.24,1462.26 1230.57,1462.26 1230.57,1462.26 1218.24,1462.26 1218.24,1462.26 \n",
       "  \" fill=\"#009af9\" fill-rule=\"evenodd\" fill-opacity=\"1\"/>\n",
       "<polyline clip-path=\"url(#clip2303)\" style=\"stroke:#000000; stroke-width:4; stroke-opacity:1; fill:none\" points=\"\n",
       "  1218.24,1462.26 1218.24,1462.26 1230.57,1462.26 1218.24,1462.26 \n",
       "  \"/>\n",
       "<polygon clip-path=\"url(#clip2303)\" points=\"\n",
       "1230.57,1462.26 1230.57,1462.26 1242.9,1462.26 1242.9,1462.26 1230.57,1462.26 1230.57,1462.26 \n",
       "  \" fill=\"#009af9\" fill-rule=\"evenodd\" fill-opacity=\"1\"/>\n",
       "<polyline clip-path=\"url(#clip2303)\" style=\"stroke:#000000; stroke-width:4; stroke-opacity:1; fill:none\" points=\"\n",
       "  1230.57,1462.26 1230.57,1462.26 1242.9,1462.26 1230.57,1462.26 \n",
       "  \"/>\n",
       "<polygon clip-path=\"url(#clip2303)\" points=\"\n",
       "1242.9,1462.26 1242.9,1462.26 1255.23,1462.26 1255.23,1462.26 1242.9,1462.26 1242.9,1462.26 \n",
       "  \" fill=\"#009af9\" fill-rule=\"evenodd\" fill-opacity=\"1\"/>\n",
       "<polyline clip-path=\"url(#clip2303)\" style=\"stroke:#000000; stroke-width:4; stroke-opacity:1; fill:none\" points=\"\n",
       "  1242.9,1462.26 1242.9,1462.26 1255.23,1462.26 1242.9,1462.26 \n",
       "  \"/>\n",
       "<polygon clip-path=\"url(#clip2303)\" points=\"\n",
       "1255.23,1462.26 1255.23,1462.26 1267.56,1462.26 1267.56,1462.26 1255.23,1462.26 1255.23,1462.26 \n",
       "  \" fill=\"#009af9\" fill-rule=\"evenodd\" fill-opacity=\"1\"/>\n",
       "<polyline clip-path=\"url(#clip2303)\" style=\"stroke:#000000; stroke-width:4; stroke-opacity:1; fill:none\" points=\"\n",
       "  1255.23,1462.26 1255.23,1462.26 1267.56,1462.26 1255.23,1462.26 \n",
       "  \"/>\n",
       "<polygon clip-path=\"url(#clip2303)\" points=\"\n",
       "1267.56,1462.26 1267.56,1462.26 1279.89,1462.26 1279.89,1462.26 1267.56,1462.26 1267.56,1462.26 \n",
       "  \" fill=\"#009af9\" fill-rule=\"evenodd\" fill-opacity=\"1\"/>\n",
       "<polyline clip-path=\"url(#clip2303)\" style=\"stroke:#000000; stroke-width:4; stroke-opacity:1; fill:none\" points=\"\n",
       "  1267.56,1462.26 1267.56,1462.26 1279.89,1462.26 1267.56,1462.26 \n",
       "  \"/>\n",
       "<polygon clip-path=\"url(#clip2303)\" points=\"\n",
       "1279.89,1462.26 1279.89,1462.26 1292.22,1462.26 1292.22,1462.26 1279.89,1462.26 1279.89,1462.26 \n",
       "  \" fill=\"#009af9\" fill-rule=\"evenodd\" fill-opacity=\"1\"/>\n",
       "<polyline clip-path=\"url(#clip2303)\" style=\"stroke:#000000; stroke-width:4; stroke-opacity:1; fill:none\" points=\"\n",
       "  1279.89,1462.26 1279.89,1462.26 1292.22,1462.26 1279.89,1462.26 \n",
       "  \"/>\n",
       "<polygon clip-path=\"url(#clip2303)\" points=\"\n",
       "1292.22,1462.26 1292.22,1462.26 1304.55,1462.26 1304.55,1462.26 1292.22,1462.26 1292.22,1462.26 \n",
       "  \" fill=\"#009af9\" fill-rule=\"evenodd\" fill-opacity=\"1\"/>\n",
       "<polyline clip-path=\"url(#clip2303)\" style=\"stroke:#000000; stroke-width:4; stroke-opacity:1; fill:none\" points=\"\n",
       "  1292.22,1462.26 1292.22,1462.26 1304.55,1462.26 1292.22,1462.26 \n",
       "  \"/>\n",
       "<polygon clip-path=\"url(#clip2303)\" points=\"\n",
       "1304.55,1462.26 1304.55,1462.26 1316.89,1462.26 1316.89,1462.26 1304.55,1462.26 1304.55,1462.26 \n",
       "  \" fill=\"#009af9\" fill-rule=\"evenodd\" fill-opacity=\"1\"/>\n",
       "<polyline clip-path=\"url(#clip2303)\" style=\"stroke:#000000; stroke-width:4; stroke-opacity:1; fill:none\" points=\"\n",
       "  1304.55,1462.26 1304.55,1462.26 1316.89,1462.26 1304.55,1462.26 \n",
       "  \"/>\n",
       "<polygon clip-path=\"url(#clip2303)\" points=\"\n",
       "1316.89,1458.6 1316.89,1462.26 1329.22,1462.26 1329.22,1458.6 1316.89,1458.6 1316.89,1458.6 \n",
       "  \" fill=\"#009af9\" fill-rule=\"evenodd\" fill-opacity=\"1\"/>\n",
       "<polyline clip-path=\"url(#clip2303)\" style=\"stroke:#000000; stroke-width:4; stroke-opacity:1; fill:none\" points=\"\n",
       "  1316.89,1458.6 1316.89,1462.26 1329.22,1462.26 1329.22,1458.6 1316.89,1458.6 \n",
       "  \"/>\n",
       "<polygon clip-path=\"url(#clip2303)\" points=\"\n",
       "1329.22,1462.26 1329.22,1462.26 1341.55,1462.26 1341.55,1462.26 1329.22,1462.26 1329.22,1462.26 \n",
       "  \" fill=\"#009af9\" fill-rule=\"evenodd\" fill-opacity=\"1\"/>\n",
       "<polyline clip-path=\"url(#clip2303)\" style=\"stroke:#000000; stroke-width:4; stroke-opacity:1; fill:none\" points=\"\n",
       "  1329.22,1462.26 1329.22,1462.26 1341.55,1462.26 1329.22,1462.26 \n",
       "  \"/>\n",
       "<polygon clip-path=\"url(#clip2303)\" points=\"\n",
       "1341.55,1453.1 1341.55,1462.26 1353.88,1462.26 1353.88,1453.1 1341.55,1453.1 1341.55,1453.1 \n",
       "  \" fill=\"#009af9\" fill-rule=\"evenodd\" fill-opacity=\"1\"/>\n",
       "<polyline clip-path=\"url(#clip2303)\" style=\"stroke:#000000; stroke-width:4; stroke-opacity:1; fill:none\" points=\"\n",
       "  1341.55,1453.1 1341.55,1462.26 1353.88,1462.26 1353.88,1453.1 1341.55,1453.1 \n",
       "  \"/>\n",
       "<polygon clip-path=\"url(#clip2303)\" points=\"\n",
       "1353.88,1451.27 1353.88,1462.26 1366.21,1462.26 1366.21,1451.27 1353.88,1451.27 1353.88,1451.27 \n",
       "  \" fill=\"#009af9\" fill-rule=\"evenodd\" fill-opacity=\"1\"/>\n",
       "<polyline clip-path=\"url(#clip2303)\" style=\"stroke:#000000; stroke-width:4; stroke-opacity:1; fill:none\" points=\"\n",
       "  1353.88,1451.27 1353.88,1462.26 1366.21,1462.26 1366.21,1451.27 1353.88,1451.27 \n",
       "  \"/>\n",
       "<polygon clip-path=\"url(#clip2303)\" points=\"\n",
       "1366.21,1456.77 1366.21,1462.26 1378.54,1462.26 1378.54,1456.77 1366.21,1456.77 1366.21,1456.77 \n",
       "  \" fill=\"#009af9\" fill-rule=\"evenodd\" fill-opacity=\"1\"/>\n",
       "<polyline clip-path=\"url(#clip2303)\" style=\"stroke:#000000; stroke-width:4; stroke-opacity:1; fill:none\" points=\"\n",
       "  1366.21,1456.77 1366.21,1462.26 1378.54,1462.26 1378.54,1456.77 1366.21,1456.77 \n",
       "  \"/>\n",
       "<polygon clip-path=\"url(#clip2303)\" points=\"\n",
       "1378.54,1436.62 1378.54,1462.26 1390.87,1462.26 1390.87,1436.62 1378.54,1436.62 1378.54,1436.62 \n",
       "  \" fill=\"#009af9\" fill-rule=\"evenodd\" fill-opacity=\"1\"/>\n",
       "<polyline clip-path=\"url(#clip2303)\" style=\"stroke:#000000; stroke-width:4; stroke-opacity:1; fill:none\" points=\"\n",
       "  1378.54,1436.62 1378.54,1462.26 1390.87,1462.26 1390.87,1436.62 1378.54,1436.62 \n",
       "  \"/>\n",
       "<polygon clip-path=\"url(#clip2303)\" points=\"\n",
       "1390.87,1462.26 1390.87,1462.26 1403.2,1462.26 1403.2,1462.26 1390.87,1462.26 1390.87,1462.26 \n",
       "  \" fill=\"#009af9\" fill-rule=\"evenodd\" fill-opacity=\"1\"/>\n",
       "<polyline clip-path=\"url(#clip2303)\" style=\"stroke:#000000; stroke-width:4; stroke-opacity:1; fill:none\" points=\"\n",
       "  1390.87,1462.26 1390.87,1462.26 1403.2,1462.26 1390.87,1462.26 \n",
       "  \"/>\n",
       "<polygon clip-path=\"url(#clip2303)\" points=\"\n",
       "1403.2,1425.63 1403.2,1462.26 1415.53,1462.26 1415.53,1425.63 1403.2,1425.63 1403.2,1425.63 \n",
       "  \" fill=\"#009af9\" fill-rule=\"evenodd\" fill-opacity=\"1\"/>\n",
       "<polyline clip-path=\"url(#clip2303)\" style=\"stroke:#000000; stroke-width:4; stroke-opacity:1; fill:none\" points=\"\n",
       "  1403.2,1425.63 1403.2,1462.26 1415.53,1462.26 1415.53,1425.63 1403.2,1425.63 \n",
       "  \"/>\n",
       "<polygon clip-path=\"url(#clip2303)\" points=\"\n",
       "1415.53,1456.77 1415.53,1462.26 1427.86,1462.26 1427.86,1456.77 1415.53,1456.77 1415.53,1456.77 \n",
       "  \" fill=\"#009af9\" fill-rule=\"evenodd\" fill-opacity=\"1\"/>\n",
       "<polyline clip-path=\"url(#clip2303)\" style=\"stroke:#000000; stroke-width:4; stroke-opacity:1; fill:none\" points=\"\n",
       "  1415.53,1456.77 1415.53,1462.26 1427.86,1462.26 1427.86,1456.77 1415.53,1456.77 \n",
       "  \"/>\n",
       "<polygon clip-path=\"url(#clip2303)\" points=\"\n",
       "1427.86,1418.3 1427.86,1462.26 1440.19,1462.26 1440.19,1418.3 1427.86,1418.3 1427.86,1418.3 \n",
       "  \" fill=\"#009af9\" fill-rule=\"evenodd\" fill-opacity=\"1\"/>\n",
       "<polyline clip-path=\"url(#clip2303)\" style=\"stroke:#000000; stroke-width:4; stroke-opacity:1; fill:none\" points=\"\n",
       "  1427.86,1418.3 1427.86,1462.26 1440.19,1462.26 1440.19,1418.3 1427.86,1418.3 \n",
       "  \"/>\n",
       "<polygon clip-path=\"url(#clip2303)\" points=\"\n",
       "1440.19,1440.28 1440.19,1462.26 1452.52,1462.26 1452.52,1440.28 1440.19,1440.28 1440.19,1440.28 \n",
       "  \" fill=\"#009af9\" fill-rule=\"evenodd\" fill-opacity=\"1\"/>\n",
       "<polyline clip-path=\"url(#clip2303)\" style=\"stroke:#000000; stroke-width:4; stroke-opacity:1; fill:none\" points=\"\n",
       "  1440.19,1440.28 1440.19,1462.26 1452.52,1462.26 1452.52,1440.28 1440.19,1440.28 \n",
       "  \"/>\n",
       "<polygon clip-path=\"url(#clip2303)\" points=\"\n",
       "1452.52,1420.13 1452.52,1462.26 1464.85,1462.26 1464.85,1420.13 1452.52,1420.13 1452.52,1420.13 \n",
       "  \" fill=\"#009af9\" fill-rule=\"evenodd\" fill-opacity=\"1\"/>\n",
       "<polyline clip-path=\"url(#clip2303)\" style=\"stroke:#000000; stroke-width:4; stroke-opacity:1; fill:none\" points=\"\n",
       "  1452.52,1420.13 1452.52,1462.26 1464.85,1462.26 1464.85,1420.13 1452.52,1420.13 \n",
       "  \"/>\n",
       "<polygon clip-path=\"url(#clip2303)\" points=\"\n",
       "1464.85,1410.97 1464.85,1462.26 1477.18,1462.26 1477.18,1410.97 1464.85,1410.97 1464.85,1410.97 \n",
       "  \" fill=\"#009af9\" fill-rule=\"evenodd\" fill-opacity=\"1\"/>\n",
       "<polyline clip-path=\"url(#clip2303)\" style=\"stroke:#000000; stroke-width:4; stroke-opacity:1; fill:none\" points=\"\n",
       "  1464.85,1410.97 1464.85,1462.26 1477.18,1462.26 1477.18,1410.97 1464.85,1410.97 \n",
       "  \"/>\n",
       "<polygon clip-path=\"url(#clip2303)\" points=\"\n",
       "1477.18,1427.46 1477.18,1462.26 1489.51,1462.26 1489.51,1427.46 1477.18,1427.46 1477.18,1427.46 \n",
       "  \" fill=\"#009af9\" fill-rule=\"evenodd\" fill-opacity=\"1\"/>\n",
       "<polyline clip-path=\"url(#clip2303)\" style=\"stroke:#000000; stroke-width:4; stroke-opacity:1; fill:none\" points=\"\n",
       "  1477.18,1427.46 1477.18,1462.26 1489.51,1462.26 1489.51,1427.46 1477.18,1427.46 \n",
       "  \"/>\n",
       "<polygon clip-path=\"url(#clip2303)\" points=\"\n",
       "1489.51,1385.33 1489.51,1462.26 1501.84,1462.26 1501.84,1385.33 1489.51,1385.33 1489.51,1385.33 \n",
       "  \" fill=\"#009af9\" fill-rule=\"evenodd\" fill-opacity=\"1\"/>\n",
       "<polyline clip-path=\"url(#clip2303)\" style=\"stroke:#000000; stroke-width:4; stroke-opacity:1; fill:none\" points=\"\n",
       "  1489.51,1385.33 1489.51,1462.26 1501.84,1462.26 1501.84,1385.33 1489.51,1385.33 \n",
       "  \"/>\n",
       "<polygon clip-path=\"url(#clip2303)\" points=\"\n",
       "1501.84,1429.29 1501.84,1462.26 1514.17,1462.26 1514.17,1429.29 1501.84,1429.29 1501.84,1429.29 \n",
       "  \" fill=\"#009af9\" fill-rule=\"evenodd\" fill-opacity=\"1\"/>\n",
       "<polyline clip-path=\"url(#clip2303)\" style=\"stroke:#000000; stroke-width:4; stroke-opacity:1; fill:none\" points=\"\n",
       "  1501.84,1429.29 1501.84,1462.26 1514.17,1462.26 1514.17,1429.29 1501.84,1429.29 \n",
       "  \"/>\n",
       "<polygon clip-path=\"url(#clip2303)\" points=\"\n",
       "1514.17,1361.52 1514.17,1462.26 1526.5,1462.26 1526.5,1361.52 1514.17,1361.52 1514.17,1361.52 \n",
       "  \" fill=\"#009af9\" fill-rule=\"evenodd\" fill-opacity=\"1\"/>\n",
       "<polyline clip-path=\"url(#clip2303)\" style=\"stroke:#000000; stroke-width:4; stroke-opacity:1; fill:none\" points=\"\n",
       "  1514.17,1361.52 1514.17,1462.26 1526.5,1462.26 1526.5,1361.52 1514.17,1361.52 \n",
       "  \"/>\n",
       "<polygon clip-path=\"url(#clip2303)\" points=\"\n",
       "1526.5,1462.26 1526.5,1462.26 1538.83,1462.26 1538.83,1462.26 1526.5,1462.26 1526.5,1462.26 \n",
       "  \" fill=\"#009af9\" fill-rule=\"evenodd\" fill-opacity=\"1\"/>\n",
       "<polyline clip-path=\"url(#clip2303)\" style=\"stroke:#000000; stroke-width:4; stroke-opacity:1; fill:none\" points=\"\n",
       "  1526.5,1462.26 1526.5,1462.26 1538.83,1462.26 1526.5,1462.26 \n",
       "  \"/>\n",
       "<polygon clip-path=\"url(#clip2303)\" points=\"\n",
       "1538.83,1462.26 1538.83,1462.26 1551.16,1462.26 1551.16,1462.26 1538.83,1462.26 1538.83,1462.26 \n",
       "  \" fill=\"#009af9\" fill-rule=\"evenodd\" fill-opacity=\"1\"/>\n",
       "<polyline clip-path=\"url(#clip2303)\" style=\"stroke:#000000; stroke-width:4; stroke-opacity:1; fill:none\" points=\"\n",
       "  1538.83,1462.26 1538.83,1462.26 1551.16,1462.26 1538.83,1462.26 \n",
       "  \"/>\n",
       "<polygon clip-path=\"url(#clip2303)\" points=\"\n",
       "1551.16,1462.26 1551.16,1462.26 1563.49,1462.26 1563.49,1462.26 1551.16,1462.26 1551.16,1462.26 \n",
       "  \" fill=\"#009af9\" fill-rule=\"evenodd\" fill-opacity=\"1\"/>\n",
       "<polyline clip-path=\"url(#clip2303)\" style=\"stroke:#000000; stroke-width:4; stroke-opacity:1; fill:none\" points=\"\n",
       "  1551.16,1462.26 1551.16,1462.26 1563.49,1462.26 1551.16,1462.26 \n",
       "  \"/>\n",
       "<polygon clip-path=\"url(#clip2303)\" points=\"\n",
       "1563.49,1462.26 1563.49,1462.26 1575.82,1462.26 1575.82,1462.26 1563.49,1462.26 1563.49,1462.26 \n",
       "  \" fill=\"#009af9\" fill-rule=\"evenodd\" fill-opacity=\"1\"/>\n",
       "<polyline clip-path=\"url(#clip2303)\" style=\"stroke:#000000; stroke-width:4; stroke-opacity:1; fill:none\" points=\"\n",
       "  1563.49,1462.26 1563.49,1462.26 1575.82,1462.26 1563.49,1462.26 \n",
       "  \"/>\n",
       "<polygon clip-path=\"url(#clip2303)\" points=\"\n",
       "1575.82,1462.26 1575.82,1462.26 1588.15,1462.26 1588.15,1462.26 1575.82,1462.26 1575.82,1462.26 \n",
       "  \" fill=\"#009af9\" fill-rule=\"evenodd\" fill-opacity=\"1\"/>\n",
       "<polyline clip-path=\"url(#clip2303)\" style=\"stroke:#000000; stroke-width:4; stroke-opacity:1; fill:none\" points=\"\n",
       "  1575.82,1462.26 1575.82,1462.26 1588.15,1462.26 1575.82,1462.26 \n",
       "  \"/>\n",
       "<polygon clip-path=\"url(#clip2303)\" points=\"\n",
       "1588.15,1462.26 1588.15,1462.26 1600.48,1462.26 1600.48,1462.26 1588.15,1462.26 1588.15,1462.26 \n",
       "  \" fill=\"#009af9\" fill-rule=\"evenodd\" fill-opacity=\"1\"/>\n",
       "<polyline clip-path=\"url(#clip2303)\" style=\"stroke:#000000; stroke-width:4; stroke-opacity:1; fill:none\" points=\"\n",
       "  1588.15,1462.26 1588.15,1462.26 1600.48,1462.26 1588.15,1462.26 \n",
       "  \"/>\n",
       "<polygon clip-path=\"url(#clip2303)\" points=\"\n",
       "1600.48,1460.43 1600.48,1462.26 1612.81,1462.26 1612.81,1460.43 1600.48,1460.43 1600.48,1460.43 \n",
       "  \" fill=\"#009af9\" fill-rule=\"evenodd\" fill-opacity=\"1\"/>\n",
       "<polyline clip-path=\"url(#clip2303)\" style=\"stroke:#000000; stroke-width:4; stroke-opacity:1; fill:none\" points=\"\n",
       "  1600.48,1460.43 1600.48,1462.26 1612.81,1462.26 1612.81,1460.43 1600.48,1460.43 \n",
       "  \"/>\n",
       "<polygon clip-path=\"url(#clip2303)\" points=\"\n",
       "1612.81,1462.26 1612.81,1462.26 1625.14,1462.26 1625.14,1462.26 1612.81,1462.26 1612.81,1462.26 \n",
       "  \" fill=\"#009af9\" fill-rule=\"evenodd\" fill-opacity=\"1\"/>\n",
       "<polyline clip-path=\"url(#clip2303)\" style=\"stroke:#000000; stroke-width:4; stroke-opacity:1; fill:none\" points=\"\n",
       "  1612.81,1462.26 1612.81,1462.26 1625.14,1462.26 1612.81,1462.26 \n",
       "  \"/>\n",
       "<polygon clip-path=\"url(#clip2303)\" points=\"\n",
       "1625.14,1460.43 1625.14,1462.26 1637.47,1462.26 1637.47,1460.43 1625.14,1460.43 1625.14,1460.43 \n",
       "  \" fill=\"#009af9\" fill-rule=\"evenodd\" fill-opacity=\"1\"/>\n",
       "<polyline clip-path=\"url(#clip2303)\" style=\"stroke:#000000; stroke-width:4; stroke-opacity:1; fill:none\" points=\"\n",
       "  1625.14,1460.43 1625.14,1462.26 1637.47,1462.26 1637.47,1460.43 1625.14,1460.43 \n",
       "  \"/>\n",
       "<polygon clip-path=\"url(#clip2303)\" points=\"\n",
       "1637.47,1462.26 1637.47,1462.26 1649.81,1462.26 1649.81,1462.26 1637.47,1462.26 1637.47,1462.26 \n",
       "  \" fill=\"#009af9\" fill-rule=\"evenodd\" fill-opacity=\"1\"/>\n",
       "<polyline clip-path=\"url(#clip2303)\" style=\"stroke:#000000; stroke-width:4; stroke-opacity:1; fill:none\" points=\"\n",
       "  1637.47,1462.26 1637.47,1462.26 1649.81,1462.26 1637.47,1462.26 \n",
       "  \"/>\n",
       "<polygon clip-path=\"url(#clip2303)\" points=\"\n",
       "1649.81,1460.43 1649.81,1462.26 1662.14,1462.26 1662.14,1460.43 1649.81,1460.43 1649.81,1460.43 \n",
       "  \" fill=\"#009af9\" fill-rule=\"evenodd\" fill-opacity=\"1\"/>\n",
       "<polyline clip-path=\"url(#clip2303)\" style=\"stroke:#000000; stroke-width:4; stroke-opacity:1; fill:none\" points=\"\n",
       "  1649.81,1460.43 1649.81,1462.26 1662.14,1462.26 1662.14,1460.43 1649.81,1460.43 \n",
       "  \"/>\n",
       "<polygon clip-path=\"url(#clip2303)\" points=\"\n",
       "1662.14,1462.26 1662.14,1462.26 1674.47,1462.26 1674.47,1462.26 1662.14,1462.26 1662.14,1462.26 \n",
       "  \" fill=\"#009af9\" fill-rule=\"evenodd\" fill-opacity=\"1\"/>\n",
       "<polyline clip-path=\"url(#clip2303)\" style=\"stroke:#000000; stroke-width:4; stroke-opacity:1; fill:none\" points=\"\n",
       "  1662.14,1462.26 1662.14,1462.26 1674.47,1462.26 1662.14,1462.26 \n",
       "  \"/>\n",
       "<polygon clip-path=\"url(#clip2303)\" points=\"\n",
       "1674.47,1460.43 1674.47,1462.26 1686.8,1462.26 1686.8,1460.43 1674.47,1460.43 1674.47,1460.43 \n",
       "  \" fill=\"#009af9\" fill-rule=\"evenodd\" fill-opacity=\"1\"/>\n",
       "<polyline clip-path=\"url(#clip2303)\" style=\"stroke:#000000; stroke-width:4; stroke-opacity:1; fill:none\" points=\"\n",
       "  1674.47,1460.43 1674.47,1462.26 1686.8,1462.26 1686.8,1460.43 1674.47,1460.43 \n",
       "  \"/>\n",
       "<polygon clip-path=\"url(#clip2303)\" points=\"\n",
       "1686.8,1462.26 1686.8,1462.26 1699.13,1462.26 1699.13,1462.26 1686.8,1462.26 1686.8,1462.26 \n",
       "  \" fill=\"#009af9\" fill-rule=\"evenodd\" fill-opacity=\"1\"/>\n",
       "<polyline clip-path=\"url(#clip2303)\" style=\"stroke:#000000; stroke-width:4; stroke-opacity:1; fill:none\" points=\"\n",
       "  1686.8,1462.26 1686.8,1462.26 1699.13,1462.26 1686.8,1462.26 \n",
       "  \"/>\n",
       "<polygon clip-path=\"url(#clip2303)\" points=\"\n",
       "1699.13,1460.43 1699.13,1462.26 1711.46,1462.26 1711.46,1460.43 1699.13,1460.43 1699.13,1460.43 \n",
       "  \" fill=\"#009af9\" fill-rule=\"evenodd\" fill-opacity=\"1\"/>\n",
       "<polyline clip-path=\"url(#clip2303)\" style=\"stroke:#000000; stroke-width:4; stroke-opacity:1; fill:none\" points=\"\n",
       "  1699.13,1460.43 1699.13,1462.26 1711.46,1462.26 1711.46,1460.43 1699.13,1460.43 \n",
       "  \"/>\n",
       "<polygon clip-path=\"url(#clip2303)\" points=\"\n",
       "1711.46,1460.43 1711.46,1462.26 1723.79,1462.26 1723.79,1460.43 1711.46,1460.43 1711.46,1460.43 \n",
       "  \" fill=\"#009af9\" fill-rule=\"evenodd\" fill-opacity=\"1\"/>\n",
       "<polyline clip-path=\"url(#clip2303)\" style=\"stroke:#000000; stroke-width:4; stroke-opacity:1; fill:none\" points=\"\n",
       "  1711.46,1460.43 1711.46,1462.26 1723.79,1462.26 1723.79,1460.43 1711.46,1460.43 \n",
       "  \"/>\n",
       "<polygon clip-path=\"url(#clip2303)\" points=\"\n",
       "1723.79,1462.26 1723.79,1462.26 1736.12,1462.26 1736.12,1462.26 1723.79,1462.26 1723.79,1462.26 \n",
       "  \" fill=\"#009af9\" fill-rule=\"evenodd\" fill-opacity=\"1\"/>\n",
       "<polyline clip-path=\"url(#clip2303)\" style=\"stroke:#000000; stroke-width:4; stroke-opacity:1; fill:none\" points=\"\n",
       "  1723.79,1462.26 1723.79,1462.26 1736.12,1462.26 1723.79,1462.26 \n",
       "  \"/>\n",
       "<polygon clip-path=\"url(#clip2303)\" points=\"\n",
       "1736.12,1460.43 1736.12,1462.26 1748.45,1462.26 1748.45,1460.43 1736.12,1460.43 1736.12,1460.43 \n",
       "  \" fill=\"#009af9\" fill-rule=\"evenodd\" fill-opacity=\"1\"/>\n",
       "<polyline clip-path=\"url(#clip2303)\" style=\"stroke:#000000; stroke-width:4; stroke-opacity:1; fill:none\" points=\"\n",
       "  1736.12,1460.43 1736.12,1462.26 1748.45,1462.26 1748.45,1460.43 1736.12,1460.43 \n",
       "  \"/>\n",
       "<polygon clip-path=\"url(#clip2303)\" points=\"\n",
       "1748.45,1462.26 1748.45,1462.26 1760.78,1462.26 1760.78,1462.26 1748.45,1462.26 1748.45,1462.26 \n",
       "  \" fill=\"#009af9\" fill-rule=\"evenodd\" fill-opacity=\"1\"/>\n",
       "<polyline clip-path=\"url(#clip2303)\" style=\"stroke:#000000; stroke-width:4; stroke-opacity:1; fill:none\" points=\"\n",
       "  1748.45,1462.26 1748.45,1462.26 1760.78,1462.26 1748.45,1462.26 \n",
       "  \"/>\n",
       "<polygon clip-path=\"url(#clip2303)\" points=\"\n",
       "1760.78,1460.43 1760.78,1462.26 1773.11,1462.26 1773.11,1460.43 1760.78,1460.43 1760.78,1460.43 \n",
       "  \" fill=\"#009af9\" fill-rule=\"evenodd\" fill-opacity=\"1\"/>\n",
       "<polyline clip-path=\"url(#clip2303)\" style=\"stroke:#000000; stroke-width:4; stroke-opacity:1; fill:none\" points=\"\n",
       "  1760.78,1460.43 1760.78,1462.26 1773.11,1462.26 1773.11,1460.43 1760.78,1460.43 \n",
       "  \"/>\n",
       "<polygon clip-path=\"url(#clip2303)\" points=\"\n",
       "1773.11,1462.26 1773.11,1462.26 1785.44,1462.26 1785.44,1462.26 1773.11,1462.26 1773.11,1462.26 \n",
       "  \" fill=\"#009af9\" fill-rule=\"evenodd\" fill-opacity=\"1\"/>\n",
       "<polyline clip-path=\"url(#clip2303)\" style=\"stroke:#000000; stroke-width:4; stroke-opacity:1; fill:none\" points=\"\n",
       "  1773.11,1462.26 1773.11,1462.26 1785.44,1462.26 1773.11,1462.26 \n",
       "  \"/>\n",
       "<polygon clip-path=\"url(#clip2303)\" points=\"\n",
       "1785.44,1460.43 1785.44,1462.26 1797.77,1462.26 1797.77,1460.43 1785.44,1460.43 1785.44,1460.43 \n",
       "  \" fill=\"#009af9\" fill-rule=\"evenodd\" fill-opacity=\"1\"/>\n",
       "<polyline clip-path=\"url(#clip2303)\" style=\"stroke:#000000; stroke-width:4; stroke-opacity:1; fill:none\" points=\"\n",
       "  1785.44,1460.43 1785.44,1462.26 1797.77,1462.26 1797.77,1460.43 1785.44,1460.43 \n",
       "  \"/>\n",
       "<polygon clip-path=\"url(#clip2303)\" points=\"\n",
       "1797.77,1462.26 1797.77,1462.26 1810.1,1462.26 1810.1,1462.26 1797.77,1462.26 1797.77,1462.26 \n",
       "  \" fill=\"#009af9\" fill-rule=\"evenodd\" fill-opacity=\"1\"/>\n",
       "<polyline clip-path=\"url(#clip2303)\" style=\"stroke:#000000; stroke-width:4; stroke-opacity:1; fill:none\" points=\"\n",
       "  1797.77,1462.26 1797.77,1462.26 1810.1,1462.26 1797.77,1462.26 \n",
       "  \"/>\n",
       "<polygon clip-path=\"url(#clip2303)\" points=\"\n",
       "1810.1,1460.43 1810.1,1462.26 1822.43,1462.26 1822.43,1460.43 1810.1,1460.43 1810.1,1460.43 \n",
       "  \" fill=\"#009af9\" fill-rule=\"evenodd\" fill-opacity=\"1\"/>\n",
       "<polyline clip-path=\"url(#clip2303)\" style=\"stroke:#000000; stroke-width:4; stroke-opacity:1; fill:none\" points=\"\n",
       "  1810.1,1460.43 1810.1,1462.26 1822.43,1462.26 1822.43,1460.43 1810.1,1460.43 \n",
       "  \"/>\n",
       "<polygon clip-path=\"url(#clip2303)\" points=\"\n",
       "1822.43,1462.26 1822.43,1462.26 1834.76,1462.26 1834.76,1462.26 1822.43,1462.26 1822.43,1462.26 \n",
       "  \" fill=\"#009af9\" fill-rule=\"evenodd\" fill-opacity=\"1\"/>\n",
       "<polyline clip-path=\"url(#clip2303)\" style=\"stroke:#000000; stroke-width:4; stroke-opacity:1; fill:none\" points=\"\n",
       "  1822.43,1462.26 1822.43,1462.26 1834.76,1462.26 1822.43,1462.26 \n",
       "  \"/>\n",
       "<polygon clip-path=\"url(#clip2303)\" points=\"\n",
       "1834.76,1460.43 1834.76,1462.26 1847.09,1462.26 1847.09,1460.43 1834.76,1460.43 1834.76,1460.43 \n",
       "  \" fill=\"#009af9\" fill-rule=\"evenodd\" fill-opacity=\"1\"/>\n",
       "<polyline clip-path=\"url(#clip2303)\" style=\"stroke:#000000; stroke-width:4; stroke-opacity:1; fill:none\" points=\"\n",
       "  1834.76,1460.43 1834.76,1462.26 1847.09,1462.26 1847.09,1460.43 1834.76,1460.43 \n",
       "  \"/>\n",
       "<polygon clip-path=\"url(#clip2303)\" points=\"\n",
       "1847.09,1460.43 1847.09,1462.26 1859.42,1462.26 1859.42,1460.43 1847.09,1460.43 1847.09,1460.43 \n",
       "  \" fill=\"#009af9\" fill-rule=\"evenodd\" fill-opacity=\"1\"/>\n",
       "<polyline clip-path=\"url(#clip2303)\" style=\"stroke:#000000; stroke-width:4; stroke-opacity:1; fill:none\" points=\"\n",
       "  1847.09,1460.43 1847.09,1462.26 1859.42,1462.26 1859.42,1460.43 1847.09,1460.43 \n",
       "  \"/>\n",
       "<polygon clip-path=\"url(#clip2303)\" points=\"\n",
       "1859.42,1462.26 1859.42,1462.26 1871.75,1462.26 1871.75,1462.26 1859.42,1462.26 1859.42,1462.26 \n",
       "  \" fill=\"#009af9\" fill-rule=\"evenodd\" fill-opacity=\"1\"/>\n",
       "<polyline clip-path=\"url(#clip2303)\" style=\"stroke:#000000; stroke-width:4; stroke-opacity:1; fill:none\" points=\"\n",
       "  1859.42,1462.26 1859.42,1462.26 1871.75,1462.26 1859.42,1462.26 \n",
       "  \"/>\n",
       "<polygon clip-path=\"url(#clip2303)\" points=\"\n",
       "1871.75,1462.26 1871.75,1462.26 1884.08,1462.26 1884.08,1462.26 1871.75,1462.26 1871.75,1462.26 \n",
       "  \" fill=\"#009af9\" fill-rule=\"evenodd\" fill-opacity=\"1\"/>\n",
       "<polyline clip-path=\"url(#clip2303)\" style=\"stroke:#000000; stroke-width:4; stroke-opacity:1; fill:none\" points=\"\n",
       "  1871.75,1462.26 1871.75,1462.26 1884.08,1462.26 1871.75,1462.26 \n",
       "  \"/>\n",
       "<polygon clip-path=\"url(#clip2303)\" points=\"\n",
       "1884.08,1462.26 1884.08,1462.26 1896.41,1462.26 1896.41,1462.26 1884.08,1462.26 1884.08,1462.26 \n",
       "  \" fill=\"#009af9\" fill-rule=\"evenodd\" fill-opacity=\"1\"/>\n",
       "<polyline clip-path=\"url(#clip2303)\" style=\"stroke:#000000; stroke-width:4; stroke-opacity:1; fill:none\" points=\"\n",
       "  1884.08,1462.26 1884.08,1462.26 1896.41,1462.26 1884.08,1462.26 \n",
       "  \"/>\n",
       "<polygon clip-path=\"url(#clip2303)\" points=\"\n",
       "1896.41,1462.26 1896.41,1462.26 1908.74,1462.26 1908.74,1462.26 1896.41,1462.26 1896.41,1462.26 \n",
       "  \" fill=\"#009af9\" fill-rule=\"evenodd\" fill-opacity=\"1\"/>\n",
       "<polyline clip-path=\"url(#clip2303)\" style=\"stroke:#000000; stroke-width:4; stroke-opacity:1; fill:none\" points=\"\n",
       "  1896.41,1462.26 1896.41,1462.26 1908.74,1462.26 1896.41,1462.26 \n",
       "  \"/>\n",
       "<polygon clip-path=\"url(#clip2303)\" points=\"\n",
       "1908.74,1462.26 1908.74,1462.26 1921.07,1462.26 1921.07,1462.26 1908.74,1462.26 1908.74,1462.26 \n",
       "  \" fill=\"#009af9\" fill-rule=\"evenodd\" fill-opacity=\"1\"/>\n",
       "<polyline clip-path=\"url(#clip2303)\" style=\"stroke:#000000; stroke-width:4; stroke-opacity:1; fill:none\" points=\"\n",
       "  1908.74,1462.26 1908.74,1462.26 1921.07,1462.26 1908.74,1462.26 \n",
       "  \"/>\n",
       "<polygon clip-path=\"url(#clip2303)\" points=\"\n",
       "1921.07,1460.43 1921.07,1462.26 1933.4,1462.26 1933.4,1460.43 1921.07,1460.43 1921.07,1460.43 \n",
       "  \" fill=\"#009af9\" fill-rule=\"evenodd\" fill-opacity=\"1\"/>\n",
       "<polyline clip-path=\"url(#clip2303)\" style=\"stroke:#000000; stroke-width:4; stroke-opacity:1; fill:none\" points=\"\n",
       "  1921.07,1460.43 1921.07,1462.26 1933.4,1462.26 1933.4,1460.43 1921.07,1460.43 \n",
       "  \"/>\n",
       "<polygon clip-path=\"url(#clip2303)\" points=\"\n",
       "1933.4,1462.26 1933.4,1462.26 1945.73,1462.26 1945.73,1462.26 1933.4,1462.26 1933.4,1462.26 \n",
       "  \" fill=\"#009af9\" fill-rule=\"evenodd\" fill-opacity=\"1\"/>\n",
       "<polyline clip-path=\"url(#clip2303)\" style=\"stroke:#000000; stroke-width:4; stroke-opacity:1; fill:none\" points=\"\n",
       "  1933.4,1462.26 1933.4,1462.26 1945.73,1462.26 1933.4,1462.26 \n",
       "  \"/>\n",
       "<polygon clip-path=\"url(#clip2303)\" points=\"\n",
       "1945.73,1460.43 1945.73,1462.26 1958.06,1462.26 1958.06,1460.43 1945.73,1460.43 1945.73,1460.43 \n",
       "  \" fill=\"#009af9\" fill-rule=\"evenodd\" fill-opacity=\"1\"/>\n",
       "<polyline clip-path=\"url(#clip2303)\" style=\"stroke:#000000; stroke-width:4; stroke-opacity:1; fill:none\" points=\"\n",
       "  1945.73,1460.43 1945.73,1462.26 1958.06,1462.26 1958.06,1460.43 1945.73,1460.43 \n",
       "  \"/>\n",
       "<polygon clip-path=\"url(#clip2303)\" points=\"\n",
       "1958.06,1460.43 1958.06,1462.26 1970.39,1462.26 1970.39,1460.43 1958.06,1460.43 1958.06,1460.43 \n",
       "  \" fill=\"#009af9\" fill-rule=\"evenodd\" fill-opacity=\"1\"/>\n",
       "<polyline clip-path=\"url(#clip2303)\" style=\"stroke:#000000; stroke-width:4; stroke-opacity:1; fill:none\" points=\"\n",
       "  1958.06,1460.43 1958.06,1462.26 1970.39,1462.26 1970.39,1460.43 1958.06,1460.43 \n",
       "  \"/>\n",
       "<polygon clip-path=\"url(#clip2303)\" points=\"\n",
       "1970.39,1462.26 1970.39,1462.26 1982.72,1462.26 1982.72,1462.26 1970.39,1462.26 1970.39,1462.26 \n",
       "  \" fill=\"#009af9\" fill-rule=\"evenodd\" fill-opacity=\"1\"/>\n",
       "<polyline clip-path=\"url(#clip2303)\" style=\"stroke:#000000; stroke-width:4; stroke-opacity:1; fill:none\" points=\"\n",
       "  1970.39,1462.26 1970.39,1462.26 1982.72,1462.26 1970.39,1462.26 \n",
       "  \"/>\n",
       "<polygon clip-path=\"url(#clip2303)\" points=\"\n",
       "1982.72,1460.43 1982.72,1462.26 1995.06,1462.26 1995.06,1460.43 1982.72,1460.43 1982.72,1460.43 \n",
       "  \" fill=\"#009af9\" fill-rule=\"evenodd\" fill-opacity=\"1\"/>\n",
       "<polyline clip-path=\"url(#clip2303)\" style=\"stroke:#000000; stroke-width:4; stroke-opacity:1; fill:none\" points=\"\n",
       "  1982.72,1460.43 1982.72,1462.26 1995.06,1462.26 1995.06,1460.43 1982.72,1460.43 \n",
       "  \"/>\n",
       "<polygon clip-path=\"url(#clip2303)\" points=\"\n",
       "1995.06,1462.26 1995.06,1462.26 2007.39,1462.26 2007.39,1462.26 1995.06,1462.26 1995.06,1462.26 \n",
       "  \" fill=\"#009af9\" fill-rule=\"evenodd\" fill-opacity=\"1\"/>\n",
       "<polyline clip-path=\"url(#clip2303)\" style=\"stroke:#000000; stroke-width:4; stroke-opacity:1; fill:none\" points=\"\n",
       "  1995.06,1462.26 1995.06,1462.26 2007.39,1462.26 1995.06,1462.26 \n",
       "  \"/>\n",
       "<polygon clip-path=\"url(#clip2303)\" points=\"\n",
       "2007.39,1460.43 2007.39,1462.26 2019.72,1462.26 2019.72,1460.43 2007.39,1460.43 2007.39,1460.43 \n",
       "  \" fill=\"#009af9\" fill-rule=\"evenodd\" fill-opacity=\"1\"/>\n",
       "<polyline clip-path=\"url(#clip2303)\" style=\"stroke:#000000; stroke-width:4; stroke-opacity:1; fill:none\" points=\"\n",
       "  2007.39,1460.43 2007.39,1462.26 2019.72,1462.26 2019.72,1460.43 2007.39,1460.43 \n",
       "  \"/>\n",
       "<polygon clip-path=\"url(#clip2303)\" points=\"\n",
       "2019.72,1462.26 2019.72,1462.26 2032.05,1462.26 2032.05,1462.26 2019.72,1462.26 2019.72,1462.26 \n",
       "  \" fill=\"#009af9\" fill-rule=\"evenodd\" fill-opacity=\"1\"/>\n",
       "<polyline clip-path=\"url(#clip2303)\" style=\"stroke:#000000; stroke-width:4; stroke-opacity:1; fill:none\" points=\"\n",
       "  2019.72,1462.26 2019.72,1462.26 2032.05,1462.26 2019.72,1462.26 \n",
       "  \"/>\n",
       "<polygon clip-path=\"url(#clip2303)\" points=\"\n",
       "2032.05,1460.43 2032.05,1462.26 2044.38,1462.26 2044.38,1460.43 2032.05,1460.43 2032.05,1460.43 \n",
       "  \" fill=\"#009af9\" fill-rule=\"evenodd\" fill-opacity=\"1\"/>\n",
       "<polyline clip-path=\"url(#clip2303)\" style=\"stroke:#000000; stroke-width:4; stroke-opacity:1; fill:none\" points=\"\n",
       "  2032.05,1460.43 2032.05,1462.26 2044.38,1462.26 2044.38,1460.43 2032.05,1460.43 \n",
       "  \"/>\n",
       "<polygon clip-path=\"url(#clip2303)\" points=\"\n",
       "2044.38,1462.26 2044.38,1462.26 2056.71,1462.26 2056.71,1462.26 2044.38,1462.26 2044.38,1462.26 \n",
       "  \" fill=\"#009af9\" fill-rule=\"evenodd\" fill-opacity=\"1\"/>\n",
       "<polyline clip-path=\"url(#clip2303)\" style=\"stroke:#000000; stroke-width:4; stroke-opacity:1; fill:none\" points=\"\n",
       "  2044.38,1462.26 2044.38,1462.26 2056.71,1462.26 2044.38,1462.26 \n",
       "  \"/>\n",
       "<polygon clip-path=\"url(#clip2303)\" points=\"\n",
       "2056.71,1460.43 2056.71,1462.26 2069.04,1462.26 2069.04,1460.43 2056.71,1460.43 2056.71,1460.43 \n",
       "  \" fill=\"#009af9\" fill-rule=\"evenodd\" fill-opacity=\"1\"/>\n",
       "<polyline clip-path=\"url(#clip2303)\" style=\"stroke:#000000; stroke-width:4; stroke-opacity:1; fill:none\" points=\"\n",
       "  2056.71,1460.43 2056.71,1462.26 2069.04,1462.26 2069.04,1460.43 2056.71,1460.43 \n",
       "  \"/>\n",
       "<polygon clip-path=\"url(#clip2303)\" points=\"\n",
       "2069.04,1462.26 2069.04,1462.26 2081.37,1462.26 2081.37,1462.26 2069.04,1462.26 2069.04,1462.26 \n",
       "  \" fill=\"#009af9\" fill-rule=\"evenodd\" fill-opacity=\"1\"/>\n",
       "<polyline clip-path=\"url(#clip2303)\" style=\"stroke:#000000; stroke-width:4; stroke-opacity:1; fill:none\" points=\"\n",
       "  2069.04,1462.26 2069.04,1462.26 2081.37,1462.26 2069.04,1462.26 \n",
       "  \"/>\n",
       "<polygon clip-path=\"url(#clip2303)\" points=\"\n",
       "2081.37,1460.43 2081.37,1462.26 2093.7,1462.26 2093.7,1460.43 2081.37,1460.43 2081.37,1460.43 \n",
       "  \" fill=\"#009af9\" fill-rule=\"evenodd\" fill-opacity=\"1\"/>\n",
       "<polyline clip-path=\"url(#clip2303)\" style=\"stroke:#000000; stroke-width:4; stroke-opacity:1; fill:none\" points=\"\n",
       "  2081.37,1460.43 2081.37,1462.26 2093.7,1462.26 2093.7,1460.43 2081.37,1460.43 \n",
       "  \"/>\n",
       "<polygon clip-path=\"url(#clip2303)\" points=\"\n",
       "2093.7,1460.43 2093.7,1462.26 2106.03,1462.26 2106.03,1460.43 2093.7,1460.43 2093.7,1460.43 \n",
       "  \" fill=\"#009af9\" fill-rule=\"evenodd\" fill-opacity=\"1\"/>\n",
       "<polyline clip-path=\"url(#clip2303)\" style=\"stroke:#000000; stroke-width:4; stroke-opacity:1; fill:none\" points=\"\n",
       "  2093.7,1460.43 2093.7,1462.26 2106.03,1462.26 2106.03,1460.43 2093.7,1460.43 \n",
       "  \"/>\n",
       "<polygon clip-path=\"url(#clip2303)\" points=\"\n",
       "2106.03,1462.26 2106.03,1462.26 2118.36,1462.26 2118.36,1462.26 2106.03,1462.26 2106.03,1462.26 \n",
       "  \" fill=\"#009af9\" fill-rule=\"evenodd\" fill-opacity=\"1\"/>\n",
       "<polyline clip-path=\"url(#clip2303)\" style=\"stroke:#000000; stroke-width:4; stroke-opacity:1; fill:none\" points=\"\n",
       "  2106.03,1462.26 2106.03,1462.26 2118.36,1462.26 2106.03,1462.26 \n",
       "  \"/>\n",
       "<polygon clip-path=\"url(#clip2303)\" points=\"\n",
       "2118.36,1460.43 2118.36,1462.26 2130.69,1462.26 2130.69,1460.43 2118.36,1460.43 2118.36,1460.43 \n",
       "  \" fill=\"#009af9\" fill-rule=\"evenodd\" fill-opacity=\"1\"/>\n",
       "<polyline clip-path=\"url(#clip2303)\" style=\"stroke:#000000; stroke-width:4; stroke-opacity:1; fill:none\" points=\"\n",
       "  2118.36,1460.43 2118.36,1462.26 2130.69,1462.26 2130.69,1460.43 2118.36,1460.43 \n",
       "  \"/>\n",
       "<polygon clip-path=\"url(#clip2303)\" points=\"\n",
       "2130.69,1462.26 2130.69,1462.26 2143.02,1462.26 2143.02,1462.26 2130.69,1462.26 2130.69,1462.26 \n",
       "  \" fill=\"#009af9\" fill-rule=\"evenodd\" fill-opacity=\"1\"/>\n",
       "<polyline clip-path=\"url(#clip2303)\" style=\"stroke:#000000; stroke-width:4; stroke-opacity:1; fill:none\" points=\"\n",
       "  2130.69,1462.26 2130.69,1462.26 2143.02,1462.26 2130.69,1462.26 \n",
       "  \"/>\n",
       "<polygon clip-path=\"url(#clip2303)\" points=\"\n",
       "2143.02,1460.43 2143.02,1462.26 2155.35,1462.26 2155.35,1460.43 2143.02,1460.43 2143.02,1460.43 \n",
       "  \" fill=\"#009af9\" fill-rule=\"evenodd\" fill-opacity=\"1\"/>\n",
       "<polyline clip-path=\"url(#clip2303)\" style=\"stroke:#000000; stroke-width:4; stroke-opacity:1; fill:none\" points=\"\n",
       "  2143.02,1460.43 2143.02,1462.26 2155.35,1462.26 2155.35,1460.43 2143.02,1460.43 \n",
       "  \"/>\n",
       "<polygon clip-path=\"url(#clip2303)\" points=\"\n",
       "2155.35,1462.26 2155.35,1462.26 2167.68,1462.26 2167.68,1462.26 2155.35,1462.26 2155.35,1462.26 \n",
       "  \" fill=\"#009af9\" fill-rule=\"evenodd\" fill-opacity=\"1\"/>\n",
       "<polyline clip-path=\"url(#clip2303)\" style=\"stroke:#000000; stroke-width:4; stroke-opacity:1; fill:none\" points=\"\n",
       "  2155.35,1462.26 2155.35,1462.26 2167.68,1462.26 2155.35,1462.26 \n",
       "  \"/>\n",
       "<polygon clip-path=\"url(#clip2303)\" points=\"\n",
       "2167.68,1460.43 2167.68,1462.26 2180.01,1462.26 2180.01,1460.43 2167.68,1460.43 2167.68,1460.43 \n",
       "  \" fill=\"#009af9\" fill-rule=\"evenodd\" fill-opacity=\"1\"/>\n",
       "<polyline clip-path=\"url(#clip2303)\" style=\"stroke:#000000; stroke-width:4; stroke-opacity:1; fill:none\" points=\"\n",
       "  2167.68,1460.43 2167.68,1462.26 2180.01,1462.26 2180.01,1460.43 2167.68,1460.43 \n",
       "  \"/>\n",
       "<polygon clip-path=\"url(#clip2303)\" points=\"\n",
       "2180.01,1462.26 2180.01,1462.26 2192.34,1462.26 2192.34,1462.26 2180.01,1462.26 2180.01,1462.26 \n",
       "  \" fill=\"#009af9\" fill-rule=\"evenodd\" fill-opacity=\"1\"/>\n",
       "<polyline clip-path=\"url(#clip2303)\" style=\"stroke:#000000; stroke-width:4; stroke-opacity:1; fill:none\" points=\"\n",
       "  2180.01,1462.26 2180.01,1462.26 2192.34,1462.26 2180.01,1462.26 \n",
       "  \"/>\n",
       "<polygon clip-path=\"url(#clip2303)\" points=\"\n",
       "2192.34,1460.43 2192.34,1462.26 2204.67,1462.26 2204.67,1460.43 2192.34,1460.43 2192.34,1460.43 \n",
       "  \" fill=\"#009af9\" fill-rule=\"evenodd\" fill-opacity=\"1\"/>\n",
       "<polyline clip-path=\"url(#clip2303)\" style=\"stroke:#000000; stroke-width:4; stroke-opacity:1; fill:none\" points=\"\n",
       "  2192.34,1460.43 2192.34,1462.26 2204.67,1462.26 2204.67,1460.43 2192.34,1460.43 \n",
       "  \"/>\n",
       "<polygon clip-path=\"url(#clip2301)\" points=\"\n",
       "1958.43,251.724 2249.26,251.724 2249.26,130.764 1958.43,130.764 \n",
       "  \" fill=\"#ffffff\" fill-rule=\"evenodd\" fill-opacity=\"1\"/>\n",
       "<polyline clip-path=\"url(#clip2301)\" style=\"stroke:#000000; stroke-width:4; stroke-opacity:1; fill:none\" points=\"\n",
       "  1958.43,251.724 2249.26,251.724 2249.26,130.764 1958.43,130.764 1958.43,251.724 \n",
       "  \"/>\n",
       "<polygon clip-path=\"url(#clip2301)\" points=\"\n",
       "1982.43,215.436 2126.43,215.436 2126.43,167.052 1982.43,167.052 1982.43,215.436 \n",
       "  \" fill=\"#009af9\" fill-rule=\"evenodd\" fill-opacity=\"1\"/>\n",
       "<polyline clip-path=\"url(#clip2301)\" style=\"stroke:#000000; stroke-width:4; stroke-opacity:1; fill:none\" points=\"\n",
       "  1982.43,215.436 2126.43,215.436 2126.43,167.052 1982.43,167.052 1982.43,215.436 \n",
       "  \"/>\n",
       "<g clip-path=\"url(#clip2301)\">\n",
       "<text style=\"fill:#000000; fill-opacity:1; font-family:Arial,Helvetica Neue,Helvetica,sans-serif; font-size:48px; text-anchor:start;\" transform=\"rotate(0, 2150.43, 208.744)\" x=\"2150.43\" y=\"208.744\">y1</text>\n",
       "</g>\n",
       "</svg>\n"
      ]
     },
     "execution_count": 206,
     "metadata": {},
     "output_type": "execute_result"
    }
   ],
   "source": [
    "histogram(weightList, bins=150)"
   ]
  },
  {
   "cell_type": "markdown",
   "metadata": {},
   "source": [
    "按牌面大小的整体分布，分别为：散、对、顺子、同花、同花顺、豹子"
   ]
  },
  {
   "cell_type": "code",
   "execution_count": 187,
   "metadata": {
    "collapsed": true,
    "jupyter": {
     "outputs_hidden": true
    }
   },
   "outputs": [],
   "source": [
    "res_1 = zeros(6)\n",
    "for cards in CombIter(AllCards, 3)\n",
    "    res_1[getType(cards...)+1] += 1\n",
    "end"
   ]
  },
  {
   "cell_type": "code",
   "execution_count": 188,
   "metadata": {},
   "outputs": [
    {
     "data": {
      "text/plain": [
       "6-element Array{Float64,1}:\n",
       " 16440.0\n",
       "  3744.0\n",
       "   720.0\n",
       "  1096.0\n",
       "    48.0\n",
       "    52.0"
      ]
     },
     "execution_count": 188,
     "metadata": {},
     "output_type": "execute_result"
    }
   ],
   "source": [
    "res_1"
   ]
  },
  {
   "cell_type": "code",
   "execution_count": 189,
   "metadata": {
    "scrolled": true
   },
   "outputs": [
    {
     "data": {
      "text/plain": [
       "6-element Array{Float64,1}:\n",
       " 0.7438914027149321   \n",
       " 0.16941176470588235  \n",
       " 0.03257918552036199  \n",
       " 0.049592760180995475 \n",
       " 0.0021719457013574662\n",
       " 0.002352941176470588 "
      ]
     },
     "execution_count": 189,
     "metadata": {},
     "output_type": "execute_result"
    }
   ],
   "source": [
    "trueRate_1 = res_1 / sum(res_1)"
   ]
  },
  {
   "cell_type": "markdown",
   "metadata": {},
   "source": [
    "|类型|总数|比重|\n",
    "|:-:|:-:|:-:|:-:|\n",
    "|散|16440|74.39%|\n",
    "|对|3744|16.94%|\n",
    "|顺子|720|3.26%|\n",
    "|同花|1096|4.96%|\n",
    "|同花顺|48|0.22%|\n",
    "|豹子|52|0.24%|"
   ]
  },
  {
   "cell_type": "markdown",
   "metadata": {},
   "source": [
    "按稀有度，顺子比同花稀有，同花顺比豹子稀有，虽然规定是同花及豹子更大。"
   ]
  },
  {
   "cell_type": "code",
   "execution_count": 193,
   "metadata": {
    "scrolled": true
   },
   "outputs": [
    {
     "data": {
      "text/plain": [
       "(\"Bomb: [14, 14, 14]\", \"Single: [5, 3, 2]\")"
      ]
     },
     "execution_count": 193,
     "metadata": {},
     "output_type": "execute_result"
    }
   ],
   "source": [
    "decode(maximum(weightList)), decode(minimum(weightList))"
   ]
  },
  {
   "cell_type": "code",
   "execution_count": 201,
   "metadata": {
    "collapsed": true,
    "jupyter": {
     "outputs_hidden": true
    }
   },
   "outputs": [
    {
     "data": {
      "text/plain": [
       "bigerRate (generic function with 1 method)"
      ]
     },
     "execution_count": 201,
     "metadata": {},
     "output_type": "execute_result"
    }
   ],
   "source": [
    "function bigerRate(a, b, c)\n",
    "    w = encode(a, b, c)\n",
    "    return sum(weightList .< w) / length(weightList)\n",
    "end"
   ]
  },
  {
   "cell_type": "code",
   "execution_count": 202,
   "metadata": {},
   "outputs": [
    {
     "data": {
      "text/plain": [
       "0.7194570135746606"
      ]
     },
     "execution_count": 202,
     "metadata": {},
     "output_type": "execute_result"
    }
   ],
   "source": [
    "bigerRate(14+0im, 13+0im, 3 + 3im)"
   ]
  },
  {
   "cell_type": "markdown",
   "metadata": {},
   "source": [
    "### 双人局"
   ]
  },
  {
   "cell_type": "markdown",
   "metadata": {},
   "source": [
    "$n$人局情况，解决思路是先一次性取出$n$个人的牌，然后再分给他们，则总情况数是\n",
    "$$C_{52}^{3n}\\cdot C_{3n}^{3}C_{3n-3}^{3}C_{3n-6}^{3}\\cdots C_{6}^{3}C_{3}^{3}$$\n",
    "第一项是组合数，后面的是分配数。"
   ]
  },
  {
   "cell_type": "markdown",
   "metadata": {},
   "source": [
    "需要先实现每种分配情况的枚举："
   ]
  },
  {
   "cell_type": "code",
   "execution_count": 34,
   "metadata": {
    "collapsed": true,
    "jupyter": {
     "outputs_hidden": true
    }
   },
   "outputs": [],
   "source": [
    "class sList(list):\n",
    "    '支持差集运算的lsit'\n",
    "    def __sub__(self, oth):\n",
    "        return sList([x for x in self if x not in oth])"
   ]
  },
  {
   "cell_type": "code",
   "execution_count": 35,
   "metadata": {
    "collapsed": true,
    "jupyter": {
     "outputs_hidden": true
    }
   },
   "outputs": [],
   "source": [
    "\"\"\"\n",
    "把l按segs分配len(segs)份\n",
    "l: list\n",
    "segs: 每份容量大小组成的tuple\n",
    "return: 结果tuple的迭代器\n",
    "\"\"\"\n",
    "function dist(l, segs):\n",
    "\n",
    "    getResult = lambda ind: tuple(tuple(l[x] for x in L) for L in ind)\n",
    "    length = len(l)\n",
    "    assert (length == sum(segs))\n",
    "    ind = sList(range(length))\n",
    "    pools = []\n",
    "    subLists = []\n",
    "    result = []\n",
    "    for i, seg in enumerate(segs):\n",
    "        if i == 0:\n",
    "            subLists.append(ind)\n",
    "            pools.append(combinations(subLists[i], seg))\n",
    "            result.append(sList(next(pools[i])))\n",
    "        else:\n",
    "            subLists.append(subLists[i - 1] - result[i - 1])\n",
    "            pools.append(combinations(subLists[i], seg))\n",
    "            result.append(sList(next(pools[i])))\n",
    "\n",
    "    while True:\n",
    "        yield getResult(result)\n",
    "\n",
    "        for i, pool in reversed(list(enumerate(pools))):\n",
    "            try:\n",
    "                re = sList(next(pool))\n",
    "                result[i] = re\n",
    "                try:\n",
    "                    for rei in range(i + 1, len(segs)):\n",
    "                        subLists[rei] = subLists[rei - 1] - result[rei - 1]\n",
    "                        pools[rei] = combinations(subLists[rei], segs[rei])\n",
    "                        result[rei] = sList(next(pools[rei]))\n",
    "                except:\n",
    "                    assert (False)\n",
    "                break\n",
    "            except StopIteration:\n",
    "                if i == 0:\n",
    "                    return\n",
    "                else:\n",
    "                    continue"
   ]
  },
  {
   "cell_type": "code",
   "execution_count": 36,
   "metadata": {
    "collapsed": true,
    "jupyter": {
     "outputs_hidden": true
    }
   },
   "outputs": [],
   "source": [
    "gg = dist([1, 2, 3, 4], (1, 2, 1))"
   ]
  },
  {
   "cell_type": "code",
   "execution_count": 37,
   "metadata": {
    "scrolled": true
   },
   "outputs": [
    {
     "data": {
      "text/plain": [
       "(((1,), (2, 3), (4,)),\n",
       " ((1,), (2, 4), (3,)),\n",
       " ((1,), (3, 4), (2,)),\n",
       " ((2,), (1, 3), (4,)),\n",
       " ((2,), (1, 4), (3,)),\n",
       " ((2,), (3, 4), (1,)),\n",
       " ((3,), (1, 2), (4,)),\n",
       " ((3,), (1, 4), (2,)),\n",
       " ((3,), (2, 4), (1,)),\n",
       " ((4,), (1, 2), (3,)),\n",
       " ((4,), (1, 3), (2,)),\n",
       " ((4,), (2, 3), (1,)))"
      ]
     },
     "execution_count": 37,
     "metadata": {},
     "output_type": "execute_result"
    }
   ],
   "source": [
    "*gg,"
   ]
  },
  {
   "cell_type": "markdown",
   "metadata": {},
   "source": [
    "以下计算全场最大是某类型牌的概率"
   ]
  },
  {
   "cell_type": "code",
   "execution_count": 38,
   "metadata": {
    "collapsed": true,
    "jupyter": {
     "outputs_hidden": true
    },
    "scrolled": true
   },
   "outputs": [],
   "source": [
    "# 运行时间很长\n",
    "res_2 = [0] * 6\n",
    "run = False\n",
    "if run:\n",
    "    for cards in combinations(AllCards, 6):\n",
    "        for cds1, cds2 in dist(cards, (3, 3)):\n",
    "            res_2[max(getType(*cds1), getType(*cds2))] += 1"
   ]
  },
  {
   "cell_type": "code",
   "execution_count": 39,
   "metadata": {},
   "outputs": [
    {
     "data": {
      "text/plain": [
       "[0, 0, 0, 0, 0, 0]"
      ]
     },
     "execution_count": 39,
     "metadata": {},
     "output_type": "execute_result"
    }
   ],
   "source": [
    "res_2"
   ]
  },
  {
   "cell_type": "markdown",
   "metadata": {},
   "source": [
    "某次运行结果："
   ]
  },
  {
   "cell_type": "code",
   "execution_count": 40,
   "metadata": {
    "collapsed": true,
    "jupyter": {
     "outputs_hidden": true
    }
   },
   "outputs": [],
   "source": [
    "aRes_2 = array([225461472, 114200640, 24657792, 39174400, 1762496, 1913600])  #某次运行结果"
   ]
  },
  {
   "cell_type": "code",
   "execution_count": 41,
   "metadata": {},
   "outputs": [
    {
     "data": {
      "text/plain": [
       "array([ 0.5537,  0.2805,  0.0606,  0.0962,  0.0043,  0.0047])"
      ]
     },
     "execution_count": 41,
     "metadata": {},
     "output_type": "execute_result"
    }
   ],
   "source": [
    "trueRate_2 = aRes_2 / aRes_2.sum()\n",
    "trueRate_2"
   ]
  },
  {
   "cell_type": "markdown",
   "metadata": {},
   "source": [
    "最大牌|单人|双人\n",
    "--|-\n",
    "散|74.39%|55.37%\n",
    "对|16.94%|28.05%\n",
    "顺子|3.26%|6.06%\n",
    "同花|4.96%|9.62%\n",
    "同花顺|0.22%|0.43%\n",
    "豹子|0.24%|0.47%"
   ]
  },
  {
   "cell_type": "markdown",
   "metadata": {},
   "source": [
    "### 穷举法的复杂度"
   ]
  },
  {
   "cell_type": "markdown",
   "metadata": {},
   "source": [
    "如上所述，$n$人局总情况数为：\n",
    "$$C_{52}^{3n}\\cdot C_{3n}^{3}C_{3n-3}^{3}C_{3n-6}^{3}\\cdots C_{6}^{3}C_{3}^{3}$$"
   ]
  },
  {
   "cell_type": "code",
   "execution_count": 42,
   "metadata": {
    "collapsed": true,
    "jupyter": {
     "outputs_hidden": true
    }
   },
   "outputs": [],
   "source": [
    "from scipy.special import comb"
   ]
  },
  {
   "cell_type": "code",
   "execution_count": 43,
   "metadata": {
    "collapsed": true,
    "jupyter": {
     "outputs_hidden": true
    }
   },
   "outputs": [],
   "source": [
    "from functools import reduce"
   ]
  },
  {
   "cell_type": "code",
   "execution_count": 44,
   "metadata": {
    "collapsed": true,
    "jupyter": {
     "outputs_hidden": true
    }
   },
   "outputs": [],
   "source": [
    "def complication(n):\n",
    "    rdFun = lambda x, y: x * comb(y, 3)\n",
    "    li = list(range(6, 6 + 3 * (n - 2) + 1, 3))\n",
    "    cb = comb(52, 3 * n)\n",
    "    li = [cb] + li\n",
    "    #print(li)\n",
    "    return cb, reduce(rdFun, li)"
   ]
  },
  {
   "cell_type": "code",
   "execution_count": 45,
   "metadata": {},
   "outputs": [
    {
     "data": {
      "text/plain": [
       "(3679075400.0, 6180846672000.0)"
      ]
     },
     "execution_count": 45,
     "metadata": {},
     "output_type": "execute_result"
    }
   ],
   "source": [
    "complication(3)"
   ]
  },
  {
   "cell_type": "code",
   "execution_count": 46,
   "metadata": {},
   "outputs": [
    {
     "data": {
      "text/plain": [
       "6180846672000.0"
      ]
     },
     "execution_count": 46,
     "metadata": {},
     "output_type": "execute_result"
    }
   ],
   "source": [
    "comb(52, 9) * comb(6, 3) * comb(9, 3)"
   ]
  },
  {
   "cell_type": "markdown",
   "metadata": {},
   "source": [
    "或者化简后有：  \n",
    "$$\\frac{52!}{6^n(52-(3n)!)}$$"
   ]
  },
  {
   "cell_type": "code",
   "execution_count": 47,
   "metadata": {
    "collapsed": true,
    "jupyter": {
     "outputs_hidden": true
    }
   },
   "outputs": [],
   "source": [
    "from math import factorial"
   ]
  },
  {
   "cell_type": "code",
   "execution_count": 48,
   "metadata": {
    "collapsed": true,
    "jupyter": {
     "outputs_hidden": true
    }
   },
   "outputs": [],
   "source": [
    "complication2 = lambda n: factorial(52) / (6**n * factorial(52 - 3 * n))"
   ]
  },
  {
   "cell_type": "code",
   "execution_count": 49,
   "metadata": {},
   "outputs": [
    {
     "data": {
      "text/plain": [
       "6180846672000.0"
      ]
     },
     "execution_count": 49,
     "metadata": {},
     "output_type": "execute_result"
    }
   ],
   "source": [
    "complication2(3)"
   ]
  },
  {
   "cell_type": "markdown",
   "metadata": {},
   "source": [
    "结果一样"
   ]
  },
  {
   "cell_type": "code",
   "execution_count": 50,
   "metadata": {
    "collapsed": true,
    "jupyter": {
     "outputs_hidden": true
    },
    "scrolled": true
   },
   "outputs": [],
   "source": [
    "cp = [complication(i)[1] for i in range(1, 52 // 3 + 1)]  #复杂度\n",
    "cb = [complication(i)[0] for i in range(1, 52 // 3 + 1)]  #其中组合数部分\n",
    "di = ([cp / cb for cb, cp in zip(cb, cp)])  #其中分配数部分"
   ]
  },
  {
   "cell_type": "code",
   "execution_count": 51,
   "metadata": {},
   "outputs": [
    {
     "data": {
      "image/png": "[encoded data removed]",
      "text/plain": [
       "<matplotlib.figure.Figure at 0x14bd2ad3c50>"
      ]
     },
     "metadata": {},
     "output_type": "display_data"
    }
   ],
   "source": [
    "plot(r_[1:18], cp, '-o')\n",
    "plt.yscale('log')"
   ]
  },
  {
   "cell_type": "markdown",
   "metadata": {},
   "source": [
    "穷举法复杂度随人数略呈指数上升（图为对数坐标轴），且图中斜率减小，所以复杂度$O(a^n)$，$a$是$n$的单减函数。实际上有\n",
    "$$a=\\frac{(55-3n)(54-3n)(53-3n)}{6}$$\n",
    "$a|_{n=17}=1$，可知图像最右端点的斜率为$log1=0$  \n",
    "而如果突破52张牌限制，随牌数复杂度要比阶乘要大得多，故而想通过穷举法计算概率不现实。"
   ]
  },
  {
   "cell_type": "code",
   "execution_count": 52,
   "metadata": {},
   "outputs": [
    {
     "data": {
      "image/png": "[encoded data removed]",
      "text/plain": [
       "<matplotlib.figure.Figure at 0x14bd2a6efd0>"
      ]
     },
     "metadata": {},
     "output_type": "display_data"
    }
   ],
   "source": [
    "plot(r_[1:18], cb, '-o');"
   ]
  },
  {
   "cell_type": "markdown",
   "metadata": {},
   "source": [
    "组合数$C_{52}^{3n}$先升后降"
   ]
  },
  {
   "cell_type": "code",
   "execution_count": 53,
   "metadata": {},
   "outputs": [
    {
     "data": {
      "image/png": "[encoded data removed]",
      "text/plain": [
       "<matplotlib.figure.Figure at 0x14bd25a4b38>"
      ]
     },
     "metadata": {},
     "output_type": "display_data"
    }
   ],
   "source": [
    "plot(r_[1:18], di, '-o')\n",
    "plt.yscale('log')"
   ]
  },
  {
   "cell_type": "markdown",
   "metadata": {},
   "source": [
    "分配数增长快于指数"
   ]
  },
  {
   "cell_type": "markdown",
   "metadata": {},
   "source": [
    "估计计算耗时："
   ]
  },
  {
   "cell_type": "code",
   "execution_count": 54,
   "metadata": {},
   "outputs": [
    {
     "name": "stdout",
     "output_type": "stream",
     "text": [
      "1.38 s ± 54.2 ms per loop (mean ± std. dev. of 7 runs, 1 loop each)\n"
     ]
    },
    {
     "data": {
      "text/plain": [
       "<TimeitResult : 1.38 s ± 54.2 ms per loop (mean ± std. dev. of 7 runs, 1 loop each)>"
      ]
     },
     "execution_count": 54,
     "metadata": {},
     "output_type": "execute_result"
    }
   ],
   "source": [
    "%%timeit -o\n",
    "res_t = [0] * 6\n",
    "for cards in combinations(AllCards[:15], 6):\n",
    "    for cds1, cds2 in dist(cards, (3, 3)):\n",
    "        res_t[max(getType(*cds1), getType(*cds2))] += 1"
   ]
  },
  {
   "cell_type": "code",
   "execution_count": 55,
   "metadata": {
    "collapsed": true,
    "jupyter": {
     "outputs_hidden": true
    }
   },
   "outputs": [],
   "source": [
    "spc = _.best / (comb(15, 6) * comb(6, 3))  #秒/状态"
   ]
  },
  {
   "cell_type": "code",
   "execution_count": 56,
   "metadata": {
    "collapsed": true,
    "jupyter": {
     "outputs_hidden": true
    }
   },
   "outputs": [],
   "source": [
    "cp=array(cp)"
   ]
  },
  {
   "cell_type": "code",
   "execution_count": 57,
   "metadata": {},
   "outputs": [
    {
     "data": {
      "text/plain": [
       "(0.29508778458297441, 1.5101937064324222)"
      ]
     },
     "execution_count": 57,
     "metadata": {},
     "output_type": "execute_result"
    }
   ],
   "source": [
    "cp[0] * spc, cp[1] * spc / 3600  #单人（秒），双人（小时）"
   ]
  },
  {
   "cell_type": "markdown",
   "metadata": {},
   "source": [
    "可以看到上面穷举双人局所需要的时间"
   ]
  },
  {
   "cell_type": "code",
   "execution_count": 58,
   "metadata": {},
   "outputs": [
    {
     "data": {
      "text/plain": [
       "array([  9.3572e-09,   1.7240e-04,   2.6170e+00,   3.2296e+04,\n",
       "         3.1909e+08,   2.4793e+12,   1.4836e+16,   6.6688e+19,\n",
       "         2.1847e+23,   5.0248e+26,   7.7382e+29,   7.4984e+32,\n",
       "         4.1991e+35,   1.2009e+38,   1.4411e+40,   5.0439e+41,   2.0176e+42])"
      ]
     },
     "execution_count": 58,
     "metadata": {},
     "output_type": "execute_result"
    }
   ],
   "source": [
    "years = cp * spc / 3600 / 24 / 365\n",
    "years  #所需年数"
   ]
  },
  {
   "cell_type": "markdown",
   "metadata": {},
   "source": [
    "sec, h, years, 万年, 亿年 ... 10^40+ years"
   ]
  },
  {
   "cell_type": "code",
   "execution_count": 59,
   "metadata": {},
   "outputs": [
    {
     "data": {
      "image/png": "[encoded data removed]",
      "text/plain": [
       "<matplotlib.figure.Figure at 0x14bd29259e8>"
      ]
     },
     "metadata": {},
     "output_type": "display_data"
    }
   ],
   "source": [
    "plot(r_[1:18], years, '-o')\n",
    "plt.yscale('log')"
   ]
  },
  {
   "cell_type": "markdown",
   "metadata": {},
   "source": [
    "## 蒙特卡罗方法"
   ]
  },
  {
   "cell_type": "markdown",
   "metadata": {},
   "source": [
    "目的也是计算全场最大是某类型牌的概率"
   ]
  },
  {
   "cell_type": "code",
   "execution_count": 60,
   "metadata": {
    "collapsed": true,
    "jupyter": {
     "outputs_hidden": true
    }
   },
   "outputs": [],
   "source": [
    "def choiceCards(cards, n):\n",
    "    return np.random.choice(cards,size=n,replace=False)"
   ]
  },
  {
   "cell_type": "code",
   "execution_count": 61,
   "metadata": {
    "collapsed": true,
    "jupyter": {
     "outputs_hidden": true
    }
   },
   "outputs": [],
   "source": [
    "def biggest(cardsList): #返回全场最大牌的类型\n",
    "    typeList = [getType(*cards) for cards in cardsList]\n",
    "    return max(typeList)"
   ]
  },
  {
   "cell_type": "code",
   "execution_count": 62,
   "metadata": {},
   "outputs": [],
   "source": [
    "def oneTrial(cards, num_people):\n",
    "    cds = choiceCards(cards, 3*num_people)\n",
    "    cdsList = np.split(cds,num_people)\n",
    "    #print(cdsList)\n",
    "    re=[0]*6\n",
    "    re[biggest(cdsList)]=1 #one-hot\n",
    "    return re"
   ]
  },
  {
   "cell_type": "code",
   "execution_count": 63,
   "metadata": {
    "collapsed": true,
    "jupyter": {
     "outputs_hidden": true
    }
   },
   "outputs": [],
   "source": [
    "class MonteCarlo:\n",
    "    '''\n",
    "    进行蒙特卡洛试验的抽象基类\\n\n",
    "    子类需重载以下property:\n",
    "        n_samples: int, 试验总样本数，当且仅当试验过后有＞0\n",
    "        rate: float 1D-array, 当前概率（频率），长度为随机变量数目\n",
    "        X: float 1D-array, 记录历史样本数变化，用于绘图时x轴\n",
    "        rateHistory: float 2D-array, shape(len(X), len(rate)), 记录历史概率变化，对应于X，用于绘图\\n        \n",
    "    子类需重载以下方法:\n",
    "        trial(self, times)\n",
    "    '''\n",
    "\n",
    "    def __init__(self, varNames, accuracy=None):\n",
    "        '''varNames: str list. 各随机变量的名称，用于绘图标注\n",
    "        accuracy: float, autoFit()的目标精度\n",
    "        '''\n",
    "        self.accuracy = accuracy  #训练的目标精度\n",
    "        self.varNames = varNames\n",
    "\n",
    "    #需重载\n",
    "    n_samples = property(None)\n",
    "    rate = property(None)\n",
    "\n",
    "    X = property(None)\n",
    "    rateHistory = property(None)\n",
    "\n",
    "    def trial(self, times):\n",
    "        '''\n",
    "        需重载\n",
    "        调用时进行times次试验\n",
    "        会被autoFit多次调用，每次被调用可仅添加一个历史（更新一次X,rateHistory）\n",
    "        '''\n",
    "        pass\n",
    "\n",
    "    def autoFit(self, accuracy=None, bunchLen=None, n_groups=100):\n",
    "        '''\n",
    "        accuracy: 目标精度\n",
    "        bunchLen: 一次性训练数，作每次调用trial()时的参数\n",
    "        n_groups: 大约分n_groups次训练，在bunchLen指定时被覆盖\n",
    "        '''\n",
    "        if accuracy:\n",
    "            self.accuracy = accuracy\n",
    "        else:\n",
    "            self.accuracy = self.accuracy or 0.01\n",
    "            accuracy = self.accuracy\n",
    "\n",
    "        #估计总组样本数\n",
    "        sizeFun = lambda r: int((r * (1 - r)).max() / (accuracy / 3)**2)\n",
    "\n",
    "        if not self.n_samples > 0:\n",
    "            self.trial()\n",
    "        while not ((3 * self.sigma < accuracy).all() \n",
    "                   and ((0 < self.sigma).all() or self.n_samples>10000)):\n",
    "            #3-sigma准则，犯错概率小于0.3%\n",
    "            n = bunchLen or sizeFun(self.rate) // n_groups or 1\n",
    "            self.trial(n)\n",
    "        return self\n",
    "\n",
    "    def plotRate(self):\n",
    "        plot(self.X, self.rateHistory)\n",
    "        plt.yscale('log')\n",
    "        plt.legend(self.varNames)\n",
    "        plt.show()\n",
    "\n",
    "    #当前标准差，长度为随机变量数目\n",
    "    sigma = property(lambda sf: sqrt(sf.rate * (1 - sf.rate) / sf.n_samples))\n",
    "\n",
    "    def getProgress(self):\n",
    "        if self.n_samples > 0:\n",
    "            return (self.accuracy / (3 * self.sigma.max()))**2\n",
    "        else:\n",
    "            return 0\n",
    "\n",
    "    progress = property(getProgress)  #属于闭区间[0,1], 完成进度\n",
    "\n",
    "    def isDone(self):\n",
    "        return self.progress >= 1\n",
    "\n",
    "    def __repr__(self):\n",
    "        if not self.n_samples > 0:\n",
    "            return 'Never fit.'\n",
    "        else:\n",
    "            return ('goal accuracy is %s,\\t' % self.accuracy +\n",
    "                    '%s trials yet, %.2f%% completed.' %\n",
    "                    (self.n_samples, self.progress * 100) +\n",
    "                    (self.isDone() and '   DONE!\\n'\n",
    "                     or '\\n') + '3-sigma: %s, max: %.4g\\n' %\n",
    "                    (3 * self.sigma,\n",
    "                     3 * self.sigma.max()) + 'rate is: %s' % self.rate)"
   ]
  },
  {
   "cell_type": "markdown",
   "metadata": {},
   "source": [
    "从getProgress()和sizeFun()可以看出，蒙特卡罗方法复杂度随精度（误差分之一）增加呈平方上升，$O(n^2)$，多项式复杂度，可接受。"
   ]
  },
  {
   "cell_type": "code",
   "execution_count": 64,
   "metadata": {
    "collapsed": true,
    "jupyter": {
     "outputs_hidden": true
    }
   },
   "outputs": [],
   "source": [
    "class gfMon(MonteCarlo):\n",
    "    '用于炸金花蒙特卡洛试验'\n",
    "    def __init__(self, trialFun, names=TypeNames, accuracy=None):\n",
    "        'trialFun: 调用返回‘one-hot’列表，如：[0,0,1,0,0,0]'\n",
    "        MonteCarlo.__init__(self,names,accuracy)\n",
    "        self.trialFun = trialFun\n",
    "        self.trialList = []\n",
    "        self.upToDate = False\n",
    "\n",
    "    def trial(self, times=100):\n",
    "        assert (times > 0)\n",
    "        re = []\n",
    "        for i in range(times):\n",
    "            re.append(self.trialFun())\n",
    "        self.trialList.append(np.sum(re,axis=0))\n",
    "        self.upToDate = False\n",
    "        return self\n",
    "\n",
    "    def refresh(self):\n",
    "        if self.trialList:\n",
    "            tArr = array(self.trialList)\n",
    "            cArr = tArr.cumsum(axis=0)\n",
    "            self._X = cArr.sum(axis=1)\n",
    "            sumVector = self._X.reshape(-1, 1)\n",
    "            self._rateHis = cArr / sumVector\n",
    "            self.upToDate = True\n",
    "        else:\n",
    "            self._X = [np.nan]\n",
    "            self._rateHis = [np.nan]\n",
    "\n",
    "    def getrateHistory(self):\n",
    "        if not self.upToDate:\n",
    "            self.refresh()\n",
    "        return self._rateHis\n",
    "\n",
    "    def getX(self):\n",
    "        if not self.upToDate:\n",
    "            self.refresh()\n",
    "        return self._X\n",
    "     \n",
    "    X = property(getX)\n",
    "    n_samples = property(lambda sf: sf.X[-1])\n",
    "    rateHistory = property(getrateHistory)\n",
    "    rate = property(lambda sf: sf.rateHistory[-1])   "
   ]
  },
  {
   "cell_type": "markdown",
   "metadata": {},
   "source": [
    "### 双人"
   ]
  },
  {
   "cell_type": "code",
   "execution_count": 65,
   "metadata": {},
   "outputs": [
    {
     "data": {
      "text/plain": [
       "Never fit."
      ]
     },
     "execution_count": 65,
     "metadata": {},
     "output_type": "execute_result"
    }
   ],
   "source": [
    "m2 = gfMon(lambda: oneTrial(AllCards, 2))\n",
    "m2"
   ]
  },
  {
   "cell_type": "code",
   "execution_count": 66,
   "metadata": {
    "scrolled": true
   },
   "outputs": [
    {
     "data": {
      "text/plain": [
       "goal accuracy is 0.01,\t22335 trials yet, 100.37% completed.   DONE!\n",
       "3-sigma: [ 0.01    0.009   0.0049  0.0058  0.0013  0.0014], max: 0.009982\n",
       "rate is: [ 0.5524  0.2824  0.0627  0.0935  0.0043  0.0046]"
      ]
     },
     "execution_count": 66,
     "metadata": {},
     "output_type": "execute_result"
    }
   ],
   "source": [
    "m2.autoFit(accuracy=0.01)"
   ]
  },
  {
   "cell_type": "code",
   "execution_count": 67,
   "metadata": {},
   "outputs": [
    {
     "data": {
      "image/png": "[encoded data removed]",
      "text/plain": [
       "<matplotlib.figure.Figure at 0x14bd234f4e0>"
      ]
     },
     "metadata": {},
     "output_type": "display_data"
    }
   ],
   "source": [
    "m2.plotRate()"
   ]
  },
  {
   "cell_type": "code",
   "execution_count": 68,
   "metadata": {},
   "outputs": [
    {
     "data": {
      "text/plain": [
       "array([ 0.5537,  0.2805,  0.0606,  0.0962,  0.0043,  0.0047])"
      ]
     },
     "execution_count": 68,
     "metadata": {},
     "output_type": "execute_result"
    }
   ],
   "source": [
    "trueRate_2"
   ]
  },
  {
   "cell_type": "code",
   "execution_count": 69,
   "metadata": {},
   "outputs": [
    {
     "data": {
      "text/plain": [
       "array([  1.3210e-03,  -1.9529e-03,  -2.1678e-03,   2.7258e-03,\n",
       "        -1.4315e-05,   8.8156e-05])"
      ]
     },
     "execution_count": 69,
     "metadata": {},
     "output_type": "execute_result"
    }
   ],
   "source": [
    "trueRate_2 - m2.rate"
   ]
  },
  {
   "cell_type": "markdown",
   "metadata": {},
   "source": [
    "达到宣称精度"
   ]
  },
  {
   "cell_type": "markdown",
   "metadata": {},
   "source": [
    "### 多人"
   ]
  },
  {
   "cell_type": "code",
   "execution_count": 70,
   "metadata": {
    "collapsed": true,
    "jupyter": {
     "outputs_hidden": true
    }
   },
   "outputs": [],
   "source": [
    "import threading\n",
    "import time\n",
    "import datetime"
   ]
  },
  {
   "cell_type": "code",
   "execution_count": 71,
   "metadata": {
    "collapsed": true,
    "jupyter": {
     "outputs_hidden": true
    }
   },
   "outputs": [],
   "source": [
    "class monitorThread(threading.Thread):\n",
    "    '''\n",
    "    监控线程\n",
    "    '''\n",
    "\n",
    "    def __init__(self, mon, name, sleepTime=0.1, step=0.2):\n",
    "        'step: 日志步进值'\n",
    "        threading.Thread.__init__(self)\n",
    "        self.mon = mon\n",
    "        self.name = name\n",
    "        self.sleepTime = sleepTime\n",
    "        self.step = step\n",
    "\n",
    "    def echo(self, duration):\n",
    "        def toDelta(t):\n",
    "            if np.isnan(t):\n",
    "                return t\n",
    "            else:\n",
    "                return datetime.timedelta(seconds=int(t))\n",
    "\n",
    "        prg = self.mon.progress\n",
    "        try:\n",
    "            total = duration / prg\n",
    "        except ZeroDivisionError:\n",
    "            total = np.nan\n",
    "        remain = total - duration\n",
    "        print('#' + self.name + '#\\t' + 'run %s, total %s, remain %s' %\n",
    "              (toDelta(duration), toDelta(total), toDelta(remain)))\n",
    "        print(self.mon, '\\n', flush=True)\n",
    "\n",
    "    def run(self):\n",
    "        self.t0 = time.time()\n",
    "\n",
    "        duration = 0\n",
    "        while duration < 0.4:  #等待足够采样时长\n",
    "            duration = time.time() - self.t0\n",
    "            prg = self.mon.progress\n",
    "            if prg >= 1:\n",
    "                self.echo(time.time() - self.t0)\n",
    "                return\n",
    "            time.sleep(0.01)\n",
    "\n",
    "        prg_last = prg = self.mon.progress\n",
    "        while prg_last == prg:  #等待跳变\n",
    "            time.sleep(0.01)\n",
    "            prg = self.mon.progress\n",
    "        self.echo(time.time() - self.t0)\n",
    "\n",
    "        p = round(prg, 1) + self.step  #步进\n",
    "\n",
    "        while True:\n",
    "            prg = self.mon.progress\n",
    "            if (0.9 > prg > p or prg >= 1):\n",
    "                now = time.time()\n",
    "                duration = now - self.t0\n",
    "\n",
    "                self.echo(duration)\n",
    "                p = round(prg, 1) + self.step\n",
    "            if prg >= 1:\n",
    "                break\n",
    "            time.sleep(self.sleepTime)"
   ]
  },
  {
   "cell_type": "code",
   "execution_count": 72,
   "metadata": {
    "collapsed": true,
    "jupyter": {
     "outputs_hidden": true
    }
   },
   "outputs": [],
   "source": [
    "m = {}\n",
    "\n",
    "def fitAll(accuracy=0.01, n_groups=100, step=0.2):\n",
    "    for n in range(2, 18):\n",
    "        print('\\n' + '-' * 20 + '%s presons analyzing...' % n + '-' * 20)\n",
    "        m[n] = gfMon(lambda: oneTrial(AllCards, n))\n",
    "        mntor = monitorThread(m[n], '%s presons' % n, sleepTime=1, step=step)\n",
    "        mntor.start()\n",
    "\n",
    "        m[n].autoFit(accuracy=accuracy, n_groups=n_groups)\n",
    "        mntor.join()"
   ]
  },
  {
   "cell_type": "code",
   "execution_count": 73,
   "metadata": {
    "scrolled": true
   },
   "outputs": [
    {
     "name": "stdout",
     "output_type": "stream",
     "text": [
      "\n",
      "--------------------2 presons analyzing...--------------------\n",
      "#2 presons#\trun 0:00:00, total 0:00:01, remain 0:00:00\n",
      "goal accuracy is 0.01,\t7650 trials yet, 34.34% completed.\n",
      "3-sigma: [ 0.0171  0.0154  0.0082  0.0103  0.0022  0.0024], max: 0.01707\n",
      "rate is: [ 0.5497  0.2803  0.0612  0.0997  0.0043  0.0048] \n",
      "\n",
      "#2 presons#\trun 0:00:01, total 0:00:01, remain 0:00:00\n",
      "goal accuracy is 0.01,\t22302 trials yet, 100.26% completed.   DONE!\n",
      "3-sigma: [ 0.01    0.009   0.0048  0.0059  0.0014  0.0013], max: 0.009987\n",
      "rate is: [ 0.5534  0.2815  0.0604  0.0961  0.0046  0.0041] \n",
      "\n",
      "\n",
      "--------------------3 presons analyzing...--------------------\n",
      "#3 presons#\trun 0:00:00, total 0:00:01, remain 0:00:01\n",
      "goal accuracy is 0.01,\t5122 trials yet, 23.52% completed.\n",
      "3-sigma: [ 0.0206  0.0201  0.0115  0.0144  0.0039  0.0036], max: 0.02062\n",
      "rate is: [ 0.4106  0.3547  0.0816  0.1367  0.0088  0.0076] \n",
      "\n",
      "#3 presons#\trun 0:00:02, total 0:00:02, remain 0:00:00\n",
      "goal accuracy is 0.01,\t21766 trials yet, 100.27% completed.   DONE!\n",
      "3-sigma: [ 0.01    0.0097  0.0057  0.0071  0.0016  0.0018], max: 0.009986\n",
      "rate is: [ 0.4061  0.3518  0.0857  0.1421  0.0065  0.0077] \n",
      "\n",
      "\n",
      "--------------------4 presons analyzing...--------------------\n",
      "#4 presons#\trun 0:00:00, total 0:00:01, remain 0:00:01\n",
      "goal accuracy is 0.01,\t6101 trials yet, 28.57% completed.\n",
      "3-sigma: [ 0.0177  0.0187  0.012   0.0147  0.0032  0.0037], max: 0.01871\n",
      "rate is: [ 0.3083  0.3873  0.1087  0.1793  0.0069  0.0095] \n",
      "\n",
      "#4 presons#\trun 0:00:02, total 0:00:02, remain 0:00:00\n",
      "goal accuracy is 0.01,\t21456 trials yet, 100.24% completed.   DONE!\n",
      "3-sigma: [ 0.0095  0.01    0.0063  0.0078  0.0018  0.0021], max: 0.009988\n",
      "rate is: [ 0.31    0.3897  0.104   0.1784  0.0076  0.0103] \n",
      "\n",
      "\n",
      "--------------------5 presons analyzing...--------------------\n",
      "#5 presons#\trun 0:00:00, total 0:00:01, remain 0:00:01\n",
      "goal accuracy is 0.01,\t5084 trials yet, 23.38% completed.\n",
      "3-sigma: [ 0.0178  0.0207  0.0138  0.0172  0.0042  0.0047], max: 0.02068\n",
      "rate is: [ 0.2323  0.4081  0.1233  0.2136  0.0098  0.0128] \n",
      "\n",
      "#5 presons#\trun 0:00:01, total 0:00:01, remain 0:00:00\n",
      "goal accuracy is 0.01,\t18944 trials yet, 87.32% completed.\n",
      "3-sigma: [ 0.0092  0.0107  0.0072  0.009   0.0021  0.0024], max: 0.0107\n",
      "rate is: [ 0.2297  0.4054  0.1228  0.2205  0.0096  0.0121] \n",
      "\n",
      "#5 presons#\trun 0:00:02, total 0:00:02, remain 0:00:00\n",
      "goal accuracy is 0.01,\t21762 trials yet, 100.19% completed.   DONE!\n",
      "3-sigma: [ 0.0085  0.01    0.0067  0.0084  0.002   0.0022], max: 0.00999\n",
      "rate is: [ 0.2292  0.4069  0.1236  0.2191  0.0093  0.0119] \n",
      "\n",
      "\n",
      "--------------------6 presons analyzing...--------------------\n",
      "#6 presons#\trun 0:00:00, total 0:00:02, remain 0:00:01\n",
      "goal accuracy is 0.01,\t4440 trials yet, 20.32% completed.\n",
      "3-sigma: [ 0.017   0.0222  0.0158  0.0193  0.005   0.0049], max: 0.02219\n",
      "rate is: [ 0.173   0.4153  0.1435  0.2437  0.0126  0.0119] \n",
      "\n",
      "#6 presons#\trun 0:00:01, total 0:00:01, remain 0:00:00\n",
      "goal accuracy is 0.01,\t17706 trials yet, 81.32% completed.\n",
      "3-sigma: [ 0.0085  0.0111  0.0078  0.0098  0.0026  0.0025], max: 0.01109\n",
      "rate is: [ 0.1733  0.4101  0.1375  0.2524  0.0138  0.0129] \n",
      "\n",
      "#6 presons#\trun 0:00:02, total 0:00:02, remain 0:00:00\n",
      "goal accuracy is 0.01,\t21829 trials yet, 100.40% completed.   DONE!\n",
      "3-sigma: [ 0.0077  0.01    0.007   0.0089  0.0023  0.0023], max: 0.00998\n",
      "rate is: [ 0.1741  0.4082  0.1358  0.2553  0.0135  0.0131] \n",
      "\n",
      "\n",
      "--------------------7 presons analyzing...--------------------\n",
      "#7 presons#\trun 0:00:00, total 0:00:02, remain 0:00:01\n",
      "goal accuracy is 0.01,\t4432 trials yet, 20.36% completed.\n",
      "3-sigma: [ 0.0146  0.0222  0.0157  0.0207  0.005   0.0059], max: 0.02216\n",
      "rate is: [ 0.1189  0.41    0.1403  0.301   0.0126  0.0171] \n",
      "\n",
      "#7 presons#\trun 0:00:01, total 0:00:02, remain 0:00:00\n",
      "goal accuracy is 0.01,\t15717 trials yet, 72.19% completed.\n",
      "3-sigma: [ 0.0079  0.0118  0.0084  0.0109  0.0029  0.003 ], max: 0.01177\n",
      "rate is: [ 0.1252  0.4101  0.1444  0.2895  0.0146  0.0162] \n",
      "\n",
      "#7 presons#\trun 0:00:02, total 0:00:02, remain 0:00:00\n",
      "goal accuracy is 0.01,\t21793 trials yet, 100.11% completed.   DONE!\n",
      "3-sigma: [ 0.0067  0.01    0.0072  0.0092  0.0025  0.0025], max: 0.009994\n",
      "rate is: [ 0.1244  0.4099  0.146   0.2892  0.0149  0.0157] \n",
      "\n",
      "\n",
      "--------------------8 presons analyzing...--------------------\n",
      "#8 presons#\trun 0:00:00, total 0:00:02, remain 0:00:01\n",
      "goal accuracy is 0.01,\t4571 trials yet, 21.36% completed.\n",
      "3-sigma: [ 0.0127  0.0216  0.0163  0.0208  0.0053  0.0062], max: 0.02164\n",
      "rate is: [ 0.0897  0.3894  0.1601  0.3266  0.0144  0.0197] \n",
      "\n",
      "#8 presons#\trun 0:00:01, total 0:00:02, remain 0:00:00\n",
      "goal accuracy is 0.01,\t15714 trials yet, 73.19% completed.\n",
      "3-sigma: [ 0.007   0.0117  0.0087  0.0112  0.0031  0.0032], max: 0.01169\n",
      "rate is: [ 0.0949  0.393   0.1553  0.3213  0.017   0.0185] \n",
      "\n",
      "#8 presons#\trun 0:00:02, total 0:00:02, remain 0:00:00\n",
      "goal accuracy is 0.01,\t21727 trials yet, 100.82% completed.   DONE!\n",
      "3-sigma: [ 0.0059  0.01    0.0073  0.0095  0.0026  0.0028], max: 0.009959\n",
      "rate is: [ 0.0931  0.3973  0.1527  0.3206  0.017   0.0193] \n",
      "\n",
      "\n",
      "--------------------9 presons analyzing...--------------------\n",
      "#9 presons#\trun 0:00:00, total 0:00:02, remain 0:00:01\n",
      "goal accuracy is 0.01,\t4396 trials yet, 20.72% completed.\n",
      "3-sigma: [ 0.0116  0.022   0.0167  0.0215  0.006   0.0063], max: 0.02197\n",
      "rate is: [ 0.0705  0.3808  0.1636  0.3474  0.018   0.0198] \n",
      "\n",
      "#9 presons#\trun 0:00:01, total 0:00:02, remain 0:00:00\n",
      "goal accuracy is 0.01,\t15571 trials yet, 73.58% completed.\n",
      "3-sigma: [ 0.0063  0.0117  0.0089  0.0114  0.0032  0.0034], max: 0.01166\n",
      "rate is: [ 0.0731  0.3781  0.1658  0.3444  0.0179  0.0207] \n",
      "\n",
      "#9 presons#\trun 0:00:02, total 0:00:02, remain 0:00:00\n",
      "goal accuracy is 0.01,\t21268 trials yet, 100.72% completed.   DONE!\n",
      "3-sigma: [ 0.0053  0.01    0.0077  0.0098  0.0028  0.003 ], max: 0.009964\n",
      "rate is: [ 0.0726  0.376   0.1662  0.3458  0.0182  0.0212] \n",
      "\n",
      "\n",
      "--------------------10 presons analyzing...--------------------\n",
      "#10 presons#\trun 0:00:00, total 0:00:02, remain 0:00:02\n",
      "goal accuracy is 0.01,\t3913 trials yet, 18.43% completed.\n",
      "3-sigma: [ 0.0107  0.0228  0.0181  0.0233  0.007   0.0075], max: 0.02329\n",
      "rate is: [ 0.0524  0.3478  0.1725  0.381   0.0215  0.0248] \n",
      "\n",
      "#10 presons#\trun 0:00:02, total 0:00:02, remain 0:00:00\n",
      "goal accuracy is 0.01,\t21333 trials yet, 100.28% completed.   DONE!\n",
      "3-sigma: [ 0.0046  0.0098  0.0077  0.01    0.0028  0.0031], max: 0.009986\n",
      "rate is: [ 0.0534  0.3512  0.1705  0.3833  0.0188  0.0228] \n",
      "\n",
      "\n",
      "--------------------11 presons analyzing...--------------------\n",
      "#11 presons#\trun 0:00:00, total 0:00:02, remain 0:00:02\n",
      "goal accuracy is 0.01,\t3577 trials yet, 16.46% completed.\n",
      "3-sigma: [ 0.01    0.0236  0.0189  0.0247  0.0077  0.0078], max: 0.02465\n",
      "rate is: [ 0.0411  0.3302  0.1722  0.4079  0.024   0.0246] \n",
      "\n",
      "#11 presons#\trun 0:00:02, total 0:00:02, remain 0:00:00\n",
      "goal accuracy is 0.01,\t21806 trials yet, 100.24% completed.   DONE!\n",
      "3-sigma: [ 0.0041  0.0095  0.0077  0.01    0.0031  0.0032], max: 0.009988\n",
      "rate is: [ 0.0416  0.3227  0.176   0.4089  0.0246  0.0262] \n",
      "\n",
      "\n",
      "--------------------12 presons analyzing...--------------------\n",
      "#12 presons#\trun 0:00:00, total 0:00:02, remain 0:00:02\n",
      "goal accuracy is 0.01,\t3842 trials yet, 17.51% completed.\n",
      "3-sigma: [ 0.0083  0.0226  0.0185  0.0239  0.0072  0.008 ], max: 0.0239\n",
      "rate is: [ 0.0305  0.3207  0.1765  0.4217  0.0226  0.0281] \n",
      "\n",
      "#12 presons#\trun 0:00:03, total 0:00:03, remain 0:00:00\n",
      "goal accuracy is 0.01,\t22125 trials yet, 100.28% completed.   DONE!\n",
      "3-sigma: [ 0.0035  0.0093  0.0077  0.01    0.0032  0.0034], max: 0.009986\n",
      "rate is: [ 0.0306  0.3085  0.1761  0.4303  0.025   0.0296] \n",
      "\n",
      "\n",
      "--------------------13 presons analyzing...--------------------\n",
      "#13 presons#\trun 0:00:00, total 0:00:03, remain 0:00:03\n",
      "goal accuracy is 0.01,\t3438 trials yet, 15.42% completed.\n",
      "3-sigma: [ 0.0077  0.0232  0.0196  0.0255  0.0077  0.009 ], max: 0.02547\n",
      "rate is: [ 0.023   0.2897  0.1798  0.4529  0.023   0.0317] \n",
      "\n",
      "#13 presons#\trun 0:00:02, total 0:00:03, remain 0:00:00\n",
      "goal accuracy is 0.01,\t18154 trials yet, 81.28% completed.\n",
      "3-sigma: [ 0.0033  0.0101  0.0085  0.0111  0.0037  0.0038], max: 0.01109\n",
      "rate is: [ 0.022   0.2854  0.1771  0.4572  0.0277  0.0305] \n",
      "\n",
      "#13 presons#\trun 0:00:03, total 0:00:03, remain 0:00:00\n",
      "goal accuracy is 0.01,\t22391 trials yet, 100.30% completed.   DONE!\n",
      "3-sigma: [ 0.0029  0.0091  0.0077  0.01    0.0033  0.0035], max: 0.009985\n",
      "rate is: [ 0.0215  0.285   0.1789  0.4557  0.0279  0.0311] \n",
      "\n",
      "\n",
      "--------------------14 presons analyzing...--------------------\n",
      "#14 presons#\trun 0:00:00, total 0:00:03, remain 0:00:02\n",
      "goal accuracy is 0.01,\t3236 trials yet, 14.39% completed.\n",
      "3-sigma: [ 0.0061  0.0231  0.0201  0.0264  0.0088  0.0098], max: 0.02636\n",
      "rate is: [ 0.0136  0.259   0.1771  0.4861  0.0287  0.0355] \n",
      "\n",
      "#14 presons#\trun 0:00:02, total 0:00:03, remain 0:00:00\n",
      "goal accuracy is 0.01,\t17796 trials yet, 79.24% completed.\n",
      "3-sigma: [ 0.0028  0.0099  0.0087  0.0112  0.0037  0.0041], max: 0.01123\n",
      "rate is: [ 0.0152  0.2619  0.1817  0.4787  0.0281  0.0344] \n",
      "\n",
      "#14 presons#\trun 0:00:03, total 0:00:03, remain 0:00:00\n",
      "goal accuracy is 0.01,\t22500 trials yet, 100.17% completed.   DONE!\n",
      "3-sigma: [ 0.0025  0.0088  0.0077  0.01    0.0033  0.0036], max: 0.009992\n",
      "rate is: [ 0.0156  0.2636  0.1795  0.4794  0.0276  0.0343] \n",
      "\n",
      "\n",
      "--------------------15 presons analyzing...--------------------\n",
      "#15 presons#\trun 0:00:00, total 0:00:04, remain 0:00:03\n",
      "goal accuracy is 0.01,\t2339 trials yet, 10.40% completed.\n",
      "3-sigma: [ 0.0057  0.0263  0.0238  0.031   0.0106  0.0117], max: 0.03101\n",
      "rate is: [ 0.0086  0.2347  0.1787  0.5113  0.0299  0.0368] \n",
      "\n",
      "#15 presons#\trun 0:00:02, total 0:00:03, remain 0:00:00\n",
      "goal accuracy is 0.01,\t16675 trials yet, 74.14% completed.\n",
      "3-sigma: [ 0.0026  0.01    0.009   0.0116  0.0041  0.0041], max: 0.01161\n",
      "rate is: [ 0.0127  0.2476  0.1846  0.4907  0.0314  0.0329] \n",
      "\n",
      "#15 presons#\trun 0:00:03, total 0:00:03, remain 0:00:00\n",
      "goal accuracy is 0.01,\t22499 trials yet, 100.00% completed.   DONE!\n",
      "3-sigma: [ 0.0022  0.0086  0.0077  0.01    0.0035  0.0036], max: 0.01\n",
      "rate is: [ 0.0125  0.2469  0.1804  0.4958  0.0313  0.0331] \n",
      "\n",
      "\n",
      "--------------------16 presons analyzing...--------------------\n",
      "#16 presons#\trun 0:00:00, total 0:00:03, remain 0:00:03\n",
      "goal accuracy is 0.01,\t2562 trials yet, 11.39% completed.\n",
      "3-sigma: [ 0.0048  0.0251  0.0231  0.0296  0.0101  0.0109], max: 0.02963\n",
      "rate is: [ 0.0066  0.2342  0.187   0.5078  0.0297  0.0347] \n",
      "\n",
      "#16 presons#\trun 0:00:02, total 0:00:03, remain 0:00:00\n",
      "goal accuracy is 0.01,\t16674 trials yet, 74.15% completed.\n",
      "3-sigma: [ 0.0023  0.0098  0.0089  0.0116  0.0042  0.0044], max: 0.01161\n",
      "rate is: [ 0.0097  0.2299  0.1784  0.5116  0.0333  0.0371] \n",
      "\n",
      "#16 presons#\trun 0:00:03, total 0:00:03, remain 0:00:00\n",
      "goal accuracy is 0.01,\t22498 trials yet, 100.08% completed.   DONE!\n",
      "3-sigma: [ 0.002   0.0084  0.0077  0.01    0.0036  0.0037], max: 0.009996\n",
      "rate is: [ 0.0097  0.2273  0.1781  0.5148  0.0339  0.0363] \n",
      "\n",
      "\n",
      "--------------------17 presons analyzing...--------------------\n",
      "#17 presons#\trun 0:00:00, total 0:00:03, remain 0:00:03\n",
      "goal accuracy is 0.01,\t2530 trials yet, 11.35% completed.\n",
      "3-sigma: [ 0.0047  0.024   0.0224  0.0297  0.0101  0.0117], max: 0.02968\n",
      "rate is: [ 0.0063  0.204   0.1708  0.549   0.0296  0.0403] \n",
      "\n",
      "#17 presons#\trun 0:00:02, total 0:00:03, remain 0:00:01\n",
      "goal accuracy is 0.01,\t15686 trials yet, 70.05% completed.\n",
      "3-sigma: [ 0.0021  0.0097  0.0091  0.0119  0.0045  0.0047], max: 0.01195\n",
      "rate is: [ 0.0077  0.2067  0.1753  0.5343  0.0362  0.0398] \n",
      "\n",
      "#17 presons#\trun 0:00:03, total 0:00:03, remain 0:00:00\n",
      "goal accuracy is 0.01,\t22599 trials yet, 100.92% completed.   DONE!\n",
      "3-sigma: [ 0.0017  0.0081  0.0075  0.01    0.0037  0.004 ], max: 0.009954\n",
      "rate is: [ 0.0077  0.2081  0.1722  0.5344  0.0365  0.0412] \n",
      "\n"
     ]
    }
   ],
   "source": [
    "fitAll(accuracy=0.01, n_groups=100, step=0.5)"
   ]
  },
  {
   "cell_type": "code",
   "execution_count": 74,
   "metadata": {
    "collapsed": true,
    "jupyter": {
     "outputs_hidden": true
    }
   },
   "outputs": [],
   "source": [
    "rateList = array([m[n].rate for n in range(2, 18)])"
   ]
  },
  {
   "cell_type": "code",
   "execution_count": 75,
   "metadata": {
    "scrolled": true
   },
   "outputs": [
    {
     "data": {
      "text/plain": [
       "array([[ 0.5534,  0.2815,  0.0604,  0.0961,  0.0046,  0.0041],\n",
       "       [ 0.4061,  0.3518,  0.0857,  0.1421,  0.0065,  0.0077],\n",
       "       [ 0.31  ,  0.3897,  0.104 ,  0.1784,  0.0076,  0.0103],\n",
       "       [ 0.2292,  0.4069,  0.1236,  0.2191,  0.0093,  0.0119],\n",
       "       [ 0.1741,  0.4082,  0.1358,  0.2553,  0.0135,  0.0131],\n",
       "       [ 0.1244,  0.4099,  0.146 ,  0.2892,  0.0149,  0.0157],\n",
       "       [ 0.0931,  0.3973,  0.1527,  0.3206,  0.017 ,  0.0193],\n",
       "       [ 0.0726,  0.376 ,  0.1662,  0.3458,  0.0182,  0.0212],\n",
       "       [ 0.0534,  0.3512,  0.1705,  0.3833,  0.0188,  0.0228],\n",
       "       [ 0.0416,  0.3227,  0.176 ,  0.4089,  0.0246,  0.0262],\n",
       "       [ 0.0306,  0.3085,  0.1761,  0.4303,  0.025 ,  0.0296],\n",
       "       [ 0.0215,  0.285 ,  0.1789,  0.4557,  0.0279,  0.0311],\n",
       "       [ 0.0156,  0.2636,  0.1795,  0.4794,  0.0276,  0.0343],\n",
       "       [ 0.0125,  0.2469,  0.1804,  0.4958,  0.0313,  0.0331],\n",
       "       [ 0.0097,  0.2273,  0.1781,  0.5148,  0.0339,  0.0363],\n",
       "       [ 0.0077,  0.2081,  0.1722,  0.5344,  0.0365,  0.0412]])"
      ]
     },
     "execution_count": 75,
     "metadata": {},
     "output_type": "execute_result"
    }
   ],
   "source": [
    "rateList"
   ]
  },
  {
   "cell_type": "markdown",
   "metadata": {},
   "source": [
    "下面载入某次精度为0.0001的运行结果覆盖之"
   ]
  },
  {
   "cell_type": "code",
   "execution_count": 76,
   "metadata": {
    "collapsed": true,
    "jupyter": {
     "outputs_hidden": true
    }
   },
   "outputs": [],
   "source": [
    "rateList=np.loads(b'\\x80\\x02cnumpy.core.multiarray\\n_reconstruct\\nq\\x00cnumpy\\nndarray\\nq\\x01K\\x00\\x85q\\x02c_codecs\\nencode\\nq\\x03X\\x01\\x00\\x00\\x00bq\\x04X\\x06\\x00\\x00\\x00latin1q\\x05\\x86q\\x06Rq\\x07\\x87q\\x08Rq\\t(K\\x01K\\x10K\\x06\\x86q\\ncnumpy\\ndtype\\nq\\x0bX\\x02\\x00\\x00\\x00f8q\\x0cK\\x00K\\x01\\x87q\\rRq\\x0e(K\\x03X\\x01\\x00\\x00\\x00<q\\x0fNNNJ\\xff\\xff\\xff\\xffJ\\xff\\xff\\xff\\xffK\\x00tq\\x10b\\x89h\\x03X\\x90\\x04\\x00\\x00%@\\xc3\\x8e,\\xc3\\xb3\\xc2\\xb7\\xc3\\xa1?+\\x18\\xc3\\x8d\\xc2\\x81Q\\xc3\\xb3\\xc3\\x91?\\x1fs\\xc2\\x89e^\\x05\\xc2\\xaf?MM\\xc2\\xa4(\\xc2\\xa0\\xc2\\xa0\\xc2\\xb8?a\\xc2\\x80\\rO\\xc3\\x9c\\xc2\\xbeq?\\xc3\\xac\\xc3\\xb4\\xc3\\xbb\\x1f7>s?`W1\\xc2\\x9cye\\xc3\\x9a?v\\xc3\\x80\\xc3\\x9dkO`\\xc3\\x96?\\x0c\\xc3\\xadM\\xc2\\x85\\xc2\\x9a\\xc2\\x9d\\xc2\\xb5?\\xc2\\xaf\\xc3\\xb6\\x1b\\xc3\\xb1\\xc3\\xb2\\xc3\\xaa\\xc3\\x81?=\\xc2\\xae@\\x15\\xc2\\xbe\\xc2\\x87z?\\xc2\\xbf\\xc2\\xb5\\xc2\\x9bn\\xc3\\xb9\\xc3\\x8d|?\\xc2\\xa3\\xc2\\x95\\xc2\\x81\\x0b\\xc3\\x8a\\xc2\\xad\\xc3\\x93?vq\\xc3\\x98\\xc3\\x90]\\xc3\\xa0\\xc3\\x98?\\xc2\\xab\\x16\\xc2\\xbdH\\x12\\xc3\\x8d\\xc2\\xba?h\\xc2\\x84j4\\xc2\\xb80\\xc3\\x87?\\xc3\\xbf\\xc2\\x99.(\\xc2\\x83\\xc2\\x98\\xc2\\x81?\\x0c\\xc2\\x87\\xc3\\xbf\\xc2\\xbfk.\\xc2\\x83?\\xc2\\xbd\\x12|\\xc3\\x9c\\x1bZ\\xc3\\x8d?\\xc3\\xb0\\x18\\xc2\\x9c\\xc3\\xb6z\\t\\xc3\\x9a?|\\x0b\\xc2\\x87lo%\\xc2\\xbf?\\xc2\\x99\\xc2\\xad].\\xc3\\xbe!\\xc3\\x8c?\\xc3\\x93a\\xc3\\xb5\\xc3\\xa5\\x1d\\xc3\\xad\\xc2\\x85?\\xc3\\xa0\\x1e\\xc2\\xb34g\\xc3\\xb6\\xc2\\x87?i\\xc2\\xb2\\xc3\\xb2\\xc3\\xa0\\\\\\xc3\\xa6\\xc3\\x85?\\xc3\\xa8\\x1bt\\x14\\xc3\\x9c>\\xc3\\x9a?\\xc3\\x97\\n\\xc2\\x81=\\xc2\\xb4a\\xc3\\x81?\\xc2\\x8e]\\xc2\\xb2\\xc2\\xa9\\xc2\\x9be\\xc3\\x90?\\xc3\\x92\\xc3\\xaeS\\xc3\\x927=\\xc2\\x8a?o\\x0e\\xc2\\xa1\\xc2\\x81\\xc2\\xbe\\xc2\\xb2\\xc2\\x8c?$\\xc2\\x98\\xc2\\xa6\\xc3\\xb0\\xc2\\x80Z\\xc3\\x80?\\xc3\\xb6\\xc2\\xadrP\\xc2\\xa6\\xc3\\x90\\xc3\\x99?,\\xc3\\x95\\xc2\\x94f.\\xc3\\x9e\\xc3\\x82?\\xc3\\x8f\\xc2\\xa1m\\xc2\\x80}\\xc2\\x93\\xc3\\x92?\\xc3\\xad\\xc3\\x80\\xc2\\x83`~~\\xc2\\x8e?\\xc2\\xb2\\xc2\\xb8\\xc3\\x9d\\x07\\t\\xc2\\xb9\\xc2\\x90?J\\x00\\xc2\\xb0\\xc3\\x85\\xc3\\x99q\\xc2\\xb8?\\xc3\\xb2\\xc2\\xb9\\xc2\\xa4\\xc3\\x9d\\xc2\\xbc\\xc3\\xb4\\xc3\\x98?\\xc2\\xb6\\xc3\\xbd\\xc3\\xb4\\xc2\\xa8\\xc2\\xb5\\x0f\\xc3\\x84?M\\xc2\\x9e\\xc3\\xbcN\\xc2\\xa1\\xc2\\x9f\\xc3\\x94?0\\xc3\\xb6\\xc2\\x96\\xc3\\xa0\\xc3\\xb8[\\xc2\\x91?\\n\\xc2\\x97\\xc3\\xab\\xc3\\xb6\\x0f\\x19\\xc2\\x93?(r\\xc3\\x97NiF\\xc2\\xb2?\\xc2\\xa9\\xc2\\x9fg\\x1d\\xc2\\x86\\xc3\\x92\\xc3\\x97?\\xc3\\xafE}\\xc2\\xae\\xc3\\x9f\\x01\\xc3\\x85?2wu\\xc2\\xa9\\x13\\xc2\\x8c\\xc3\\x96?\\xc3\\xa2\\xc3\\xb4\\x19z\\x19w\\xc2\\x93?R\\xc2\\xa5\\xc3\\x8ch\\xc2\\xa7v\\xc2\\x95?\\x07\\xc3\\xbdz\\x06XX\\xc2\\xab?b7&7\\xc3\\x8c\\xc2\\x88\\xc3\\x96?9\\xc2\\x91\\x1d\\xc3\\x91w\\xc2\\xb9\\xc3\\x85?\\xc2\\x83\\x16;<\\xc2\\x90Y\\xc3\\x98?\\xc2\\xab\"8\\xc3\\x86b\\xc2\\x8d\\xc2\\x95?7{\\xc3\\x90mg\\xc3\\x90\\xc2\\x97?\\xc2\\x83>\\xc2\\xbe@\\xc2\\xbe~\\xc2\\xa4?\\xc3\\xa4w\\xc2\\x9c\\xc2\\xab\\x08+\\xc3\\x95?Y\\xc3\\x87\\xc3\\xb4\"\\xc3\\x81<\\xc3\\x86?w\\xc3\\x90\\xc3\\xae\\x13\\x1e\\n\\xc3\\x9a?\\xc3\\x95\\xc2\\x9a]{\\x1d\\xc2\\xa1\\xc2\\x97?\\xc2\\xa1\\'\\xc3\\x8b\\xc3\\xb2\\xc3\\xb0(\\xc2\\x9a?\\xc2\\x95\\xc3\\x8c\\xc2\\xa8\\n\\xc3\\x9a\\xc2\\xac\\xc2\\x9e?NLR=\\xc3\\x9c\\xc3\\x86\\xc3\\x93?\\xc3\\x89\\xc2\\x8f<\\x12\\xc2\\xa8\\xc2\\x99\\xc3\\x86?Q\\xc3\\xa5\\xc3\\xa6L\\xc2\\xb8\\xc2\\x9e\\xc3\\x9b?\\xc2\\x9f\\xc2\\xaaZNR\\xc2\\xac\\xc2\\x99?\\xc2\\x9d\\xc3\\xb0\\xc2\\x84qJ\\xc2\\x80\\xc2\\x9c?\\xc3\\x9f\\xc3\\xb9\\xc3\\x8aN\\xc3\\xa4\\xc3\\xbe\\xc2\\x96?;\\xc2\\x90\\xc3\\x90,\\xc3\\xadd\\xc3\\x92?0HwW\\xc3\\xa4\\xc3\\x8d\\xc3\\x86?\\xc2\\x9f\\xc2\\x8a\\xc2\\xaf\\xc3\\xba$\\x1b\\xc3\\x9d?\\xc2\\x8cB\\x18)\\x1c\\xc2\\xbc\\xc2\\x9b?z\\xc3\\x94`T\\xc2\\xba\\xc3\\x94\\xc2\\x9e?l\\xc3\\x88\\xc2\\x81\\xc3\\x9d\\x12E\\xc2\\x91?\\xc2\\xbf\\x1e\\xc2\\x9f{\\xc2\\x92\\x0e\\xc3\\x91?O\\xc3\\x88\\xc2\\xa8Y\\xc3\\xa1\\xc3\\x9e\\xc3\\x86?\\x0c\\xc3\\x81X\\xc2\\xb4\\x07\\x7f\\xc3\\x9e?\\xc2\\x9f\\x15\\xc3\\xb5\\xc3\\xbcf\\xc2\\xbf\\xc2\\x9d?bqb,l\\xc2\\x95\\xc2\\xa0?K\\xc3\\x9c{\\xc2\\xb6H\\xc3\\xa5\\xc2\\x89?om\\x10\\x0b\\xc3\\x93\\xc2\\x8e\\xc3\\x8f?\\xc2\\x85\\xc2\\xba\\xc2\\x85o\\xc3\\xa4\\xc3\\x94\\xc3\\x86?\\xc3\\xa4\\xc3\\xaf4\\xc2\\x86\\xc2\\x9c\\xc3\\x8a\\xc3\\x9f?\\xc2\\x92)\\xc3\\x9d\\xc3\\xb5\\x1f\\xc3\\x86\\xc2\\x9f?2Ur\\xc2\\xbb\\xc3\\x9b\\xc2\\xbf\\xc2\\xa1?\\xc3\\xbb\\xc2\\x8f\\xc3\\xa6\\xc3\\x97t}\\xc2\\x83?\\xc3\\xb7\\xc3\\x80\\xc3\\x97X\\n \\xc3\\x8d?o\\x17\\xc3\\x94\\xc3\\x94b\\xc2\\xb2\\xc3\\x86?\\xc2\\x9b\\xc2\\xb1\\xc2\\x9d\\xc3\\xb4\\xc3\\x81\\xc2\\x80\\xc3\\xa0?\\xc3\\x93\\x17\\xc2\\xbf\\xc2\\xa9\\x05\\xc3\\xa2\\xc2\\xa0?\\xc3\\xa2\\xc3\\x88\\xc2\\xbc\\x1f\\xc3\\x89\\xc3\\xa8\\xc2\\xa2?\\xc3\\x86\\xc2\\xb6p\\xc2\\x95bC}?\\xc3\\x8a\\x1c\\x03\\xc2\\x82n\\xc3\\x97\\xc3\\x8a?\\nh\\xc2\\xbd\\xc2\\xa18y\\xc3\\x86?l\\xc2\\x9c\\xc3\\xaa\\xc2\\xb8c\\x12\\xc3\\xa1?5\\xc3\\x89\\xc2\\x8a\\xc2\\xbd\\xc3\\xa5\\xc3\\x9f\\xc2\\xa1?\\xc3\\x9cE\\x1b\\xc3\\x92\\xc3\\x95\\x0e\\xc2\\xa4?q\\x11h\\x05\\x86q\\x12Rq\\x13tq\\x14b.')"
   ]
  },
  {
   "cell_type": "code",
   "execution_count": 77,
   "metadata": {
    "collapsed": true,
    "jupyter": {
     "outputs_hidden": true
    }
   },
   "outputs": [],
   "source": [
    "fullList = np.vstack((trueRate_1, trueRate_2, rateList[1:]))"
   ]
  },
  {
   "cell_type": "markdown",
   "metadata": {},
   "source": [
    "1-17人局概率全列表，1、2人为真值，其余0.0001精度的蒙特卡罗值"
   ]
  },
  {
   "cell_type": "code",
   "execution_count": 78,
   "metadata": {},
   "outputs": [
    {
     "data": {
      "text/plain": [
       "array([[ 0.7439,  0.1694,  0.0326,  0.0496,  0.0022,  0.0024],\n",
       "       [ 0.5537,  0.2805,  0.0606,  0.0962,  0.0043,  0.0047],\n",
       "       [ 0.4124,  0.3496,  0.0844,  0.14  ,  0.0065,  0.007 ],\n",
       "       [ 0.3075,  0.3887,  0.1047,  0.1812,  0.0086,  0.0094],\n",
       "       [ 0.2293,  0.4068,  0.1217,  0.2198,  0.0107,  0.0117],\n",
       "       [ 0.1711,  0.4101,  0.1358,  0.2562,  0.0128,  0.014 ],\n",
       "       [ 0.1278,  0.4034,  0.1474,  0.2903,  0.0149,  0.0163],\n",
       "       [ 0.0955,  0.3899,  0.1567,  0.3222,  0.017 ,  0.0187],\n",
       "       [ 0.0714,  0.3722,  0.1641,  0.3523,  0.019 ,  0.021 ],\n",
       "       [ 0.0534,  0.3521,  0.1697,  0.3805,  0.021 ,  0.0233],\n",
       "       [ 0.04  ,  0.3308,  0.1737,  0.4069,  0.0231,  0.0255],\n",
       "       [ 0.03  ,  0.309 ,  0.1766,  0.4316,  0.0251,  0.0278],\n",
       "       [ 0.0225,  0.2874,  0.1782,  0.4548,  0.0271,  0.0301],\n",
       "       [ 0.0169,  0.2665,  0.1787,  0.4765,  0.0291,  0.0324],\n",
       "       [ 0.0126,  0.2465,  0.1784,  0.4967,  0.031 ,  0.0347],\n",
       "       [ 0.0095,  0.2275,  0.1773,  0.5157,  0.033 ,  0.0369],\n",
       "       [ 0.0071,  0.2097,  0.1756,  0.5335,  0.0349,  0.0392]])"
      ]
     },
     "execution_count": 78,
     "metadata": {},
     "output_type": "execute_result"
    }
   ],
   "source": [
    "fullList"
   ]
  },
  {
   "cell_type": "markdown",
   "metadata": {},
   "source": [
    "## 近似计算方法"
   ]
  },
  {
   "cell_type": "markdown",
   "metadata": {},
   "source": [
    "$A_n$为事件第$n$人取到某牌面集合中的牌。以3为例，把积事件概率按乘法公式展开：\n",
    "$$\n",
    "p(A_1 A_2 A_3)=p(A_1)\\times p(A_2|A_1)\\times p(A_3|A_1 A_2)$$\n",
    "\n",
    "将等号右边的条件概率用全局概率近似替代有：\n",
    "$$\n",
    "p(A_1 A_2 A_3)=p(A_1)^3\n",
    "$$\n",
    "\n",
    "第一人的概率即为全局概率  \n",
    "推广到更多人，$p(A_1 A_2 \\cdots A_n)=p(A_1)^n$"
   ]
  },
  {
   "cell_type": "markdown",
   "metadata": {},
   "source": [
    "比如全场最大不超过顺子等价于所有人都取到“小于等于顺子”这个牌面集合中的牌，所以要先把单独概率累加得到小于等于某类型牌概率。  \n",
    "乘方完再差分得到全场最大“等于”顺子的概率。"
   ]
  },
  {
   "cell_type": "code",
   "execution_count": 79,
   "metadata": {},
   "outputs": [
    {
     "data": {
      "text/plain": [
       "array([ 0.7439,  0.1694,  0.0326,  0.0496,  0.0022,  0.0024])"
      ]
     },
     "execution_count": 79,
     "metadata": {},
     "output_type": "execute_result"
    }
   ],
   "source": [
    "trueRate_1 #全局概率"
   ]
  },
  {
   "cell_type": "code",
   "execution_count": 80,
   "metadata": {},
   "outputs": [
    {
     "data": {
      "text/plain": [
       "array([ 0.7439,  0.9133,  0.9459,  0.9955,  0.9976,  1.    ])"
      ]
     },
     "execution_count": 80,
     "metadata": {},
     "output_type": "execute_result"
    }
   ],
   "source": [
    "underRate = trueRate_1.cumsum()\n",
    "underRate"
   ]
  },
  {
   "cell_type": "code",
   "execution_count": 81,
   "metadata": {
    "collapsed": true,
    "jupyter": {
     "outputs_hidden": true
    }
   },
   "outputs": [],
   "source": [
    "apx = underRate**r_['c', 1:18]\n",
    "apxFull = c_[apx[:, 0], np.diff(apx)]"
   ]
  },
  {
   "cell_type": "markdown",
   "metadata": {},
   "source": [
    "乘方运算，在硬件支持乘法平台上，逐次相乘为线性复杂度$O(n)$，分治算法可达$O(log(n))$，其中n为人数  \n",
    "相比穷举及蒙特卡罗方法非常迅速。然而精确度不可估、不可控。"
   ]
  },
  {
   "cell_type": "code",
   "execution_count": 82,
   "metadata": {},
   "outputs": [
    {
     "data": {
      "image/png": "[encoded data removed]",
      "text/plain": [
       "<matplotlib.figure.Figure at 0x14bd2d01c50>"
      ]
     },
     "metadata": {},
     "output_type": "display_data"
    }
   ],
   "source": [
    "plt.figure(figsize=(12, 9))\n",
    "plot(np.arange(1, 18), fullList, '-o')\n",
    "plot(np.arange(1, 18), apxFull, '--')\n",
    "plt.legend(['MonteCarlo ' + n for n in TypeNames] \n",
    "           + ['approximate ' + n for n in TypeNames]);"
   ]
  },
  {
   "cell_type": "markdown",
   "metadata": {},
   "source": [
    "如上图，和蒙特卡罗方法的解非常接近  \n",
    "误差变化如下："
   ]
  },
  {
   "cell_type": "code",
   "execution_count": 83,
   "metadata": {},
   "outputs": [
    {
     "data": {
      "image/png": "[encoded data removed]",
      "text/plain": [
       "<matplotlib.figure.Figure at 0x14bd2d6f710>"
      ]
     },
     "metadata": {},
     "output_type": "display_data"
    }
   ],
   "source": [
    "plot(np.arange(1, 18), apxFull - fullList)\n",
    "\n",
    "plot(\n",
    "    np.arange(1, 18),\n",
    "    np.abs(apxFull - fullList).mean(axis=1),\n",
    "    '--',\n",
    "    color='gray')\n",
    "plt.legend(TypeNames + ['mean']);"
   ]
  },
  {
   "cell_type": "markdown",
   "metadata": {},
   "source": [
    "总体上人数越多，误差越大"
   ]
  },
  {
   "cell_type": "code",
   "execution_count": 84,
   "metadata": {},
   "outputs": [
    {
     "data": {
      "text/plain": [
       "matrix([[  3.5314e-04,  -2.7443e-04,  -1.1849e-05,  -6.5959e-05,\n",
       "          -3.0842e-07,  -5.9378e-07]])"
      ]
     },
     "execution_count": 84,
     "metadata": {},
     "output_type": "execute_result"
    }
   ],
   "source": [
    "trueRate_2 - apxFull[1]"
   ]
  },
  {
   "cell_type": "markdown",
   "metadata": {},
   "source": [
    "二人局的近似计算值与真值相差很小，而且越大的牌相差越小，因为此时条件概率中的条件更易达成，影响更小"
   ]
  },
  {
   "cell_type": "markdown",
   "metadata": {},
   "source": [
    "## 总结"
   ]
  },
  {
   "cell_type": "markdown",
   "metadata": {},
   "source": [
    "### 概率"
   ]
  },
  {
   "cell_type": "markdown",
   "metadata": {},
   "source": [
    "每种类型的牌全场最大的概率随人数的变化曲线："
   ]
  },
  {
   "cell_type": "code",
   "execution_count": 85,
   "metadata": {},
   "outputs": [
    {
     "data": {
      "image/png": "[encoded data removed]",
      "text/plain": [
       "<matplotlib.figure.Figure at 0x14bd2e2af60>"
      ]
     },
     "metadata": {},
     "output_type": "display_data"
    }
   ],
   "source": [
    "plt.figure(figsize=(12, 9))\n",
    "plot(np.arange(1, 18), fullList, '-o')\n",
    "plt.legend(TypeNames)\n",
    "plt.xticks(range(1, 18))\n",
    "plt.xlabel('Number of people')\n",
    "plt.ylabel('Chance');"
   ]
  },
  {
   "cell_type": "code",
   "execution_count": 86,
   "metadata": {},
   "outputs": [
    {
     "data": {
      "image/png": "[encoded data removed]",
      "text/plain": [
       "<matplotlib.figure.Figure at 0x14bd2e5bb00>"
      ]
     },
     "metadata": {},
     "output_type": "display_data"
    }
   ],
   "source": [
    "plot(np.arange(1, 18), fullList[:, -2:], '-o')\n",
    "plt.legend(TypeNames[-2:]);"
   ]
  },
  {
   "cell_type": "markdown",
   "metadata": {},
   "source": [
    "绘制累加后的条形图："
   ]
  },
  {
   "cell_type": "code",
   "execution_count": 87,
   "metadata": {
    "collapsed": true,
    "jupyter": {
     "outputs_hidden": true
    }
   },
   "outputs": [],
   "source": [
    "cuFull=fullList.cumsum(axis=1)"
   ]
  },
  {
   "cell_type": "code",
   "execution_count": 88,
   "metadata": {},
   "outputs": [
    {
     "data": {
      "image/png": "[encoded data removed]",
      "text/plain": [
       "<matplotlib.figure.Figure at 0x14bd2c64c88>"
      ]
     },
     "metadata": {},
     "output_type": "display_data"
    }
   ],
   "source": [
    "plt.figure(figsize=(12, 9))\n",
    "plt.bar(np.arange(1, 18), fullList[:, 0])\n",
    "for i in range(1, 6):\n",
    "    plt.bar(np.arange(1, 18), fullList[:, i], bottom=cuFull[:, i - 1])\n",
    "\n",
    "plt.legend(TypeNames)\n",
    "plt.axhline(0.5, linestyle='--', color='w')\n",
    "plt.axhline(0.25, linestyle='--', color='w')\n",
    "plt.axhline(0.75, linestyle='--', color='w')\n",
    "plt.xticks(range(1, 18))\n",
    "plt.xlabel('Number of people')\n",
    "plt.ylabel('Chance');"
   ]
  },
  {
   "cell_type": "markdown",
   "metadata": {},
   "source": [
    "例如8人局的时候，你拿到一副小顺子，此时有一半可能场上有比你大的牌"
   ]
  },
  {
   "cell_type": "markdown",
   "metadata": {},
   "source": [
    "### 方法"
   ]
  },
  {
   "cell_type": "markdown",
   "metadata": {},
   "source": [
    "穷举法|蒙特卡罗法|近似计算\n",
    ":-:|:-:|:-:|:-:\n",
    "复杂度|指数<br>随人数|$O(n^2)$<br>随精度|$O(log(n))$<br>随人数\n",
    "速度|非常慢|可控|非常快\n",
    "精度|无误差|可控|不可估\n",
    "总评|不现实|可接受|可接受"
   ]
  },
  {
   "cell_type": "code",
   "execution_count": null,
   "metadata": {},
   "outputs": [],
   "source": []
  }
 ],
 "metadata": {
  "kernelspec": {
   "display_name": "Julia 1.3.1",
   "language": "julia",
   "name": "julia-1.3"
  },
  "language_info": {
   "file_extension": ".jl",
   "mimetype": "application/julia",
   "name": "julia",
   "version": "1.3.1"
  },
  "toc": {
   "colors": {
    "hover_highlight": "#DAA520",
    "navigate_num": "#000000",
    "navigate_text": "#333333",
    "running_highlight": "#FF0000",
    "selected_highlight": "#FFD700",
    "sidebar_border": "#EEEEEE",
    "wrapper_background": "#FFFFFF"
   },
   "moveMenuLeft": true,
   "nav_menu": {
    "height": "104px",
    "width": "252px"
   },
   "navigate_menu": true,
   "number_sections": true,
   "sideBar": true,
   "skip_h1_title": false,
   "threshold": 4,
   "toc_cell": true,
   "toc_position": {
    "height": "414px",
    "left": "0px",
    "right": "871.5px",
    "top": "106px",
    "width": "153px"
   },
   "toc_section_display": "block",
   "toc_window_display": true,
   "widenNotebook": false
  },
  "varInspector": {
   "cols": {
    "lenName": 16,
    "lenType": 16,
    "lenVar": 40
   },
   "kernels_config": {
    "python": {
     "delete_cmd_postfix": "",
     "delete_cmd_prefix": "del ",
     "library": "var_list.py",
     "varRefreshCmd": "print(var_dic_list())"
    },
    "r": {
     "delete_cmd_postfix": ") ",
     "delete_cmd_prefix": "rm(",
     "library": "var_list.r",
     "varRefreshCmd": "cat(var_dic_list()) "
    }
   },
   "types_to_exclude": [
    "module",
    "function",
    "builtin_function_or_method",
    "instance",
    "_Feature"
   ],
   "window_display": false
  }
 },
 "nbformat": 4,
 "nbformat_minor": 4
}
